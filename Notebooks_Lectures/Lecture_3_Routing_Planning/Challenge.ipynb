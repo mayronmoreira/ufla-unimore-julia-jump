{
 "cells": [
  {
   "cell_type": "markdown",
   "metadata": {},
   "source": [
    "# On modelling optimization problems via Julia JuMP\n",
    "\n",
    "## Prof. Mayron César O. Moreira \n",
    "\n",
    "**Universidade Federal de Lavras (UFLA)**  \n",
    "**Department of Computer Science**  \n",
    "**Lavras, Minas Gerais, Brazil**  \n",
    "\n",
    "*Università degli Studi di Modena e Reggio Emilia (UNIMORE)*  \n",
    "*Reggio Emilia, Italy*"
   ]
  },
  {
   "cell_type": "markdown",
   "metadata": {},
   "source": [
    "## Another formulation for the MTSP\n",
    "\n",
    "According to Laporte et al. (2004), the MTSP can have a formulation based on TSP model. The authors indicate that the job sequence can be seen as a vertex of the graph and the distance between two vertices is the number of tool switches. Now, our objective is to implement this model and attest this similarity between these two NP-Hard problems. To see how this model works, see the file \"*Exact algorithms for the job sequencing and tool switching problem*\" at folder \"*files*\". To implement MTZ inequalities, see the last exercise of the Lecture 1 (*Notebook_Answers/Lecture_1_Modelling.JuMP-Exercises.ipynb*).\n",
    "\n",
    "**Observation**: the similarity between the TSP and MTSP can also be view in some approaches that try to model the MTSP as a Generalized TSP. For further details, see [Moreira (2016)](http://www.teses.usp.br/teses/disponiveis/55/55134/tde-06012017-104534/en.php)."
   ]
  },
  {
   "cell_type": "markdown",
   "metadata": {},
   "source": [
    "* **Reading data**"
   ]
  },
  {
   "cell_type": "code",
   "execution_count": 7,
   "metadata": {},
   "outputs": [],
   "source": [
    "include(\"codes/instanceMTSP.jl\")\n",
    "\n",
    "fileInstance = \"instances/mtsp/groupA-L1-1.txt\"\n",
    "\n",
    "# Reading instance\n",
    "io = open(fileInstance)\n",
    "instance = readMTSP(io)\n",
    ";"
   ]
  },
  {
   "cell_type": "markdown",
   "metadata": {},
   "source": [
    "* **Parameters (Sets and constants)**"
   ]
  },
  {
   "cell_type": "code",
   "execution_count": 8,
   "metadata": {},
   "outputs": [],
   "source": [
    "n = instance.n\n",
    "m = instance.m\n",
    "J = instance.J\n",
    "T = instance.T\n",
    "C = instance.C\n",
    ";"
   ]
  },
  {
   "cell_type": "markdown",
   "metadata": {},
   "source": [
    "### MTSP: mathematical formulation (Laporte et al., 2004)\n",
    "\n",
    "* **Creating model**"
   ]
  },
  {
   "cell_type": "code",
   "execution_count": 10,
   "metadata": {},
   "outputs": [],
   "source": [
    "using JuMP, Cbc\n",
    "model = Model(with_optimizer(Cbc.Optimizer))\n",
    ";"
   ]
  },
  {
   "cell_type": "code",
   "execution_count": 11,
   "metadata": {},
   "outputs": [
    {
     "name": "stdout",
     "output_type": "stream",
     "text": [
      "Let´s model it!\n"
     ]
    }
   ],
   "source": [
    "println(\"Let´s model it!\")"
   ]
  },
  {
   "cell_type": "markdown",
   "metadata": {},
   "source": [
    "## References\n",
    "\n",
    "Laporte, G., Salazar-González, J. J., & Semet, F. (2004). Exact algorithms for the job sequencing and tool switching problem. IIE Transactions, 36(1), 37-45.\n",
    "\n",
    "Moreira, A. C. B. (2016). O problema de minimização de trocas de ferramentas (Doctoral dissertation, Universidade de São Paulo)."
   ]
  }
 ],
 "metadata": {
  "kernelspec": {
   "display_name": "Julia 1.1.0",
   "language": "julia",
   "name": "julia-1.1"
  },
  "language_info": {
   "file_extension": ".jl",
   "mimetype": "application/julia",
   "name": "julia",
   "version": "1.1.0"
  }
 },
 "nbformat": 4,
 "nbformat_minor": 2
}

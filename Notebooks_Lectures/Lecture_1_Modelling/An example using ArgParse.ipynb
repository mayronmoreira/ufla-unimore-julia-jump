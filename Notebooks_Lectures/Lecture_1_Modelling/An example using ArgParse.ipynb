{
 "cells": [
  {
   "cell_type": "markdown",
   "metadata": {},
   "source": [
    "# On modelling optimization problems via Julia JuMP\n",
    "\n",
    "## Prof. Mayron César O. Moreira \n",
    "\n",
    "**Universidade Federal de Lavras (UFLA)**  \n",
    "**Department of Computer Science**  \n",
    "**Lavras, Minas Gerais, Brazil**  \n",
    "\n",
    "*Università degli Studi di Modena e Reggio Emilia (UNIMORE)*  \n",
    "*Reggio Emilia, Italy*"
   ]
  },
  {
   "cell_type": "markdown",
   "metadata": {},
   "source": [
    "## Some tips to use \"ArgParse\" package\n",
    "\n",
    "A parametrization scheme is important to automatize a set of numerical experiments to test a model or an algorithm. As follows, we show a way to perform parametrization in Julia, using the   package *\"ArgParse\"*."
   ]
  },
  {
   "cell_type": "markdown",
   "metadata": {},
   "source": [
    "* **Including the library**"
   ]
  },
  {
   "cell_type": "code",
   "execution_count": 2,
   "metadata": {},
   "outputs": [],
   "source": [
    "using ArgParse"
   ]
  },
  {
   "cell_type": "markdown",
   "metadata": {},
   "source": [
    "Suppose that we have implemented three different models at the file \"*models.jl*\". Then, to solve a given instance, we need to execute:\n",
    "\n",
    "julia models.jl --in inputData --m typeModel --time timeLimitModel --out outPutFile\n",
    "\n",
    "where:\n",
    "\n",
    "* inputData: a file which contains the data of the problem;\n",
    "* typeModel: an identifier that represents the model you want to run (1 for model1, 2 for model 2, and 3 for model3);\n",
    "* timeLimitModel: time limit that the model can be interrupted;\n",
    "* outPutFile: a file where the results will be printed.\n",
    "\n",
    "In Julia, to handle these parameters, we need to write:"
   ]
  },
  {
   "cell_type": "code",
   "execution_count": 3,
   "metadata": {},
   "outputs": [
    {
     "data": {
      "text/plain": [
       "ArgParseSettings(\n",
       "  prog=\n",
       "  description=\n",
       "  epilog=\n",
       "  usage=\n",
       "  version=Unspecified version\n",
       "  add_help=true\n",
       "  add_version=false\n",
       "  fromfile_prefix_chars=Set(Char[])\n",
       "  autofix_names=false\n",
       "  error_on_conflict=true\n",
       "  suppress_warnings=false\n",
       "  allow_ambiguous_opts=false\n",
       "  commands_are_required=true\n",
       "  default_group=\n",
       "  exc_handler=ArgParse.default_handler\n",
       "  preformatted_description=false\n",
       "  preformatted_epilog=false\n",
       "  exit_after_help=true\n",
       "  >> usage: <PROGRAM> --in IN [--m M] [--time TIME] --out OUT\n",
       "  )"
      ]
     },
     "execution_count": 3,
     "metadata": {},
     "output_type": "execute_result"
    }
   ],
   "source": [
    "## Checking the input data\n",
    "s = ArgParseSettings()\n",
    "\n",
    "@add_arg_table s begin\n",
    "    \"--in\"\n",
    "      help=\"Input Data for the Problem X\"\n",
    "      required=true\n",
    "    \"--m\"\n",
    "      arg_type=String\n",
    "      help=\"To test: 1 - model1; 2 - model2; 3 - model3\"\n",
    "      default=\"1\"\n",
    "    \"--time\"\n",
    "      arg_type=Float64\n",
    "      help=\"Time limit to run the model\"\n",
    "      default=600.0\n",
    "    \"--out\"\n",
    "      arg_type=String\n",
    "      help=\"Output file\"\n",
    "      required=true\n",
    "end"
   ]
  },
  {
   "cell_type": "markdown",
   "metadata": {},
   "source": [
    "Look that there are some parameters that we must include in the calling of the software, since they are required (see, for example: \"--in\" and  \"--out\"). The other ones we assume default values whether the user do not mention them (see, for example: \"--m\" and  \"--time\"). Now, we assign these values for the appropriate variables.\n",
    "\n",
    "**Note**: to test this example below, open your terminal and type **julia models.jl --in inputData --m typeModel --time timeLimitModel --out outPutFile**, taking that you have a file called models.jl with a number of models implemented."
   ]
  },
  {
   "cell_type": "code",
   "execution_count": 4,
   "metadata": {},
   "outputs": [],
   "source": [
    "## Reading all parameters\n",
    "#args = parse_args(s)\n",
    "\n",
    "## Input Data\n",
    "#input = args[\"in\"]\n",
    "\n",
    "## Model Type\n",
    "#mtype = args[\"m\"] \n",
    "\n",
    "## Time limit\n",
    "#tlimit = args[\"time\"] \n",
    "\n",
    "## Output file\n",
    "#outFile = args[\"out\"] \n",
    "\n",
    "#println(\"Now you can call the function that solves the problem!\")"
   ]
  }
 ],
 "metadata": {
  "kernelspec": {
   "display_name": "Julia 1.1.0",
   "language": "julia",
   "name": "julia-1.1"
  },
  "language_info": {
   "file_extension": ".jl",
   "mimetype": "application/julia",
   "name": "julia",
   "version": "1.1.0"
  }
 },
 "nbformat": 4,
 "nbformat_minor": 2
}

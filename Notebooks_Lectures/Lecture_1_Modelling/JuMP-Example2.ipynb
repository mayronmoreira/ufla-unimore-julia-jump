{
 "cells": [
  {
   "cell_type": "markdown",
   "metadata": {},
   "source": [
    "# On modelling optimization problems via Julia JuMP\n",
    "\n",
    "## Prof. Mayron César O. Moreira \n",
    "\n",
    "**Universidade Federal de Lavras (UFLA)**  \n",
    "**Department of Computer Science**  \n",
    "**Lavras, Minas Gerais, Brazil**  \n",
    "\n",
    "*Università degli Studi di Modena e Reggio Emilia (UNIMORE)*  \n",
    "*Reggio Emilia, Italy*"
   ]
  },
  {
   "cell_type": "markdown",
   "metadata": {},
   "source": [
    "## JuMP: Julia for Mathematical Programming"
   ]
  },
  {
   "cell_type": "markdown",
   "metadata": {},
   "source": [
    "### Problem 2: The Transportation, Transhipment and Assignment problem\n",
    "\n",
    "* This example was adapted from [\"Arenales, M., Morabito, R., Armentano, V., & Yanasse, H. (2015). Pesquisa operacional: para cursos de engenharia. Elsevier Brasil.\"](https://www.amazon.com.br/Pesquisa-Operacional-Para-cursos-engenharia-ebook/dp/B016APOY5U \"Arenales et al. (2015): \\\"PO para Engenharia\\\"\")\n",
    "\n",
    "A beverage distributor has two production centers, Reggio Emilia and Bologna, two warehouses, Parma and Firenze, and three consumer markets, Roma, Napoli and Torino. The production centers must send the products to the warehouses and then transport them to the consumer markets. Deposits have no storage capacity. In the sequence, we show the data of this problem. Note: **the data are artificially chosen. They do not represent the reality**."
   ]
  },
  {
   "cell_type": "code",
   "execution_count": 26,
   "metadata": {},
   "outputs": [
    {
     "data": {
      "text/plain": [
       "Dict{Tuple{String,String},Int64} with 10 entries:\n",
       "  (\"Bologna\", \"Firenze\")       => 2\n",
       "  (\"Reggio Emilia\", \"Parma\")   => 1\n",
       "  (\"Firenze\", \"Napoli\")        => 4\n",
       "  (\"Firenze\", \"Torino\")        => 1\n",
       "  (\"Bologna\", \"Parma\")         => 1\n",
       "  (\"Parma\", \"Roma\")            => 1\n",
       "  (\"Firenze\", \"Roma\")          => 3\n",
       "  (\"Parma\", \"Napoli\")          => 3\n",
       "  (\"Parma\", \"Torino\")          => 3\n",
       "  (\"Reggio Emilia\", \"Firenze\") => 3"
      ]
     },
     "execution_count": 26,
     "metadata": {},
     "output_type": "execute_result"
    }
   ],
   "source": [
    "# OR libraries\n",
    "using JuMP\n",
    "using Clp\n",
    "\n",
    "# Production centers\n",
    "S = [\"Reggio Emilia\",\"Bologna\"]\n",
    "\n",
    "# Warehouses (depots)\n",
    "D = [\"Parma\",\"Firenze\"]\n",
    "\n",
    "# Consumer markets\n",
    "C = [\"Roma\",\"Napoli\",\"Torino\"]\n",
    "\n",
    "# Demands\n",
    "d = Dict(\n",
    "    \"Roma\" => 500,\n",
    "    \"Napoli\" => 400,\n",
    "    \"Torino\" => 900\n",
    ")\n",
    "\n",
    "# Supply\n",
    "o = Dict(\n",
    "    \"Reggio Emilia\" => 800,\n",
    "    \"Bologna\" => 1000\n",
    ")\n",
    "\n",
    "# Transportation costs\n",
    "c = Dict(\n",
    "    (\"Reggio Emilia\",\"Parma\") => 1,\n",
    "    (\"Reggio Emilia\",\"Firenze\") => 3,\n",
    "    (\"Bologna\",\"Parma\") => 1,\n",
    "    (\"Bologna\",\"Firenze\") => 2,\n",
    "    (\"Parma\",\"Roma\") => 1,\n",
    "    (\"Parma\",\"Napoli\") => 3,\n",
    "    (\"Parma\",\"Torino\") => 3,\n",
    "    (\"Firenze\",\"Roma\") => 3,\n",
    "    (\"Firenze\",\"Napoli\") => 4,\n",
    "    (\"Firenze\",\"Torino\") => 1\n",
    ")"
   ]
  },
  {
   "cell_type": "markdown",
   "metadata": {},
   "source": [
    "We perform transportation from production centers to depots, and from depots to consumer markets. Then, all combinations we have are:"
   ]
  },
  {
   "cell_type": "code",
   "execution_count": 27,
   "metadata": {},
   "outputs": [
    {
     "data": {
      "text/plain": [
       "10-element Array{Tuple{String,String},1}:\n",
       " (\"Parma\", \"Roma\")           \n",
       " (\"Firenze\", \"Roma\")         \n",
       " (\"Parma\", \"Napoli\")         \n",
       " (\"Firenze\", \"Napoli\")       \n",
       " (\"Parma\", \"Torino\")         \n",
       " (\"Firenze\", \"Torino\")       \n",
       " (\"Reggio Emilia\", \"Parma\")  \n",
       " (\"Bologna\", \"Parma\")        \n",
       " (\"Reggio Emilia\", \"Firenze\")\n",
       " (\"Bologna\", \"Firenze\")      "
      ]
     },
     "execution_count": 27,
     "metadata": {},
     "output_type": "execute_result"
    }
   ],
   "source": [
    "# Library that will do the combinations of transportation we have among cities\n",
    "using IterTools\n",
    "\n",
    "A = Iterators.product(D,C)\n",
    "B = Iterators.product(S,D)\n",
    "A = union(A,B)"
   ]
  },
  {
   "cell_type": "markdown",
   "metadata": {},
   "source": [
    "**Objective**: to meet consumer market demand, minimizing costs."
   ]
  },
  {
   "cell_type": "markdown",
   "metadata": {},
   "source": [
    "#### Mathematical modeling"
   ]
  },
  {
   "cell_type": "markdown",
   "metadata": {},
   "source": [
    "* **Libraries**"
   ]
  },
  {
   "cell_type": "code",
   "execution_count": null,
   "metadata": {},
   "outputs": [],
   "source": []
  },
  {
   "cell_type": "markdown",
   "metadata": {},
   "source": [
    "* **Building a model object**"
   ]
  },
  {
   "cell_type": "code",
   "execution_count": null,
   "metadata": {},
   "outputs": [],
   "source": []
  },
  {
   "cell_type": "markdown",
   "metadata": {},
   "source": [
    "* **Variables**\n",
    "    * $x_{ij} \\ge 0$: quantity of beverages transported from $i$ to $j$."
   ]
  },
  {
   "cell_type": "code",
   "execution_count": null,
   "metadata": {},
   "outputs": [],
   "source": []
  },
  {
   "cell_type": "markdown",
   "metadata": {},
   "source": [
    "* **Objective function**: minimize transportation costs.\n",
    "\n",
    "\\begin{equation}\n",
    "\\min f(x) = \\sum_{(i,j) \\in A} c_{ij}x_{ij}\n",
    "\\end{equation}"
   ]
  },
  {
   "cell_type": "code",
   "execution_count": null,
   "metadata": {},
   "outputs": [],
   "source": []
  },
  {
   "cell_type": "markdown",
   "metadata": {},
   "source": [
    "* **Constraints**: \n",
    "\n",
    "Quantity transported from sources must respect their supplies: $\\sum_{j \\in D} x_{ij} \\le o_i, \\forall i \\in S$\n",
    "\n",
    "Quantity transported to destination must meet the demands: $\\sum_{i \\in D} x_{ij} = d_j, \\forall j \\in C$\n",
    "\n",
    "Flow control of intermediate nodes: $\\sum_{i \\in S} x_{ij} = \\sum_{k \\in C} x_{jk}, \\forall j \\in D$"
   ]
  },
  {
   "cell_type": "code",
   "execution_count": null,
   "metadata": {},
   "outputs": [],
   "source": []
  },
  {
   "cell_type": "markdown",
   "metadata": {},
   "source": [
    "* **Optimize it!**"
   ]
  },
  {
   "cell_type": "code",
   "execution_count": null,
   "metadata": {},
   "outputs": [],
   "source": []
  },
  {
   "cell_type": "markdown",
   "metadata": {},
   "source": [
    "* **Printing the solution**"
   ]
  },
  {
   "cell_type": "code",
   "execution_count": null,
   "metadata": {},
   "outputs": [],
   "source": []
  },
  {
   "cell_type": "markdown",
   "metadata": {},
   "source": [
    "* **Printing dual variables**"
   ]
  },
  {
   "cell_type": "code",
   "execution_count": null,
   "metadata": {},
   "outputs": [],
   "source": []
  }
 ],
 "metadata": {
  "kernelspec": {
   "display_name": "Julia 1.1.0",
   "language": "julia",
   "name": "julia-1.1"
  },
  "language_info": {
   "file_extension": ".jl",
   "mimetype": "application/julia",
   "name": "julia",
   "version": "1.1.0"
  }
 },
 "nbformat": 4,
 "nbformat_minor": 2
}

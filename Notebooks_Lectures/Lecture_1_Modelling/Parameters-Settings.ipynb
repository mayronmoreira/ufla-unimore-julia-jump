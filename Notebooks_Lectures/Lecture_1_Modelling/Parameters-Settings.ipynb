{
 "cells": [
  {
   "cell_type": "markdown",
   "metadata": {},
   "source": [
    "# On modelling optimization problems via Julia JuMP\n",
    "\n",
    "## Prof. Mayron César O. Moreira \n",
    "\n",
    "**Universidade Federal de Lavras (UFLA)**  \n",
    "**Department of Computer Science**  \n",
    "**Lavras, Minas Gerais, Brazil**  \n",
    "\n",
    "*Università degli Studi di Modena e Reggio Emilia (UNIMORE)*  \n",
    "*Reggio Emilia, Italy*"
   ]
  },
  {
   "cell_type": "markdown",
   "metadata": {},
   "source": [
    "## Parameters settings\n",
    "\n",
    "Parametrization is an essential phase in practical and research problems. As follows, we will present some of the most used parameters in the optimization models. We focus our examples for Cbc solver. For further information about popular solvers such as **Gurobi** and **CPLEX**, see https://github.com/JuliaOpt/Gurobi.jl and https://github.com/JuliaOpt/CPLEX.jl, respectively."
   ]
  },
  {
   "cell_type": "markdown",
   "metadata": {},
   "source": [
    "In this example, we parametrize:\n",
    "\n",
    "* *seconds*: time limit (it must be a Float64);\n",
    "* *logLevel*: equal to one if we want to enable solution output;\n",
    "* *maxSolutions*: maximum number of feasible solutions allowed during the search;\n",
    "* *maxNodes*: maximum number of branch \\& bound nodes allowed during the search;\n",
    "* *allowableGap*: optimility gap allowed to stop searching;\n",
    "* *threads*: number of threads for parallel branch \\& bound."
   ]
  },
  {
   "cell_type": "code",
   "execution_count": null,
   "metadata": {},
   "outputs": [],
   "source": [
    "# Suppose a random instance of knapsack problem\n",
    "n = 1000 # Number of items\n",
    "c = 400 # Capacity\n",
    "w = [rand(50:150) for i=1:n] # Weight\n",
    "v = [rand(50:100) for i=1:n] # Profit\n",
    "\n",
    "# Importing OR-lbraries\n",
    "using JuMP, Cbc\n",
    "\n",
    "#= Our model will have:\n",
    "    seconds = 600\n",
    "    logLevel = 1 (we will output log information)\n",
    "    maxSolutions = 1000\n",
    "    maxNodes = 1000\n",
    "    allowableGap = 10^-3\n",
    "    threads = 1 (single thread)\n",
    "=#\n",
    "model = Model(with_optimizer(Cbc.Optimizer, seconds=600, logLevel=1, \n",
    "        maxSolutions=1000,maxNodes=1000,allowableGap=1e-3,threads=1))\n",
    "\n",
    "# x[i] \\in \\{0,1\\}: one if i is in the knapsack\n",
    "@variable(model, x[1:n], Bin)\n",
    "\n",
    "# Maximize profit\n",
    "@objective(model, Max, sum(v[i]*x[i] for i=1:n))\n",
    "\n",
    "# Capacity constraints\n",
    "@constraint(model, sum(w[i]*x[i] for i=1:n) <= c)\n",
    "\n",
    "# Let´s solve it\n",
    "optimize!(model)\n",
    "\n",
    "println(\"Solution: \", [i for i=1:n if value(x[i]) >= 0.9])"
   ]
  },
  {
   "cell_type": "markdown",
   "metadata": {},
   "source": [
    "Now suppose that you want to start your model with a feasible solution obtained by a heuristic, for example. This warmstart follows this pattern:"
   ]
  },
  {
   "cell_type": "code",
   "execution_count": 8,
   "metadata": {},
   "outputs": [],
   "source": [
    "model = Model(with_optimizer(Cbc.Optimizer))\n",
    "\n",
    "@variable(model, y[1:10] >= 0, Int)\n",
    "\n",
    "init_var = [2, 3, 1, 9, 2, 1, 2, 1, 2, 8]\n",
    "\n",
    "for i=1:10 \n",
    "    set_start_value(y[i], init_var[i])\n",
    "end"
   ]
  }
 ],
 "metadata": {
  "kernelspec": {
   "display_name": "Julia 1.1.0",
   "language": "julia",
   "name": "julia-1.1"
  },
  "language_info": {
   "file_extension": ".jl",
   "mimetype": "application/julia",
   "name": "julia",
   "version": "1.1.0"
  }
 },
 "nbformat": 4,
 "nbformat_minor": 2
}

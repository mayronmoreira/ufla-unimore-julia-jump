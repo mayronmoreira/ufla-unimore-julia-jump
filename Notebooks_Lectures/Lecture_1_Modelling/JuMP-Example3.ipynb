{
 "cells": [
  {
   "cell_type": "markdown",
   "metadata": {},
   "source": [
    "# On modelling optimization problems via Julia JuMP\n",
    "\n",
    "## Prof. Mayron César O. Moreira \n",
    "\n",
    "**Universidade Federal de Lavras (UFLA)**  \n",
    "**Department of Computer Science**  \n",
    "**Lavras, Minas Gerais, Brazil**  \n",
    "\n",
    "*Università degli Studi di Modena e Reggio Emilia (UNIMORE)*  \n",
    "*Reggio Emilia, Italy*"
   ]
  },
  {
   "cell_type": "markdown",
   "metadata": {},
   "source": [
    "## JuMP: Julia for Mathematical Programming"
   ]
  },
  {
   "cell_type": "markdown",
   "metadata": {},
   "source": [
    "### Problem 3: Lot-sizing mono-stage\n",
    "\n",
    "* This example was adapted from [\"Arenales, M., Morabito, R., Armentano, V., & Yanasse, H. (2015). Pesquisa operacional: para cursos de engenharia. Elsevier Brasil.\"](https://www.amazon.com.br/Pesquisa-Operacional-Para-cursos-engenharia-ebook/dp/B016APOY5U \"Arenales et al. (2015): \\\"PO para Engenharia\\\"\")\n",
    "\n",
    "Consider a company that manufactures $n$ products and wants to schedule its production over the next $T$ periods. Each product has a specific demand in each period, which must be exactly met. The costs of production (stock) depend on the quantity produced (stored) and vary according to the item and period. The production of a particular item consumes a certain amount of resource (e.g., water, energy, gas) pre-determined for the period in question. Given this scenario, this enterprise wants to plan the production control of the products in each period, aiming at minimizing production costs and inventory costs."
   ]
  },
  {
   "cell_type": "markdown",
   "metadata": {},
   "source": [
    "#### Mathematical modeling\n",
    "\n",
    "* **Parameters**\n",
    "    * $n$: number of products;\n",
    "    * $T$: number of periods;\n",
    "    * $d_{it}$: demand of item $i$ in the period $t$, $i=1,...,n$ and $t=1,...,T$;\n",
    "    * $R_t$: availability of resources (renewable) in the period $t$;\n",
    "    * $r_i$: amount of resources needed for the production of one unit of item $i$;\n",
    "    * $c_{it}$: production cost for one unit of item $i$ in the period $t$;\n",
    "    * $h_{it}$: inventory costs of item $i$ in the period $t$.\n",
    "    \n",
    "* **Variables**\n",
    "    * $x_{it} \\in \\mathbb{Z}_+$: quantity of item $i$ produced at period $t$;\n",
    "    * $I_{it} \\in \\mathbb{Z}_+$: quantity of item $i$ stored at period $t$.\n",
    "    \n",
    "* **Formulation**\n",
    "\n",
    "\\begin{equation}\n",
    "\\min f(x,I) = \\sum_{i=1}^{n}\\sum_{t=1}^T c_{it}x_{it} + \\sum_{i=1}^{n}\\sum_{t=1}^T h_{it}I_{it}\n",
    "\\end{equation}\n",
    "\n",
    "suject to:\n",
    "\n",
    "\\begin{equation}\n",
    "I_{i,t-1} + x_{it} - I_{it} = d_{it} \\qquad i=1,...,n,t=1,...,T\n",
    "\\end{equation}\n",
    "\n",
    "\\begin{equation}\n",
    "\\sum_{i=1}^{n}r_{i}x_{it} \\le R_t \\qquad t=1,...,T\n",
    "\\end{equation}\n",
    "\n",
    "\\begin{equation}\n",
    "x_{it} \\in \\mathbb{Z}_+ \\qquad i=1,...,n,t=1,...,T\n",
    "\\end{equation}\n",
    "\n",
    "\\begin{equation}\n",
    "I_{it} \\in \\mathbb{Z}_+ \\qquad i=1,...,n,t=1,...,T\n",
    "\\end{equation}"
   ]
  },
  {
   "cell_type": "markdown",
   "metadata": {},
   "source": [
    "* **Parameters in Julia**"
   ]
  },
  {
   "cell_type": "code",
   "execution_count": 1,
   "metadata": {},
   "outputs": [
    {
     "data": {
      "text/plain": [
       "3-element Array{Array{Int64,1},1}:\n",
       " [50, 20] \n",
       " [40, 60] \n",
       " [100, 80]"
      ]
     },
     "execution_count": 1,
     "metadata": {},
     "output_type": "execute_result"
    }
   ],
   "source": [
    "# Number of items\n",
    "n = 3\n",
    "\n",
    "# Number of periods\n",
    "T = 2\n",
    "\n",
    "# Production costs (another way to declare a matrix)\n",
    "c = [[100,80],\n",
    "     [60,80],\n",
    "     [30,200]]\n",
    "\n",
    "# Inventory costs\n",
    "h = [[2,2.5],\n",
    "     [3,3.5],\n",
    "     [3.5,3.5]]\n",
    "\n",
    "# Resource vector\n",
    "r = [0.25,0.3,0.3]\n",
    "\n",
    "# Capacity of each period\n",
    "R = [200,250]\n",
    "\n",
    "# Demands for each item, in each period\n",
    "d = [[50,20],\n",
    "     [40,60],\n",
    "     [100,80]]"
   ]
  },
  {
   "cell_type": "markdown",
   "metadata": {},
   "source": [
    "Sometimes we will need to read input files by a spreadsheet. For that purpose, I suggest to the reader \"*DataFrame*\" package: https://juliadata.github.io/DataFrames.jl/stable/man/getting_started.html."
   ]
  },
  {
   "cell_type": "markdown",
   "metadata": {},
   "source": [
    "* **OR libraries**"
   ]
  },
  {
   "cell_type": "code",
   "execution_count": 4,
   "metadata": {},
   "outputs": [],
   "source": [
    "using JuMP, Cbc"
   ]
  },
  {
   "cell_type": "markdown",
   "metadata": {},
   "source": [
    "* **Object Model**"
   ]
  },
  {
   "cell_type": "code",
   "execution_count": null,
   "metadata": {},
   "outputs": [],
   "source": []
  },
  {
   "cell_type": "markdown",
   "metadata": {},
   "source": [
    "* **Variables**"
   ]
  },
  {
   "cell_type": "code",
   "execution_count": null,
   "metadata": {},
   "outputs": [],
   "source": []
  },
  {
   "cell_type": "markdown",
   "metadata": {},
   "source": [
    "* **Objective function**"
   ]
  },
  {
   "cell_type": "code",
   "execution_count": null,
   "metadata": {},
   "outputs": [],
   "source": []
  },
  {
   "cell_type": "markdown",
   "metadata": {},
   "source": [
    "* **Constraints**"
   ]
  },
  {
   "cell_type": "code",
   "execution_count": null,
   "metadata": {},
   "outputs": [],
   "source": []
  },
  {
   "cell_type": "markdown",
   "metadata": {},
   "source": [
    "* **Optimize it! Then we print the solution**"
   ]
  },
  {
   "cell_type": "code",
   "execution_count": null,
   "metadata": {},
   "outputs": [],
   "source": [
    "start = time()\n",
    "optimize!(model)\n",
    "\n",
    "println(\"Time: $(time()-start)s\")\n",
    "println(\"Objective function = \", objective_value(model))\n",
    "\n",
    "println(\"x\")\n",
    "for i=1:n\n",
    "    for t=1:T\n",
    "        if(value(x[i,t]) > 0)\n",
    "            println(\"x[\", i, \",\", t, \"]: \", value(x[i,t]))\n",
    "        end\n",
    "    end\n",
    "end\n",
    "\n",
    "println(\"I\")\n",
    "for i=1:n\n",
    "    for t=1:T\n",
    "        if(value(I[i,t]) > 0)\n",
    "            println(\"I[\", i, \",\", t, \"]: \", value(I[i,t]))\n",
    "        end\n",
    "    end\n",
    "end"
   ]
  }
 ],
 "metadata": {
  "kernelspec": {
   "display_name": "Julia 1.1.0",
   "language": "julia",
   "name": "julia-1.1"
  },
  "language_info": {
   "file_extension": ".jl",
   "mimetype": "application/julia",
   "name": "julia",
   "version": "1.1.0"
  }
 },
 "nbformat": 4,
 "nbformat_minor": 2
}

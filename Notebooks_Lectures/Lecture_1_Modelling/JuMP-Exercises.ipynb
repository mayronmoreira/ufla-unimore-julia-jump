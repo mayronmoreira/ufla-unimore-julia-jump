{
 "cells": [
  {
   "cell_type": "markdown",
   "metadata": {},
   "source": [
    "# On modelling optimization problems via Julia JuMP\n",
    "\n",
    "## Prof. Mayron César O. Moreira \n",
    "\n",
    "**Universidade Federal de Lavras (UFLA)**  \n",
    "**Department of Computer Science**  \n",
    "**Lavras, Minas Gerais, Brazil**  \n",
    "\n",
    "*Università degli Studi di Modena e Reggio Emilia (UNIMORE)*  \n",
    "*Reggio Emilia, Italy*"
   ]
  },
  {
   "cell_type": "markdown",
   "metadata": {},
   "source": [
    "## JuMP: Julia for Mathematical Programming"
   ]
  },
  {
   "cell_type": "markdown",
   "metadata": {},
   "source": [
    "### Exercise 1 (Take as much as you can!)\n",
    "\n",
    "\"*The binary knapsack problem is defined by the task of taking a set of items, each with a weight, and fitting as many of them into the knapsack while coming as close to, but not exceeding, the maximum weight the knapsack can hold.*\" (https://www.sciencedirect.com/topics/engineering/knapsack-problem)\n",
    "\n",
    "Implement a mathematical model in Julia for the Knapsack problem. To test your model, use the instance **P01**, extracted from \"https://people.sc.fsu.edu/~jburkardt/datasets/knapsack_01/knapsack_01.html\". This instance is at \"instances/\" folder. As follows, we present a function the reads the data."
   ]
  },
  {
   "cell_type": "code",
   "execution_count": null,
   "metadata": {},
   "outputs": [],
   "source": [
    "# We do not need to inform the type returned by the function explicitly.\n",
    "function readKPSK(io::IO)\n",
    "    l = readlines(io) # Now we have all the lines\n",
    "    \n",
    "    c = parse(Float64, l[1]) # Capacity of the knapsack\n",
    "    n = parse(Int, l[2]) # Number of objects\n",
    "    \n",
    "    v = zeros(Float64, n) # A vector with n positions that represents the profit of each item\n",
    "    w = zeros(Float64, n) # A vector with n positions that represents the weight of each item\n",
    "    \n",
    "    for i=1:n\n",
    "        v[i] = parse(Float64, l[i+2])\n",
    "        w[i] = parse(Float64, l[i+n+2])\n",
    "    end\n",
    "    \n",
    "    return (c, n, v, w)\n",
    "end\n",
    "\n",
    "fileInstance=\"instances/P01.txt\" # Name of the file instance\n",
    "io = open(fileInstance) # Using an io object to access the file\n",
    "(c, n, v, w) = readKPSK(io) # Parameters for the knapsack problem\n",
    "close(io) # Close file\n",
    "print(c, \" \", n, \" \", v, \" \", w) # Print input data"
   ]
  },
  {
   "cell_type": "code",
   "execution_count": null,
   "metadata": {},
   "outputs": [],
   "source": [
    "D = []\n",
    "push!(D, 1)\n",
    "\n",
    "E = [0 for i=1:n]"
   ]
  },
  {
   "cell_type": "markdown",
   "metadata": {},
   "source": [
    "#### Getting a feasible solution for the Knapsack problem\n",
    "\n",
    "A greedy heuristic, adapted from the Fractionary Knapsack Problem, can be used to obtain an initial solution for the problem. The idea is to consider a priority list of items based on the descending order of the ratio of profit and weight. As follows, we show a pseudocode of this algorithm, which has the complexity of $O(nlog\\,n)$ (taking into account the sorting phase).\n",
    "\n",
    "**GreedyAlgKPSK($n,v[1..n],w[1..n$)**\n",
    "1. Let $\\mathcal{N}$ be a set of items sorted in descending order by $\\frac{v[i]}{w[i]}$, $i=1,...,n$.\n",
    "1. Let $c_{curr} = c$ be the current capacity of the knapsack.\n",
    "1. Let $v_{curr} = 0$ be the current value of the knapsack.\n",
    "1. Let $\\mathcal{I}$ be the set of items returned as a result.\n",
    "1. **for** i=1 **to** $n$, **do**\n",
    "    1. $x = \\mathcal{N}[i]$\n",
    "    1. **if** $w_{x} \\le c_{curr}$\n",
    "        1. $c_{curr} = c_{curr} - w_{x}$.\n",
    "        1. $v_{curr} = v_{curr} + v_{x}$.\n",
    "        1. $\\mathcal{I} = \\mathcal{I} \\cup \\{x\\}$.\n",
    "1. **return** ($\\mathcal{I},v_{curr}$)"
   ]
  },
  {
   "cell_type": "code",
   "execution_count": null,
   "metadata": {},
   "outputs": [],
   "source": [
    "N = [(i, v[i]/w[i]) for i=1:n]\n",
    "\n",
    "## Sorting the items\n",
    "N = sort(I, lt = (a,b)->a[2]>b[2])\n",
    "\n",
    "println(\"Write our code in this block.\")"
   ]
  },
  {
   "cell_type": "markdown",
   "metadata": {},
   "source": [
    "### Exercise 2 (A game)\n",
    "\n",
    "We want to fill a board of size $n \\times n$ with the following symbols: O and ♥. The condition is that each neighboring cell has EXACTLY 1 neighbor with a different logo. For each cell in the board, we count as a neighbor the upper cell, the lower cell, the right cell and the left cell (if they exist). Propose a programming model in Julia for this problem, maximizing the number of O's present on the board."
   ]
  },
  {
   "cell_type": "code",
   "execution_count": 5,
   "metadata": {},
   "outputs": [
    {
     "name": "stdout",
     "output_type": "stream",
     "text": [
      "Your code here\n"
     ]
    }
   ],
   "source": [
    "println(\"Your code here\")"
   ]
  },
  {
   "cell_type": "markdown",
   "metadata": {},
   "source": [
    "### Exercise 3 (Another game)\n",
    "\n",
    "Consider a board with $3 \\times 4$ squares. Each square contains a number:"
   ]
  },
  {
   "cell_type": "code",
   "execution_count": 6,
   "metadata": {},
   "outputs": [
    {
     "data": {
      "image/png": "[encoded data removed]"
     },
     "metadata": {},
     "output_type": "display_data"
    }
   ],
   "source": [
    "display(\"image/png\", read(\"images/Exerc3.png\"))"
   ]
  },
  {
   "cell_type": "markdown",
   "metadata": {},
   "source": [
    "The objective of the game is to move a pawn from the upper left corner to the lower right corner, through a sequence of moves to the right or down, to minimize the sum of the points corresponding to the squares where it passed. Implement a JuMP model that solves this problem."
   ]
  },
  {
   "cell_type": "code",
   "execution_count": 7,
   "metadata": {},
   "outputs": [
    {
     "name": "stdout",
     "output_type": "stream",
     "text": [
      "Your code here\n"
     ]
    }
   ],
   "source": [
    "println(\"Your code here\")"
   ]
  },
  {
   "cell_type": "markdown",
   "metadata": {},
   "source": [
    "### Exercise 4 (Pokemon-Go Problem)\n",
    "\n",
    "* **Exercise extracted from https://github.com/pedrocastellucci/MathematicalProgrammingCourse/blob/master/examples/Example%2001%20-%20The%20travelling%20salesman%20meets%20Pokemon%20Go.ipynb**\n",
    "\n",
    "[Pokemon Go](https://www.pokemongo.com/it-it/) is a game developed by [Niantic](https://en.wikipedia.org/wiki/Pok%C3%A9mon) which consists in collecting items (or Pokemons) by players through specific placed called Pokestops. Suppose that we have the following Pokestops, represented by their coordinates below.\n",
    "\n",
    "A player wants to leave the Pokestop one, visit all of them and go back to its starting point, with a minimum walking distance. Implement a code in Julia that models and solves this problem.\n",
    "\n",
    "**Tip**: use MTZ inequalities! ;)"
   ]
  },
  {
   "cell_type": "code",
   "execution_count": 8,
   "metadata": {},
   "outputs": [
    {
     "data": {
      "text/plain": [
       "Dict{Int64,Tuple{Int64,Int64}} with 16 entries:\n",
       "  2  => (435, 603)\n",
       "  11 => (332, 330)\n",
       "  0  => (523, 418)\n",
       "  7  => (389, 892)\n",
       "  9  => (383, 913)\n",
       "  10 => (347, 520)\n",
       "  8  => (384, 902)\n",
       "  6  => (419, 818)\n",
       "  4  => (346, 692)\n",
       "  3  => (386, 660)\n",
       "  5  => (431, 730)\n",
       "  13 => (196, 198)\n",
       "  14 => (187, 108)\n",
       "  15 => (210, 63)\n",
       "  12 => (165, 374)\n",
       "  1  => (527, 566)"
      ]
     },
     "execution_count": 8,
     "metadata": {},
     "output_type": "execute_result"
    }
   ],
   "source": [
    "Pokestops = Dict(\n",
    "    0 => (523, 418),\n",
    "    1 => (527, 566),\n",
    "    2 => (435, 603),\n",
    "    3 => (386, 660),\n",
    "    4 => (346, 692),\n",
    "    5 => (431, 730),\n",
    "    6 => (419, 818),\n",
    "    7 => (389, 892),\n",
    "    8 => (384, 902),\n",
    "    9 => (383, 913),\n",
    "    10 => (347, 520),\n",
    "    11 => (332, 330),\n",
    "    12 => (165, 374),\n",
    "    13 => (196, 198),\n",
    "    14 => (187, 108),\n",
    "    15 => (210, 63)\n",
    ")"
   ]
  },
  {
   "cell_type": "code",
   "execution_count": 9,
   "metadata": {},
   "outputs": [
    {
     "name": "stdout",
     "output_type": "stream",
     "text": [
      "Your code here\n"
     ]
    }
   ],
   "source": [
    "println(\"Your code here\")"
   ]
  },
  {
   "cell_type": "markdown",
   "metadata": {},
   "source": [
    "The *Pokemon-Go Problem* can also be modeled using DFJ (Dantzig-Fulkerson-Johnson) sub-cycle constraints, which has exponential number of inequalities. Thus, we can solve this problem by iteratively adding inequalities to eliminate sub-cycles. Another way to deal with this situation is to apply *lazy constraints* to the model. As far as we know, JuMP 0.19 does not have *lazy constraints* still implemented, according to [Lubin (2018)](https://www.juliaopt.org/meetings/bordeaux2018/lubin.pdf). We look forward to making this feature available!\n",
    "\n",
    "To see how *lazy constraints* works by means of *callbacks*, we suggest this link from JuMP 0.18: http://www.juliaopt.org/JuMP.jl/v0.12/callbacks.html."
   ]
  }
 ],
 "metadata": {
  "kernelspec": {
   "display_name": "Julia 1.1.0",
   "language": "julia",
   "name": "julia-1.1"
  },
  "language_info": {
   "file_extension": ".jl",
   "mimetype": "application/julia",
   "name": "julia",
   "version": "1.1.0"
  }
 },
 "nbformat": 4,
 "nbformat_minor": 2
}

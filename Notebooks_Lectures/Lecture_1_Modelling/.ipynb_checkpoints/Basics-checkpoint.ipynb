{
 "cells": [
  {
   "cell_type": "markdown",
   "metadata": {},
   "source": [
    "# On modelling optimization problems via Julia JuMP\n",
    "\n",
    "## Prof. Mayron César O. Moreira \n",
    "\n",
    "**Universidade Federal de Lavras (UFLA)**  \n",
    "**Department of Computer Science**  \n",
    "**Lavras, Minas Gerais, Brazil**  \n",
    "\n",
    "*Università degli Studi di Modena e Reggio Emilia (UNIMORE)*  \n",
    "*Reggio Emilia, Italy*"
   ]
  },
  {
   "cell_type": "markdown",
   "metadata": {},
   "source": [
    "## Getting started"
   ]
  },
  {
   "cell_type": "markdown",
   "metadata": {},
   "source": [
    "* **<u>Observation</u>** This notebook is based on:\n",
    "    * Changhyun Kwon (2019). Julia Programming for Operations Research, 2nd Edition - http://www.chkwon.net/julia/ and https://github.com/chkwon/jpor_codes\n",
    "    * Julia By Example - https://juliabyexample.helpmanual.io/\n",
    "    * JuliaOpt - https://github.com/JuliaOpt/juliaopt-notebooks/tree/master/notebooks\n",
    "    * Stephen Boyd and Lieven Vandenberghe (2018) - http://vmls-book.stanford.edu/vmls-julia-companion.pdf"
   ]
  },
  {
   "cell_type": "markdown",
   "metadata": {},
   "source": [
    "Welcome to the course **\"On modelling optimization problems via Julia JuMP\"**! As we used to do with other programming languages, let´s start by an adaptation of the most basic code at all: *\"Ciao Italia\"*."
   ]
  },
  {
   "cell_type": "code",
   "execution_count": 2,
   "metadata": {},
   "outputs": [
    {
     "name": "stdout",
     "output_type": "stream",
     "text": [
      "Ciao, Italia\n"
     ]
    }
   ],
   "source": [
    "println(\"Ciao, Italia\")"
   ]
  },
  {
   "cell_type": "markdown",
   "metadata": {},
   "source": [
    "A vector $u = \\left[  \\begin{array}{ccc}\n",
    "            1 \\\\\n",
    "            0 \\\\\n",
    "            -1\n",
    "            \\end{array} \\right]$, $v = [1\\,2\\,3]$ and a matrix \n",
    "$M = \\left[  \\begin{array}{ccc}\n",
    "            1 & 2 & 3 \\\\\n",
    "            4 & 5 & 6\n",
    "            \\end{array} \\right]$\n",
    "\n",
    "can be written as:"
   ]
  },
  {
   "cell_type": "code",
   "execution_count": 5,
   "metadata": {},
   "outputs": [
    {
     "data": {
      "text/plain": [
       "2×3 Array{Int64,2}:\n",
       " 1  2  3\n",
       " 4  5  6"
      ]
     },
     "execution_count": 5,
     "metadata": {},
     "output_type": "execute_result"
    }
   ],
   "source": [
    "u = [1; 0; -1]\n",
    "v = [1 2 3]\n",
    "M = [1 2 3; 4 5 6]"
   ]
  },
  {
   "cell_type": "markdown",
   "metadata": {},
   "source": [
    "The semicolon means a new row in the matrix. To access the element $m[i,j]$ of $M$, we need to write:"
   ]
  },
  {
   "cell_type": "code",
   "execution_count": 7,
   "metadata": {},
   "outputs": [
    {
     "data": {
      "text/plain": [
       "3"
      ]
     },
     "execution_count": 7,
     "metadata": {},
     "output_type": "execute_result"
    }
   ],
   "source": [
    "M[1,3] # Yes: we start by index 1"
   ]
  },
  {
   "cell_type": "markdown",
   "metadata": {},
   "source": [
    "Now we want to access the second and third columns of the matrix $N = \\left[  \\begin{array}{ccc}\n",
    "            1 & 2 & 3 \\\\\n",
    "            4 & 5 & 6 \\\\\n",
    "            7 & 8 & 9\n",
    "            \\end{array} \\right]$,\n",
    "and its second and third rows."
   ]
  },
  {
   "cell_type": "code",
   "execution_count": 8,
   "metadata": {},
   "outputs": [
    {
     "data": {
      "text/plain": [
       "2×3 Array{Int64,2}:\n",
       " 4  5  6\n",
       " 7  8  9"
      ]
     },
     "execution_count": 8,
     "metadata": {},
     "output_type": "execute_result"
    }
   ],
   "source": [
    "N = [1 2 3; 4 5 6; 7 8 9]\n",
    "N[:,2:3]\n",
    "N[2:3,:]"
   ]
  },
  {
   "cell_type": "markdown",
   "metadata": {},
   "source": [
    "The function \"*length()*\" returns the number of elements in a vector or a matrix, while \"*size()*\" returns the dimension of the structure."
   ]
  },
  {
   "cell_type": "code",
   "execution_count": 9,
   "metadata": {},
   "outputs": [
    {
     "name": "stdout",
     "output_type": "stream",
     "text": [
      "6\n",
      "(2, 3)\n",
      "3\n",
      "(1, 3)\n",
      "3\n",
      "(3,)\n"
     ]
    }
   ],
   "source": [
    "println(length(M))\n",
    "println(size(M))\n",
    "println(length(v))\n",
    "println(size(v))\n",
    "println(length(u))\n",
    "println(size(u))"
   ]
  },
  {
   "cell_type": "markdown",
   "metadata": {},
   "source": [
    "Note that \"*println(size(u))*\" returned a tuple with an empty value at second place, since it corresponds to an \"*Array{Int64,1}*\"."
   ]
  },
  {
   "cell_type": "code",
   "execution_count": 10,
   "metadata": {},
   "outputs": [
    {
     "data": {
      "text/plain": [
       "Array{Int64,1}"
      ]
     },
     "execution_count": 10,
     "metadata": {},
     "output_type": "execute_result"
    }
   ],
   "source": [
    "typeof(u)"
   ]
  },
  {
   "cell_type": "markdown",
   "metadata": {},
   "source": [
    "Inner product, transpose matrix, identity matrix, inverse matrix function, and others, can be seen below. For this purpose, we will use *Linear Algebra* package (https://docs.julialang.org/en/v1/stdlib/LinearAlgebra/)."
   ]
  },
  {
   "cell_type": "code",
   "execution_count": 11,
   "metadata": {},
   "outputs": [
    {
     "name": "stdout",
     "output_type": "stream",
     "text": [
      "[-2.63636 0.121212; 0.909091 -0.030303]\n",
      "[0.0 0.0 0.0; 0.0 0.0 0.0; 0.0 0.0 0.0]\n",
      "[5.0 5.0 5.0; 5.0 5.0 5.0; 5.0 5.0 5.0]\n"
     ]
    }
   ],
   "source": [
    "using LinearAlgebra\n",
    "\n",
    "w = [3; 1; -8]\n",
    "a = dot(u,w) # inner product of u and w\n",
    "M1 = transpose(M) # transpose of M\n",
    "E = Matrix{Float64}(I, 2, 2) # Identity matrix\n",
    "#F = inv(M) # inverse matrix of M. Error: matrix is not square: dimensions are (2, 3)\n",
    "\n",
    "M2 = [1 4; 30 87]\n",
    "println(inv(M2))\n",
    "\n",
    "# Create a zero matrix\n",
    "M3 = zeros(3, 3)\n",
    "println(M3)\n",
    "\n",
    "k = 5\n",
    "# Create a n-value matrix\n",
    "M4 = k*ones(3, 3)\n",
    "println(M4)"
   ]
  },
  {
   "cell_type": "markdown",
   "metadata": {},
   "source": [
    "Random numbers with a uniform distribution can be generated as follows. For further informations, I suggest the reader *\"JuliaStats\"* (https://github.com/JuliaStats)."
   ]
  },
  {
   "cell_type": "code",
   "execution_count": 12,
   "metadata": {},
   "outputs": [
    {
     "name": "stdout",
     "output_type": "stream",
     "text": [
      "[0.356896, 0.767023, 0.169446, 0.757011, 0.933105]\n",
      "[0.414529 0.569544 0.183641 0.0254441; 0.0991652 0.083124 0.644077 0.348134; 0.225573 0.200284 0.309872 0.917566]\n",
      "2\n"
     ]
    }
   ],
   "source": [
    "a = rand(5) # Generate 5 numbers between [0,1]\n",
    "X = rand(3,4) # Generate a matrix 3x4 of random numbers between [0,1]\n",
    "b = rand(1:10) # Generate a random number between [1,10]\n",
    "c = randn(2,3) # Generate a random matrix 2x3 with N(0,1)\n",
    "\n",
    "println(a)\n",
    "println(X)\n",
    "println(b)"
   ]
  },
  {
   "cell_type": "markdown",
   "metadata": {},
   "source": [
    "Strings are important tools we can implement. See some important operations we can use."
   ]
  },
  {
   "cell_type": "code",
   "execution_count": 13,
   "metadata": {},
   "outputs": [
    {
     "name": "stdout",
     "output_type": "stream",
     "text": [
      "s1 = Chi non legge, a 70 anni avrà vissuto una sola vita: la propria. Chi legge avrà vissuto 5000 anni. (Umberto Eco)\n",
      "hi non le\n",
      "String\n",
      "SubString{String}[\"Chi\", \"non\", \"legge,\", \"a\", \"70\", \"anni\", \"avrà\", \"vissuto\", \"una\", \"sola\", \"vita:\", \"la\", \"propria.\", \"Chi\", \"legge\", \"avrà\", \"vissuto\", \"5000\", \"anni.\", \"(Umberto\", \"Eco)\"]\n",
      "Chi non legge, a 70 anni avrà vissuto una sola vita: la propria. Chi legge avrà vissuto 5000 anni. (Umberto Eco)unimore\n",
      "unimoreunimoreunimore\n"
     ]
    }
   ],
   "source": [
    "s1 = \"Chi non legge, a 70 anni avrà vissuto una sola vita: la propria. Chi legge avrà vissuto 5000 anni. (Umberto Eco)\"\n",
    "println(\"s1 = \", s1)\n",
    "\n",
    "s2 = s1[2:10] # A string from position 2 to 10\n",
    "println(s2)\n",
    "println(typeof(s2))\n",
    "\n",
    "s3 = split(s1, \" \") # Generate substrings separated by \",\"\n",
    "println(s3)\n",
    "\n",
    "s4 = \"unimore\"\n",
    "println(s1 * s4) # Concatenation\n",
    "\n",
    "s5 = repeat(\"unimore\", 3) # Repeat the same string 3 times\n",
    "println(s5)"
   ]
  },
  {
   "cell_type": "markdown",
   "metadata": {},
   "source": [
    "More complex operations using strings require some knowledge in regular expression. For more details, see https://docs.julialang.org/en/v1/base/strings/."
   ]
  },
  {
   "cell_type": "markdown",
   "metadata": {},
   "source": [
    "Variables can be local and global, according to the context we use them."
   ]
  },
  {
   "cell_type": "code",
   "execution_count": 20,
   "metadata": {},
   "outputs": [
    {
     "name": "stdout",
     "output_type": "stream",
     "text": [
      "Before f1: 2\n",
      "After f1 and before f2: 2\n",
      "After f2 and before f3: 2\n",
      "After f3: 12\n",
      "z = 40\n",
      "Vector x = [10, 20, 30, 40]\n",
      "Vector x = [25, 35, 45, 55]\n"
     ]
    }
   ],
   "source": [
    "f1(x) = x^2 # A function declared directly\n",
    "\n",
    "# We can use return directly or not\n",
    "function f2(x)\n",
    "    x = x + 10\n",
    "    return x += 10\n",
    "end\n",
    "\n",
    "# As values as passed by copy, we need to assign x to the call of the function to modify it.\n",
    "function f3(x)\n",
    "    global z = 10 # Global variable\n",
    "    x += 10\n",
    "end\n",
    "\n",
    "x = 2\n",
    "println(\"Before f1: \", x)\n",
    "f1(x)\n",
    "println(\"After f1 and before f2: \", x)\n",
    "f2(x)\n",
    "println(\"After f2 and before f3: \", x)\n",
    "x = f3(x)\n",
    "println(\"After f3: \", x)\n",
    "z *= 4\n",
    "println(\"z = \", z)\n",
    "\n",
    "# However, vector are passed by reference (as a pointer)\n",
    "# As values as passed by values, we need to assign x to the call of the function to modify it.\n",
    "function f5!(x)\n",
    "    x .= x .+ 15 # We broadcast the sum of each element of the vector by . operator\n",
    "end\n",
    "\n",
    "x = [10, 20, 30, 40]\n",
    "println(\"Vector x = \", x)\n",
    "f5!(x)\n",
    "println(\"Vector x = \", x)"
   ]
  },
  {
   "cell_type": "code",
   "execution_count": null,
   "metadata": {},
   "outputs": [],
   "source": []
  }
 ],
 "metadata": {
  "kernelspec": {
   "display_name": "Julia 1.1.0",
   "language": "julia",
   "name": "julia-1.1"
  },
  "language_info": {
   "file_extension": ".jl",
   "mimetype": "application/julia",
   "name": "julia",
   "version": "1.1.0"
  }
 },
 "nbformat": 4,
 "nbformat_minor": 2
}

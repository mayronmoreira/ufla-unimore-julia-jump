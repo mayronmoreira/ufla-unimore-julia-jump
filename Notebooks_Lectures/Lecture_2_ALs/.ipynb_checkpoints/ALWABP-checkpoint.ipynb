{
 "cells": [
  {
   "cell_type": "markdown",
   "metadata": {},
   "source": [
    "# On modelling optimization problems via Julia JuMP\n",
    "\n",
    "## Prof. Mayron César O. Moreira \n",
    "\n",
    "**Universidade Federal de Lavras (UFLA)**  \n",
    "**Department of Computer Science**  \n",
    "**Lavras, Minas Gerais, Brazil**  \n",
    "\n",
    "*Università degli Studi di Modena e Reggio Emilia (UNIMORE)*  \n",
    "*Reggio Emilia, Italy*"
   ]
  },
  {
   "cell_type": "markdown",
   "metadata": {},
   "source": [
    "## Assembly Line Worker Assignment and Balancing Problem (ALWABP)\n",
    "\n",
    "Becker & Scholl (2006) indicate that SALBP characteristics are restrictive concerning assembly lines presented in real contexts. One of the main assumptions that we do not consider in SALBP is the fact that heterogeneity is presented while workers perform activities. Miralles et al. (2007) propose the first mathematical model that deal with an assembly line balancing composed entirely by people with disabilities. The challendge of this environment is that workers have a considerable variation of task executation times, and in some cases, there are workers that are not able to perform a set of tasks. As follows, we show an example of an instance for ALWABP (Moreira, 2015), with 3 workers, 3 stations and 9 tasks. "
   ]
  },
  {
   "cell_type": "code",
   "execution_count": 67,
   "metadata": {},
   "outputs": [
    {
     "name": "stdout",
     "output_type": "stream",
     "text": [
      "1 (\"w1\", \"C\") => 11\n",
      "2 (\"w2\", \"B\") => 4\n",
      "3 (\"w2\", \"C\") => 10\n",
      "4 (\"w1\", \"A\") => 5\n",
      "5 (\"w3\", \"B\") => 1000000\n",
      "6 (\"w1\", \"I\") => 15\n",
      "7 (\"w2\", \"E\") => 1000000\n",
      "8 (\"w2\", \"G\") => 3\n",
      "9 (\"w1\", \"G\") => 10\n",
      "10 (\"w1\", \"B\") => 4\n",
      "11 (\"w1\", \"E\") => 4\n",
      "12 (\"w2\", \"I\") => 9\n",
      "13 (\"w3\", \"A\") => 40\n",
      "14 (\"w3\", \"H\") => 20\n",
      "15 (\"w3\", \"I\") => 35\n",
      "16 (\"w1\", \"H\") => 30\n",
      "17 (\"w3\", \"C\") => 2\n",
      "18 (\"w2\", \"D\") => 1000000\n",
      "19 (\"w1\", \"D\") => 3\n",
      "20 (\"w2\", \"F\") => 12\n",
      "21 (\"w3\", \"E\") => 7\n",
      "22 (\"w2\", \"A\") => 3\n",
      "23 (\"w3\", \"D\") => 9\n",
      "24 (\"w3\", \"F\") => 3\n",
      "25 (\"w3\", \"G\") => 25\n",
      "26 (\"w2\", \"H\") => 1\n",
      "27 (\"w1\", \"F\") => 1000000\n"
     ]
    }
   ],
   "source": [
    "const INF = 1000000 # Our infty\n",
    "\n",
    "# Task executation time for each worker\n",
    "tableTime = Dict(\n",
    "    (\"w1\", \"A\") =>  5,\n",
    "    (\"w1\", \"B\") =>  4,\n",
    "    (\"w1\", \"C\") =>  11,\n",
    "    (\"w1\", \"D\") =>  3,\n",
    "    (\"w1\", \"E\") =>  4,\n",
    "    (\"w1\", \"F\") =>  INF,\n",
    "    (\"w1\", \"G\") =>  10,\n",
    "    (\"w1\", \"H\") =>  30,\n",
    "    (\"w1\", \"I\") =>  15,\n",
    "    (\"w2\", \"A\") =>  3,\n",
    "    (\"w2\", \"B\") =>  4,\n",
    "    (\"w2\", \"C\") =>  10,\n",
    "    (\"w2\", \"D\") =>  INF,\n",
    "    (\"w2\", \"E\") =>  INF,\n",
    "    (\"w2\", \"F\") =>  12,\n",
    "    (\"w2\", \"G\") =>  3,\n",
    "    (\"w2\", \"H\") =>  1,\n",
    "    (\"w2\", \"I\") =>  9,\n",
    "    (\"w3\", \"A\") =>  40,\n",
    "    (\"w3\", \"B\") =>  INF,\n",
    "    (\"w3\", \"C\") =>  2,\n",
    "    (\"w3\", \"D\") =>  9,\n",
    "    (\"w3\", \"E\") =>  7,\n",
    "    (\"w3\", \"F\") =>  3,\n",
    "    (\"w3\", \"G\") =>  25,\n",
    "    (\"w3\", \"H\") =>  20,\n",
    "    (\"w3\", \"I\") =>  35,\n",
    ")\n",
    "\n",
    "for (cnt, j) in enumerate(tableTime)\n",
    "    println(cnt, \" \", j)\n",
    "end"
   ]
  },
  {
   "cell_type": "markdown",
   "metadata": {},
   "source": [
    "![(Moreira, 2015)](images/alwabp.png)"
   ]
  },
  {
   "cell_type": "markdown",
   "metadata": {},
   "source": [
    "### ALWABP-2\n",
    "\n",
    "We present a three-index variable formulation proposed by Miralles et al. (2007) for ALWABP-2, the most common extension in this context. "
   ]
  },
  {
   "cell_type": "markdown",
   "metadata": {},
   "source": [
    "* **Importing libraries**"
   ]
  },
  {
   "cell_type": "code",
   "execution_count": 68,
   "metadata": {},
   "outputs": [],
   "source": [
    "using JuMP\n",
    "using Cbc\n",
    "include(\"codes/instanceALs.jl\")\n",
    ";"
   ]
  },
  {
   "cell_type": "markdown",
   "metadata": {},
   "source": [
    "* **Reading instance**"
   ]
  },
  {
   "cell_type": "code",
   "execution_count": 69,
   "metadata": {},
   "outputs": [],
   "source": [
    "# ALWABP instance\n",
    "fileInstance=\"instances/alwabp/heskia1\"\n",
    "\n",
    "io=open(fileInstance)\n",
    "\n",
    "# Reading ALWABP instance\n",
    "instance = readALWABP(io)\n",
    ";"
   ]
  },
  {
   "cell_type": "markdown",
   "metadata": {},
   "source": [
    "* **Creating model**"
   ]
  },
  {
   "cell_type": "code",
   "execution_count": 70,
   "metadata": {},
   "outputs": [],
   "source": [
    "model = Model(with_optimizer(Cbc.Optimizer))\n",
    ";"
   ]
  },
  {
   "cell_type": "markdown",
   "metadata": {},
   "source": [
    "* **Sets and constants (inputs)**\n",
    "\n",
    "    * **Additional parameters**\n",
    "        * $W$: set oh heterogeneous workers ($|W|=|S|$);  \n",
    "        * $p_{iw} \\in \\mathbb{R}_+$: task execution time to perform task $i$ by woker $w$ ($p_{wi} = \\infty$ if worker $w$ does not perform task $i$);    "
   ]
  },
  {
   "cell_type": "code",
   "execution_count": 71,
   "metadata": {},
   "outputs": [],
   "source": [
    "n = instance.n # number of tasks\n",
    "w = instance.w # number of workers\n",
    "m = instance.w # number of stations\n",
    "P = [Vector{Int}() for _ in 1:n+1] # set of immediate predecessors\n",
    "F = [Vector{Int}() for _ in 1:n+1] # set of immediate followers\n",
    "c = instance.c #cycle time\n",
    "p = instance.p\n",
    "\n",
    "for i=1:n\n",
    "    P[i] = copy(instance.P[i])\n",
    "    F[i] = copy(instance.F[i])\n",
    "end\n",
    "\n",
    "S = collect(1:w) # set of stations\n",
    "W = collect(1:w) # set of workers\n",
    "N = collect(1:n) # set of tasks\n",
    ";"
   ]
  },
  {
   "cell_type": "markdown",
   "metadata": {},
   "source": [
    "* **Decision variables**\n",
    "\n",
    "    * $x_{swi} \\in \\{0,1\\}$: equal to one iff task $i$ is assigned to worker $w$ in station $s$;  \n",
    "    * $y_{sw} \\in \\{0,1\\}$: equal to one iff worker $w$ is assigned to station $s$;\n",
    "    * $c \\in \\mathbb{R}_+$: cycle time of the line."
   ]
  },
  {
   "cell_type": "code",
   "execution_count": 72,
   "metadata": {},
   "outputs": [],
   "source": []
  },
  {
   "cell_type": "markdown",
   "metadata": {},
   "source": [
    "* **Objective function**: minimize the cycle time\n",
    "\n",
    "\\begin{equation}\n",
    "\\min\\,c\n",
    "\\end{equation}"
   ]
  },
  {
   "cell_type": "code",
   "execution_count": 73,
   "metadata": {},
   "outputs": [],
   "source": []
  },
  {
   "cell_type": "markdown",
   "metadata": {},
   "source": [
    "* **Constraint:** all tasks must be assigned\n",
    "\n",
    "\\begin{equation}\n",
    "\\sum_{s \\in S}\\sum_{w \\in W} x_{swi} = 1 \\qquad \\forall i \\in N\n",
    "\\end{equation}"
   ]
  },
  {
   "cell_type": "code",
   "execution_count": 74,
   "metadata": {},
   "outputs": [],
   "source": []
  },
  {
   "cell_type": "markdown",
   "metadata": {},
   "source": [
    "* **Constraint:** a worker must be assigned to a station\n",
    "\n",
    "\\begin{equation}\n",
    "\\sum_{s \\in S} y_{sw} = 1 \\qquad \\forall w \\in W\n",
    "\\end{equation}"
   ]
  },
  {
   "cell_type": "code",
   "execution_count": 75,
   "metadata": {},
   "outputs": [],
   "source": []
  },
  {
   "cell_type": "markdown",
   "metadata": {},
   "source": [
    "* **Constraint:** a station must have a single worker\n",
    "\n",
    "\\begin{equation}\n",
    "\\sum_{w \\in W} y_{sw} = 1 \\qquad \\forall s \\in S\n",
    "\\end{equation}"
   ]
  },
  {
   "cell_type": "code",
   "execution_count": 76,
   "metadata": {},
   "outputs": [],
   "source": []
  },
  {
   "cell_type": "markdown",
   "metadata": {},
   "source": [
    "* **Constraint:** precedence relations are respected\n",
    "\n",
    "\\begin{equation}\n",
    "\\sum_{s \\in S}\\sum_{w \\in W} sx_{swi} \\le \\sum_{s \\in S}\\sum_{w \\in W} sx_{swj} \\qquad \\forall j \\in N, \\forall i \\in D_j\n",
    "\\end{equation}"
   ]
  },
  {
   "cell_type": "code",
   "execution_count": 77,
   "metadata": {},
   "outputs": [],
   "source": []
  },
  {
   "cell_type": "markdown",
   "metadata": {},
   "source": [
    "* **Constraint:** definition of cycle time as maximum load of a station\n",
    "\n",
    "\\begin{equation}\n",
    "\\sum_{i \\in N} p_{iw}x_{swi} \\le c \\qquad \\forall s \\in S, \\forall w \\in W\n",
    "\\end{equation}"
   ]
  },
  {
   "cell_type": "code",
   "execution_count": 78,
   "metadata": {},
   "outputs": [],
   "source": []
  },
  {
   "cell_type": "markdown",
   "metadata": {},
   "source": [
    "* **Constraint:** coupling constraints between $x$ and $y$\n",
    "\n",
    "\\begin{equation}\n",
    "\\sum_{i \\in N} x_{swi} \\le ny_{sw} \\qquad \\forall s \\in S, \\forall w \\in W\n",
    "\\end{equation}"
   ]
  },
  {
   "cell_type": "code",
   "execution_count": 79,
   "metadata": {},
   "outputs": [],
   "source": []
  },
  {
   "cell_type": "markdown",
   "metadata": {},
   "source": [
    "* **Running the model**"
   ]
  },
  {
   "cell_type": "code",
   "execution_count": null,
   "metadata": {},
   "outputs": [],
   "source": []
  },
  {
   "cell_type": "markdown",
   "metadata": {},
   "source": [
    "* **Printing variables**"
   ]
  },
  {
   "cell_type": "code",
   "execution_count": null,
   "metadata": {},
   "outputs": [],
   "source": [
    "println(\"Printing solution\")\n",
    "cOpt = JuMP.objective_value(model) # Optimal solution\n",
    "println(\"Cycle time = \", cOpt)\n",
    "tmp = 0 # Overload of each station\n",
    "for s in S\n",
    "    print(\"s\", Int(s), \"(w\")\n",
    "    for w in W\n",
    "        if(value(y[s,w]) >= 0.9)\n",
    "            print(w, \"): \")\n",
    "            for i=1:n\n",
    "                if(value(x[s,w,i]) >= 0.9 && i != n+1)\n",
    "                    print(i, \" \")\n",
    "                    tmp += p[i,w]\n",
    "                end\n",
    "            end\n",
    "            break\n",
    "        end\n",
    "    end\n",
    "    println(\"(\", tmp, \")\")\n",
    "    tmp = 0\n",
    "end"
   ]
  },
  {
   "cell_type": "markdown",
   "metadata": {},
   "source": [
    "## References"
   ]
  },
  {
   "cell_type": "markdown",
   "metadata": {},
   "source": [
    "Becker, C., & Scholl, A. (2006). A survey on problems and methods in generalized assembly line balancing. European journal of operational research, 168(3), 694-715.\n",
    "\n",
    "Miralles, C., Garcia-Sabater, J. P., Andres, C., & Cardos, M. (2007). Advantages of assembly lines in sheltered work centres for disabled. A case study. International Journal of Production Economics, 110(1-2), 187-197.\n",
    "\n",
    "Moreira, M. C. O. (2015). Problema de balanceamento de linhas de produção e integração de trabalhadores. Tese (Doutorado em Ciências de Computação e Matemática Computacional) - Instituto de Ciências Matemáticas e de Computação, Universidade de São Paulo, São Carlos. Disponível em: http://www.teses.usp.br/teses/disponiveis/55/55134/tde-08012016-145627/pt-br.php"
   ]
  }
 ],
 "metadata": {
  "kernelspec": {
   "display_name": "Julia 1.1.0",
   "language": "julia",
   "name": "julia-1.1"
  },
  "language_info": {
   "file_extension": ".jl",
   "mimetype": "application/julia",
   "name": "julia",
   "version": "1.1.0"
  }
 },
 "nbformat": 4,
 "nbformat_minor": 2
}

{
 "cells": [
  {
   "cell_type": "markdown",
   "metadata": {},
   "source": [
    "# On modelling optimization problems via Julia JuMP\n",
    "\n",
    "## Prof. Mayron César O. Moreira \n",
    "\n",
    "**Universidade Federal de Lavras (UFLA)**  \n",
    "**Department of Computer Science**  \n",
    "**Lavras, Minas Gerais, Brazil**  \n",
    "\n",
    "*Università degli Studi di Modena e Reggio Emilia (UNIMORE)*  \n",
    "*Reggio Emilia, Italy*"
   ]
  },
  {
   "cell_type": "markdown",
   "metadata": {},
   "source": [
    "* **Data**"
   ]
  },
  {
   "cell_type": "code",
   "execution_count": 11,
   "metadata": {},
   "outputs": [],
   "source": [
    "include(\"codes/instanceALs.jl\")\n",
    "\n",
    "# ALWABP instance\n",
    "fileInstance=\"instances/alwabp/heskia1\"\n",
    "\n",
    "io=open(fileInstance)\n",
    "\n",
    "# Reading ALWABP instance\n",
    "instance = readALWABP(io)\n",
    "\n",
    "n = instance.n # number of tasks\n",
    "w = instance.w # number of workers\n",
    "m = instance.w # number of stations\n",
    "P = [Vector{Int}() for _ in 1:n+1] # set of immediate predecessors\n",
    "F = [Vector{Int}() for _ in 1:n+1] # set of immediate followers\n",
    "c = instance.c #cycle time\n",
    "p = instance.p\n",
    "\n",
    "for i=1:n\n",
    "    P[i] = copy(instance.P[i])\n",
    "    F[i] = copy(instance.F[i])\n",
    "end\n",
    "\n",
    "S = collect(1:w) # set of stations\n",
    "W = collect(1:w) # set of workers\n",
    "N = collect(1:n) # set of tasks\n",
    ";"
   ]
  },
  {
   "cell_type": "markdown",
   "metadata": {},
   "source": [
    "## Problem: U-shaped ALs\n",
    "\n",
    "U-shaped lines are flexible manufacturing components of assembly lines due to the possibility to assign tasks to stations even if its predecessors did not execute yet. **The Figure below, extracted from Becker & Scholl (2006)**, presents an example of a  typical flow of this type of line.\n",
    "\n",
    "![(Becker & Scholl, 2006)](images/LinhasU.png)\n",
    "\n",
    "We take ALWABP context with U-shaped layout. Note that this case requires a higher qualification of workers since they can participate of different phases of the production.\n",
    "\n",
    "**Your task:** extend ALWABP-2 formulation to deal with U-shaped layout."
   ]
  },
  {
   "cell_type": "code",
   "execution_count": 1,
   "metadata": {},
   "outputs": [
    {
     "name": "stdout",
     "output_type": "stream",
     "text": [
      "TO DO\n"
     ]
    }
   ],
   "source": [
    "println(\"TO DO\")"
   ]
  },
  {
   "cell_type": "markdown",
   "metadata": {},
   "source": [
    "## References"
   ]
  },
  {
   "cell_type": "markdown",
   "metadata": {},
   "source": [
    "Becker, C., & Scholl, A. (2006). A survey on problems and methods in generalized assembly line balancing. European journal of operational research, 168(3), 694-715.\n",
    "\n",
    "Miralles, C., Garcia-Sabater, J. P., Andres, C., & Cardos, M. (2007). Advantages of assembly lines in sheltered work centres for disabled. A case study. International Journal of Production Economics, 110(1-2), 187-197."
   ]
  }
 ],
 "metadata": {
  "kernelspec": {
   "display_name": "Julia 1.1.0",
   "language": "julia",
   "name": "julia-1.1"
  },
  "language_info": {
   "file_extension": ".jl",
   "mimetype": "application/julia",
   "name": "julia",
   "version": "1.1.0"
  }
 },
 "nbformat": 4,
 "nbformat_minor": 2
}

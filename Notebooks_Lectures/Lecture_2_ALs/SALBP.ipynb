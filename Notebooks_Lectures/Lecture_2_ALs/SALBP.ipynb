{
 "cells": [
  {
   "cell_type": "markdown",
   "metadata": {},
   "source": [
    "# On modelling optimization problems via Julia JuMP\n",
    "\n",
    "## Prof. Mayron César O. Moreira \n",
    "\n",
    "**Universidade Federal de Lavras (UFLA)**  \n",
    "**Department of Computer Science**  \n",
    "**Lavras, Minas Gerais, Brazil**  \n",
    "\n",
    "*Università degli Studi di Modena e Reggio Emilia (UNIMORE)*  \n",
    "*Reggio Emilia, Italy*"
   ]
  },
  {
   "cell_type": "markdown",
   "metadata": {},
   "source": [
    "## Simple Assembly Line and Balancing Problem (SALBP)\n",
    "\n",
    "Assembly lines are standard manufacturing systems present in large-scale production. Given a scenario of labour high costs, industries try to implement efficient procedures to plan their activities in order to be competitive against developing countries.\n",
    "\n",
    "Line balancing is a classical combinatorial optimization problem introduced by Salveson (1955). We focus on its most studied variant: the *Simple Assembly Line Balancing Problem* (SALBP). We consider a set of tasks $N=\\{1,...,n\\}$, and an ordered set of stations $S=\\{1,...,m\\}$, $n,m \\in \\mathbb{N}$. Each task $i \\in N$ has an execution time defined by $p_i \\in \\mathbb{R}_+$. Let $s(i) \\in S$ be a station where task $i$ is assigned. We model technological characteristics of the line by precedence constraints between tasks such that $i \\preceq j$ ($i$ immediate precedes $j$) means that $s(i) \\le s(j)$. Consider $P_i \\subseteq N$ as a set of immediate predecessors of task $i$ and $F_i \\subseteq N$ as a set of immediate followers of task $i$. We define $c \\in \\mathbb{R}_+$ as the cycle time of the line. \n",
    "\n",
    "The feasibility version of the problem, called SALBP-F, consists in answering the following question: **\"Is there a task assignment to stations that respects precedence and cycle time constraints, given a pre-defined number of stations $m$ and a cycle time $c$?\"**. The SALBP-F is a NP-Hard problem, since it reduces to a *Partitioning Problem* (Scholl, 1999; Wee & Magazine, 1982). Figure shown below (Moreira, 2015) illustrates the SALBP-F through an example with $c=8$ and $m=5$.\n",
    "\n",
    "![](images/salbp-f.png)"
   ]
  },
  {
   "cell_type": "markdown",
   "metadata": {},
   "source": [
    "### SALBP-1\n",
    "\n",
    "The *Simple Assembly Line Balancing Problem type 1* (SALBP-1) minimizes the number of opened stations, given a cycle time $\\overline{c}$. The SALBP-1 appears in situations where we can have a good estimate of the demand, allowing a fixation of cycle time *a priori* and minimizing installation costs by means of number of stations. As follows, we present a feasible solution for this problem (Moreira, 2015), using the previous instance with $\\overline{c}=9$ and $m=4$.\n",
    "\n",
    "![(Moreira, 2015)](images/salbp-1.png)"
   ]
  },
  {
   "cell_type": "markdown",
   "metadata": {},
   "source": [
    "#### Mathematical model  \n",
    "\n",
    "The mathematical model shown in this section is based on Patterson & Albracht (1975) formulation. We define $n+1$ as a ficticious task such that $P_{n+1} = \\{i \\in N; F_i = \\varnothing\\}$ and $t_{n+1} = 0$. The objective function minimizes the station index where task $q$ is assigned, as a way to minimize the number of stations. "
   ]
  },
  {
   "cell_type": "markdown",
   "metadata": {},
   "source": [
    "* **Importing libraries**"
   ]
  },
  {
   "cell_type": "code",
   "execution_count": 1,
   "metadata": {},
   "outputs": [],
   "source": [
    "# Importing libraries\n",
    "using JuMP\n",
    "using Cbc\n",
    "include(\"codes/instanceALs.jl\")\n",
    "; # Disable output messages after the block"
   ]
  },
  {
   "cell_type": "markdown",
   "metadata": {},
   "source": [
    "* **Reading instance**"
   ]
  },
  {
   "cell_type": "code",
   "execution_count": 2,
   "metadata": {},
   "outputs": [],
   "source": [
    "# SALBP instance\n",
    "fileInstance=\"instances/salbp/instance_n=20_1.alb\"\n",
    "\n",
    "io=open(fileInstance)\n",
    "\n",
    "# Reading SALBP instance\n",
    "instance = readSALBP(io)\n",
    ";"
   ]
  },
  {
   "cell_type": "markdown",
   "metadata": {},
   "source": [
    "* **Creating model**"
   ]
  },
  {
   "cell_type": "code",
   "execution_count": 3,
   "metadata": {},
   "outputs": [
    {
     "data": {
      "text/latex": [
       "$$ \\begin{alignat*}{1}\\text{feasibility}\\\\\n",
       "\\text{Subject to} \\quad\\end{alignat*}\n",
       " $$"
      ],
      "text/plain": [
       "A JuMP Model\n",
       "Feasibility problem with:\n",
       "Variables: 0\n",
       "Model mode: AUTOMATIC\n",
       "CachingOptimizer state: EMPTY_OPTIMIZER\n",
       "Solver name: COIN Branch-and-Cut (Cbc)"
      ]
     },
     "execution_count": 3,
     "metadata": {},
     "output_type": "execute_result"
    }
   ],
   "source": [
    "model = Model(with_optimizer(Cbc.Optimizer))"
   ]
  },
  {
   "cell_type": "markdown",
   "metadata": {},
   "source": [
    "* **Sets and constants (inputs)**"
   ]
  },
  {
   "cell_type": "code",
   "execution_count": 4,
   "metadata": {},
   "outputs": [
    {
     "name": "stdout",
     "output_type": "stream",
     "text": [
      "[1, 2, 3, 4, 5, 6, 7, 8, 9, 10, 11, 12, 13, 14, 15, 16, 17, 18, 19, 20, 21]\n",
      "[1, 2, 3, 4, 5, 6, 7, 8, 9, 10, 11, 12, 13, 14, 15, 16, 17, 18, 19, 20, 21]\n"
     ]
    }
   ],
   "source": [
    "n = instance.n # number of tasks\n",
    "m = instance.n # number of stations\n",
    "P = [Vector{Int}() for _ in 1:n+1] # set of immediate predecessors\n",
    "F = [Vector{Int}() for _ in 1:n+1] # set of immediate followers\n",
    "c = instance.c #cycle time\n",
    "p = instance.p\n",
    "\n",
    "for i=1:n\n",
    "    P[i] = copy(instance.P[i])\n",
    "    F[i] = copy(instance.F[i])\n",
    "    if(size(F[i],1) == 0)\n",
    "        push!(P[n+1], i)\n",
    "    end\n",
    "end\n",
    "\n",
    "S = collect(1:n+1) # set of stations\n",
    "N = collect(1:n+1) # Task n+1 corresponds to the artificial task\n",
    "println(S)\n",
    "println(N)\n",
    ";"
   ]
  },
  {
   "cell_type": "markdown",
   "metadata": {},
   "source": [
    "* **Decision variables**\n",
    "\n",
    "    * $x_{si} \\in \\{0,1\\}$: equal to one iff task $i$ is assigned to station $s$."
   ]
  },
  {
   "cell_type": "code",
   "execution_count": 5,
   "metadata": {},
   "outputs": [
    {
     "data": {
      "text/plain": [
       "2-dimensional DenseAxisArray{VariableRef,2,...} with index sets:\n",
       "    Dimension 1, [1, 2, 3, 4, 5, 6, 7, 8, 9, 10  …  12, 13, 14, 15, 16, 17, 18, 19, 20, 21]\n",
       "    Dimension 2, [1, 2, 3, 4, 5, 6, 7, 8, 9, 10  …  12, 13, 14, 15, 16, 17, 18, 19, 20, 21]\n",
       "And data, a 21×21 Array{VariableRef,2}:\n",
       " x[1,1]   x[1,2]   x[1,3]   x[1,4]   x[1,5]   …  x[1,19]   x[1,20]   x[1,21] \n",
       " x[2,1]   x[2,2]   x[2,3]   x[2,4]   x[2,5]      x[2,19]   x[2,20]   x[2,21] \n",
       " x[3,1]   x[3,2]   x[3,3]   x[3,4]   x[3,5]      x[3,19]   x[3,20]   x[3,21] \n",
       " x[4,1]   x[4,2]   x[4,3]   x[4,4]   x[4,5]      x[4,19]   x[4,20]   x[4,21] \n",
       " x[5,1]   x[5,2]   x[5,3]   x[5,4]   x[5,5]      x[5,19]   x[5,20]   x[5,21] \n",
       " x[6,1]   x[6,2]   x[6,3]   x[6,4]   x[6,5]   …  x[6,19]   x[6,20]   x[6,21] \n",
       " x[7,1]   x[7,2]   x[7,3]   x[7,4]   x[7,5]      x[7,19]   x[7,20]   x[7,21] \n",
       " x[8,1]   x[8,2]   x[8,3]   x[8,4]   x[8,5]      x[8,19]   x[8,20]   x[8,21] \n",
       " x[9,1]   x[9,2]   x[9,3]   x[9,4]   x[9,5]      x[9,19]   x[9,20]   x[9,21] \n",
       " x[10,1]  x[10,2]  x[10,3]  x[10,4]  x[10,5]     x[10,19]  x[10,20]  x[10,21]\n",
       " x[11,1]  x[11,2]  x[11,3]  x[11,4]  x[11,5]  …  x[11,19]  x[11,20]  x[11,21]\n",
       " x[12,1]  x[12,2]  x[12,3]  x[12,4]  x[12,5]     x[12,19]  x[12,20]  x[12,21]\n",
       " x[13,1]  x[13,2]  x[13,3]  x[13,4]  x[13,5]     x[13,19]  x[13,20]  x[13,21]\n",
       " x[14,1]  x[14,2]  x[14,3]  x[14,4]  x[14,5]     x[14,19]  x[14,20]  x[14,21]\n",
       " x[15,1]  x[15,2]  x[15,3]  x[15,4]  x[15,5]     x[15,19]  x[15,20]  x[15,21]\n",
       " x[16,1]  x[16,2]  x[16,3]  x[16,4]  x[16,5]  …  x[16,19]  x[16,20]  x[16,21]\n",
       " x[17,1]  x[17,2]  x[17,3]  x[17,4]  x[17,5]     x[17,19]  x[17,20]  x[17,21]\n",
       " x[18,1]  x[18,2]  x[18,3]  x[18,4]  x[18,5]     x[18,19]  x[18,20]  x[18,21]\n",
       " x[19,1]  x[19,2]  x[19,3]  x[19,4]  x[19,5]     x[19,19]  x[19,20]  x[19,21]\n",
       " x[20,1]  x[20,2]  x[20,3]  x[20,4]  x[20,5]     x[20,19]  x[20,20]  x[20,21]\n",
       " x[21,1]  x[21,2]  x[21,3]  x[21,4]  x[21,5]  …  x[21,19]  x[21,20]  x[21,21]"
      ]
     },
     "execution_count": 5,
     "metadata": {},
     "output_type": "execute_result"
    }
   ],
   "source": [
    "@variable(model, x[S,N], Bin)"
   ]
  },
  {
   "cell_type": "markdown",
   "metadata": {},
   "source": [
    "* **Creating objective function**\n",
    "\n",
    "$\\min \\sum_{s \\in S}s\\cdot x_{s,n+1}$"
   ]
  },
  {
   "cell_type": "code",
   "execution_count": 7,
   "metadata": {},
   "outputs": [
    {
     "data": {
      "text/latex": [
       "$$ x_{1,21} + 2 x_{2,21} + 3 x_{3,21} + 4 x_{4,21} + 5 x_{5,21} + 6 x_{6,21} + 7 x_{7,21} + 8 x_{8,21} + 9 x_{9,21} + 10 x_{10,21} + 11 x_{11,21} + 12 x_{12,21} + 13 x_{13,21} + 14 x_{14,21} + 15 x_{15,21} + 16 x_{16,21} + 17 x_{17,21} + 18 x_{18,21} + 19 x_{19,21} + 20 x_{20,21} + 21 x_{21,21} $$"
      ],
      "text/plain": [
       "x[1,21] + 2 x[2,21] + 3 x[3,21] + 4 x[4,21] + 5 x[5,21] + 6 x[6,21] + 7 x[7,21] + 8 x[8,21] + 9 x[9,21] + 10 x[10,21] + 11 x[11,21] + 12 x[12,21] + 13 x[13,21] + 14 x[14,21] + 15 x[15,21] + 16 x[16,21] + 17 x[17,21] + 18 x[18,21] + 19 x[19,21] + 20 x[20,21] + 21 x[21,21]"
      ]
     },
     "execution_count": 7,
     "metadata": {},
     "output_type": "execute_result"
    }
   ],
   "source": [
    "@objective(model, Min, sum(s*x[s,n+1] for s in S))"
   ]
  },
  {
   "cell_type": "markdown",
   "metadata": {},
   "source": [
    "* **Constraint:** each task must be assigned to a single station\n",
    "\n",
    "$\\sum_{s \\in S} x_{si} = 1 \\qquad \\forall i \\in N \\cup \\{n+1\\}$"
   ]
  },
  {
   "cell_type": "code",
   "execution_count": 9,
   "metadata": {},
   "outputs": [],
   "source": [
    "@constraint(model, [i in N], sum(x[s,i] for s in S) == 1)\n",
    ";"
   ]
  },
  {
   "cell_type": "markdown",
   "metadata": {},
   "source": [
    "* **Constraint:** precedence constraints must be respected\n",
    "\n",
    "$\\sum_{s \\in S}s\\cdot x_{si} \\le \\sum_{s \\in S}s\\cdot x_{sj} \\qquad \\forall j \\in N \\cup \\{n+1\\}, \\forall i \\in P_j$"
   ]
  },
  {
   "cell_type": "code",
   "execution_count": 10,
   "metadata": {},
   "outputs": [],
   "source": [
    "@constraint(model, [j in N, i in P[j]], \n",
    "    sum(s*x[s,i] for s in S) <= sum(s*x[s,j] for s in S))\n",
    ";"
   ]
  },
  {
   "cell_type": "markdown",
   "metadata": {},
   "source": [
    "* **Constraint:** definition of cycle time as the amount of time of the most loaded station\n",
    "\n",
    "$$\\sum_{i \\in N} p_ix_{si} \\le \\overline{c} \\qquad \\forall s \\in S$$"
   ]
  },
  {
   "cell_type": "code",
   "execution_count": 14,
   "metadata": {},
   "outputs": [],
   "source": [
    "@constraint(model, [s in S], sum(p[i]*x[s,i] for i=1:n) <= c)\n",
    ";"
   ]
  },
  {
   "cell_type": "markdown",
   "metadata": {},
   "source": [
    "* **Running the model**"
   ]
  },
  {
   "cell_type": "code",
   "execution_count": 16,
   "metadata": {},
   "outputs": [
    {
     "name": "stdout",
     "output_type": "stream",
     "text": [
      "Welcome to the CBC MILP Solver \n",
      "Version: 2.9.9 \n",
      "Build Date: Dec 31 2018 \n",
      "\n",
      "command line - Cbc_C_Interface -solve -quit (default strategy 1)\n",
      "Continuous objective value is 3 - 0.00 seconds\n",
      "Cgl0004I processed model has 0 rows, 0 columns (0 integer (0 of which binary)) and 0 elements\n",
      "Cbc3007W No integer variables - nothing to do\n",
      "Cbc3007W No integer variables - nothing to do\n",
      "Cbc0006I The LP relaxation is infeasible or too expensive\n",
      "Cbc0045I Solution of 3 already found by heuristic\n",
      "Cuts at root node changed objective from 1.79769e+308 to -1.79769e+308\n",
      "Probing was tried 0 times and created 0 cuts of which 0 were active after adding rounds of cuts (0.000 seconds)\n",
      "Gomory was tried 0 times and created 0 cuts of which 0 were active after adding rounds of cuts (0.000 seconds)\n",
      "Knapsack was tried 0 times and created 0 cuts of which 0 were active after adding rounds of cuts (0.000 seconds)\n",
      "Clique was tried 0 times and created 0 cuts of which 0 were active after adding rounds of cuts (0.000 seconds)\n",
      "MixedIntegerRounding2 was tried 0 times and created 0 cuts of which 0 were active after adding rounds of cuts (0.000 seconds)\n",
      "FlowCover was tried 0 times and created 0 cuts of which 0 were active after adding rounds of cuts (0.000 seconds)\n",
      "TwoMirCuts was tried 0 times and created 0 cuts of which 0 were active after adding rounds of cuts (0.000 seconds)\n",
      "\n",
      "Result - Optimal solution found\n",
      "\n",
      "Objective value:                3.00000000\n",
      "Enumerated nodes:               0\n",
      "Total iterations:               1917\n",
      "Time (CPU seconds):             0.00\n",
      "Time (Wallclock seconds):       0.00\n",
      "\n",
      "Total time (CPU seconds):       0.00   (Wallclock seconds):       0.00\n",
      "\n"
     ]
    }
   ],
   "source": [
    "optimize!(model)"
   ]
  },
  {
   "cell_type": "markdown",
   "metadata": {},
   "source": [
    "* **Printing variables**"
   ]
  },
  {
   "cell_type": "code",
   "execution_count": 17,
   "metadata": {},
   "outputs": [
    {
     "name": "stdout",
     "output_type": "stream",
     "text": [
      "Printing solution\n",
      "Station 1: \n",
      "1 2 4 5 7 8 9 (972)\n",
      "Station 2: \n",
      "6 10 11 12 13 14 15 (991)\n",
      "Station 3: \n",
      "3 16 17 18 19 20 (919)\n"
     ]
    }
   ],
   "source": [
    "println(\"Printing solution\")\n",
    "sOpt = objective_value(model) # Optimal solution\n",
    "for s=1:sOpt\n",
    "    println(\"Station \", Int(s), \": \")\n",
    "    tmp = 0 # Overload of each station\n",
    "    for i=1:n+1\n",
    "        if(value(x[s,i]) >= 0.9 && i != n+1)\n",
    "            print(i, \" \")\n",
    "            if(i != n+1)\n",
    "                tmp += p[i]\n",
    "            end\n",
    "        end\n",
    "    end\n",
    "    println(\"(\", tmp, \")\")\n",
    "end"
   ]
  },
  {
   "cell_type": "markdown",
   "metadata": {},
   "source": [
    "### SALBP-2\n",
    "\n",
    "The *Simple Assembly Line Balancing Problem type 2* (SALBP-2) minimizes the cycle time, given a number of stations $m$. The SALBP-2 appears in situations where we have already the line installed and we want to increase the efficiency of the production. As follows, we present a feasible solution for this problem (Moreira, 2015), using the previous instance with $c=18$ and $m=3$.\n",
    "\n",
    "![(Moreira, 2015)](images/salbp-2.png)"
   ]
  },
  {
   "cell_type": "markdown",
   "metadata": {},
   "source": [
    "#### Mathematical model  \n",
    "\n",
    "The mathematical model shown in this section uses binary variables $x_{si}$. We define $c \\in \\mathbb{R}_+$ as a variable that measures the cycle time. The mathematical model of SALBP-2 reads as follows.\n",
    "\n",
    "\\begin{equation}\n",
    "\\min c\n",
    "\\end{equation}\n",
    "\n",
    "subject to\n",
    "\n",
    "\\begin{alignat}{2}\n",
    "\\sum_{s \\in S} x_{sj} = 1 &&  \\qquad & \\forall j \\in N\\\\\n",
    "\\sum_{s \\in S} sx_{si} \\le \\sum_{s \\in S} sx_{sj} &&  \\qquad &\\forall j \\in N, \\forall i \\in P_j\\\\\n",
    "\\sum_{j \\in N} p_jx_{sj} \\le c &&  \\qquad & \\forall s \\in S\\\\\n",
    "x_{sj} \\in \\{0,1\\} && \\quad &\\forall s \\in S, \\forall j \\in N \\\\\n",
    "c \\ge 0\n",
    "\\end{alignat}"
   ]
  },
  {
   "cell_type": "markdown",
   "metadata": {},
   "source": [
    "* **Creating model**"
   ]
  },
  {
   "cell_type": "code",
   "execution_count": 18,
   "metadata": {},
   "outputs": [],
   "source": [
    "# \"logLevel = 0\" silences the solver\n",
    "model = Model(with_optimizer(Cbc.Optimizer, logLevel = 0)) \n",
    ";"
   ]
  },
  {
   "cell_type": "markdown",
   "metadata": {},
   "source": [
    "* **Sets and constants (inputs)**"
   ]
  },
  {
   "cell_type": "code",
   "execution_count": 20,
   "metadata": {},
   "outputs": [
    {
     "name": "stdout",
     "output_type": "stream",
     "text": [
      "[1, 2, 3]\n",
      "[1, 2, 3, 4, 5, 6, 7, 8, 9, 10, 11, 12, 13, 14, 15, 16, 17, 18, 19, 20]\n"
     ]
    }
   ],
   "source": [
    "P = [Vector{Int}() for _ in 1:n] # set of immediate predecessors\n",
    "F = [Vector{Int}() for _ in 1:n] # set of immediate followers\n",
    "\n",
    "# Dictionary of upper bounds for SALBP-2\n",
    "ubS = Dict(\n",
    "    \"instance_n=20_1.alb\" =>  3,\n",
    "    \"instance_n=20_2.alb\" => 3,\n",
    "    \"instance_n=20_3.alb\" => 3,\n",
    "    \"instance_n=50_1.alb\" => 8,\n",
    "    \"instance_n=50_2.alb\" => 6,\n",
    "    \"instance_n=50_3.alb\" => 8,\n",
    "    \"instance_n=100_1.alb\" => 23\n",
    ")\n",
    "\n",
    "for i=1:n\n",
    "    P[i] = copy(instance.P[i])\n",
    "    F[i] = copy(instance.F[i])\n",
    "end\n",
    "\n",
    "# Getting instance name\n",
    "subStrIdx = findfirst(\"instance_n=\",fileInstance)\n",
    "subStr = fileInstance[subStrIdx[1]:end]\n",
    "\n",
    "# Setting the upper bound of number of stations\n",
    "m = ubS[subStr]\n",
    "\n",
    "S = collect(1:m) # set of stations\n",
    "N = collect(1:n) # set of tasks\n",
    "\n",
    "println(S)\n",
    "println(N)\n",
    ";"
   ]
  },
  {
   "cell_type": "markdown",
   "metadata": {},
   "source": [
    "* **Decision variables**\n",
    "\n",
    "    * $x_{si} \\in \\{0,1\\}$: equal to one iff task $i$ is assigned to station $s$.  \n",
    "    * $c \\in \\mathbb{R}_+$: cycle time"
   ]
  },
  {
   "cell_type": "code",
   "execution_count": 130,
   "metadata": {},
   "outputs": [],
   "source": []
  },
  {
   "cell_type": "markdown",
   "metadata": {},
   "source": [
    "* **Creating objective function**\n",
    "\n",
    "$\\min c$"
   ]
  },
  {
   "cell_type": "code",
   "execution_count": 131,
   "metadata": {},
   "outputs": [],
   "source": []
  },
  {
   "cell_type": "markdown",
   "metadata": {},
   "source": [
    "* **Constraints**"
   ]
  },
  {
   "cell_type": "code",
   "execution_count": 132,
   "metadata": {},
   "outputs": [],
   "source": []
  },
  {
   "cell_type": "markdown",
   "metadata": {},
   "source": [
    "* **Running the model**"
   ]
  },
  {
   "cell_type": "code",
   "execution_count": 133,
   "metadata": {},
   "outputs": [],
   "source": []
  },
  {
   "cell_type": "markdown",
   "metadata": {},
   "source": [
    "* **Printing variables**"
   ]
  },
  {
   "cell_type": "code",
   "execution_count": null,
   "metadata": {},
   "outputs": [],
   "source": [
    "println(\"Printing solution\")\n",
    "cOpt = JuMP.objective_value(model) # Optimal solution\n",
    "println(\"Cycle time = \", cOpt)\n",
    "for s=1:m\n",
    "    println(\"Station \", Int(s), \": \")\n",
    "    tmp = 0 # Overload of each station\n",
    "    for i=1:n\n",
    "        if(value(x[s,i]) >= 0.9 && i != n+1)\n",
    "            print(i, \" \")\n",
    "            tmp += p[i]\n",
    "        end\n",
    "    end\n",
    "    println(\"(\", tmp, \")\")\n",
    "end"
   ]
  },
  {
   "cell_type": "markdown",
   "metadata": {},
   "source": [
    "## References"
   ]
  },
  {
   "cell_type": "markdown",
   "metadata": {},
   "source": [
    "Moreira, M. C. O. (2015). Problema de balanceamento de linhas de produção e integração de trabalhadores. Tese (Doutorado em Ciências de Computação e Matemática Computacional) - Instituto de Ciências Matemáticas e de Computação, Universidade de São Paulo, São Carlos. Disponível em: http://www.teses.usp.br/teses/disponiveis/55/55134/tde-08012016-145627/pt-br.php\n",
    "\n",
    "Patterson, J. H., & Albracht, J. J. (1975). Assembly-line balancing: zero-one programming with Fibonacci search. Operations Research, 23(1), 166-172.\n",
    "\n",
    "Salveson, M. (1955). The assembly line balancing problem. The Journal of Industrial Engineering, 3:18-25.\n",
    "\n",
    "Scholl (1999) A. Scholl. Balancing and sequencing of assembly lines. Physica-Verlag.\n",
    "\n",
    "Wee, T. S., & Magazine, M. J. (1982). Assembly line balancing as generalized bin packing. Operations Research Letters, 1(2), 56-58."
   ]
  }
 ],
 "metadata": {
  "kernelspec": {
   "display_name": "Julia 1.1.0",
   "language": "julia",
   "name": "julia-1.1"
  },
  "language_info": {
   "file_extension": ".jl",
   "mimetype": "application/julia",
   "name": "julia",
   "version": "1.1.0"
  }
 },
 "nbformat": 4,
 "nbformat_minor": 2
}

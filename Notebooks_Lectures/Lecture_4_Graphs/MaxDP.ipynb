{
 "cells": [
  {
   "cell_type": "markdown",
   "metadata": {},
   "source": [
    "# On modelling optimization problems via Julia JuMP\n",
    "\n",
    "## Prof. Mayron César O. Moreira \n",
    "\n",
    "**Universidade Federal de Lavras (UFLA)**  \n",
    "**Department of Computer Science**  \n",
    "**Lavras, Minas Gerais, Brazil**  \n",
    "\n",
    "*Università degli Studi di Modena e Reggio Emilia (UNIMORE)*  \n",
    "*Reggio Emilia, Italy*"
   ]
  },
  {
   "cell_type": "markdown",
   "metadata": {},
   "source": [
    "## Maximum Dispersion Problem\n",
    "\n",
    "Let $V=\\{1,...,n\\}$ be a set of objects and $d_{ij}$ be the similarity distance between objects $i,j \\in V$. We take $d_{ii}=0, \\forall i \\in V$. Define $a_i \\ge 0$ as the weight or attribute of object $i \\in V$. Consider a set of groups $C=\\{1,...,m\\}$ and a target weight $\\mathcal{M}_k \\ge 0$, for each group $k \\in C$. We allow a deviation up to $\\alpha \\ge 0$ for the parameter $\\mathcal{M}_k$ such that the sum of weights of each group must lie in the interval $[(1-\\alpha)\\mathcal{M}_k, (1+\\alpha)\\mathcal{M}_k]$. The objective consists in **maximize the minimum pairwise distance** between two objects assigned to the same group.\n",
    "\n",
    "Fernández et al. (2013) studied this problem, called **Maximum Dispersion Problem** (MaxDP), and propose the two formulations we will see this in this notebook. In that paper, the authors cite Baker & Powell (2002) study as a motivation for the MaxDP. According to Baker and Powell (2002),  a solution of the MaxDP creates groups of students that prioritize heterogeneity of academic backgrounds, which can contribute to the learning process."
   ]
  },
  {
   "cell_type": "markdown",
   "metadata": {},
   "source": [
    "* **Importing libraries**"
   ]
  },
  {
   "cell_type": "code",
   "execution_count": 1,
   "metadata": {},
   "outputs": [],
   "source": [
    "include(\"codes/instanceMaxDP.jl\")\n",
    "; # Disable output messages after the block"
   ]
  },
  {
   "cell_type": "markdown",
   "metadata": {},
   "source": [
    "* **Reading instance**\n",
    "\n",
    "    - We focus on \"*study type*\" instances. Fernández et al. (2013) evaluate the distance between each student according to Likert (1932)."
   ]
  },
  {
   "cell_type": "code",
   "execution_count": 4,
   "metadata": {},
   "outputs": [],
   "source": [
    "# MaxDP instance\n",
    "fileInstance=\"instances/maxDP/study-100-4-000-1\"\n",
    "\n",
    "io=open(fileInstance)\n",
    "\n",
    "# Reading MaxDP instance\n",
    "instance = readMaxDP(io)\n",
    ";"
   ]
  },
  {
   "cell_type": "markdown",
   "metadata": {},
   "source": [
    "### Model 1 (M1)\n",
    "\n",
    "* **Variables**\n",
    "    * $x_{ik} \\in \\{0,1\\}$: equals one if object $i$ is assigned to group $k$; zero, otherwise.  \n",
    "    * $z_{ijk} \\in \\{0,1\\}$: equals one if objects $i$ and $j$ are assigned to group $k$; zero, otherwise.\n",
    "    * $u \\ge 0$: max-min parwise distance.\n",
    "    \n",
    "Without loss of generality, it is assumed that $i < j$, to avoid symmetry due to $z_{ijk} = z_{jik}$. The model M1 reads as follows.\n",
    "\n",
    "\\begin{equation}\n",
    "\\max u\n",
    "\\end{equation}\n",
    "\n",
    "subject to\n",
    "\n",
    "\\begin{alignat}{2}\n",
    "\\sum_{k \\in C} x_{ik} = 1 &&  \\qquad & \\forall i \\in V\\\\\n",
    "\\sum_{i \\in V} a_ix_{ik} \\ge (1-\\alpha)\\mathcal{M}_k &&  \\qquad &\\forall k \\in C\\\\\n",
    "\\sum_{i \\in V} a_ix_{ik} \\le (1+\\alpha)\\mathcal{M}_k &&  \\qquad &\\forall k \\in C\\\\\n",
    "u \\le d_{ij}z_{ijk} + D(1-z_{ijk})&& \\quad &\\forall i,j \\in V, i < j, \\forall k \\in C\\\\\n",
    "x_{ik} + x_{jk} \\le 1 + z_{ijk}&& \\quad &\\forall i,j \\in V, i < j, \\forall k \\in C\\\\\n",
    "x_{ik} \\in \\{0,1\\} && \\quad &\\forall i \\in V, \\forall k \\in C\\\\\n",
    "z_{ijk} \\in \\{0,1\\} && \\quad &\\forall i,j \\in V, i < j, \\forall k \\in C\\\\\n",
    "u \\ge 0.\n",
    "\\end{alignat}"
   ]
  },
  {
   "cell_type": "markdown",
   "metadata": {},
   "source": [
    "* **Importing OR libraries**"
   ]
  },
  {
   "cell_type": "code",
   "execution_count": 5,
   "metadata": {},
   "outputs": [],
   "source": [
    "# Importing libraries\n",
    "using JuMP\n",
    "using Cbc"
   ]
  },
  {
   "cell_type": "markdown",
   "metadata": {},
   "source": [
    "* **Some parameters**"
   ]
  },
  {
   "cell_type": "code",
   "execution_count": 6,
   "metadata": {},
   "outputs": [],
   "source": [
    "n = instance.n\n",
    "m = instance.m\n",
    "\n",
    "V = collect(1:n) # set of objects\n",
    "C = collect(1:m) # set of groups\n",
    "a = instance.a # weights\n",
    "M = instance.M # target values\n",
    "d = instance.d # distances\n",
    "ud = instance.ud # unique values of distances (sorted in descending order)\n",
    "alpha = 0.05 # tolerance {0.05; 0.01; 0.001}\n",
    ";"
   ]
  },
  {
   "cell_type": "markdown",
   "metadata": {},
   "source": [
    "* **Model**\n",
    "\n",
    "    * Parameters: at most 60s, single thread, 10E-3 of allowable gap"
   ]
  },
  {
   "cell_type": "code",
   "execution_count": 7,
   "metadata": {},
   "outputs": [
    {
     "data": {
      "text/latex": [
       "$$ \\begin{alignat*}{1}\\text{feasibility}\\\\\n",
       "\\text{Subject to} \\quad\\end{alignat*}\n",
       " $$"
      ],
      "text/plain": [
       "A JuMP Model\n",
       "Feasibility problem with:\n",
       "Variables: 0\n",
       "Model mode: AUTOMATIC\n",
       "CachingOptimizer state: EMPTY_OPTIMIZER\n",
       "Solver name: COIN Branch-and-Cut (Cbc)"
      ]
     },
     "execution_count": 7,
     "metadata": {},
     "output_type": "execute_result"
    }
   ],
   "source": [
    "model = Model(with_optimizer(Cbc.Optimizer, seconds=60, \n",
    "        allowableGap=1e-3,threads=1))"
   ]
  },
  {
   "cell_type": "markdown",
   "metadata": {},
   "source": [
    "* **Variables**"
   ]
  },
  {
   "cell_type": "code",
   "execution_count": 8,
   "metadata": {},
   "outputs": [],
   "source": [
    "@variable(model, x[V,C], Bin)\n",
    "@variable(model, z[V,V,C], Bin)\n",
    "@variable(model, u >= 0)\n",
    ";"
   ]
  },
  {
   "cell_type": "markdown",
   "metadata": {},
   "source": [
    "* **Objective function**"
   ]
  },
  {
   "cell_type": "code",
   "execution_count": 9,
   "metadata": {},
   "outputs": [
    {
     "data": {
      "text/latex": [
       "$$ u $$"
      ],
      "text/plain": [
       "u"
      ]
     },
     "execution_count": 9,
     "metadata": {},
     "output_type": "execute_result"
    }
   ],
   "source": [
    "@objective(model, Max, u)"
   ]
  },
  {
   "cell_type": "markdown",
   "metadata": {},
   "source": [
    "* **Sets of constraints**\n",
    "\n",
    "We take a sufficient large constant $D = \\max_{i,j \\in V} d_{ij}$"
   ]
  },
  {
   "cell_type": "code",
   "execution_count": 10,
   "metadata": {},
   "outputs": [
    {
     "data": {
      "text/plain": [
       "61.0"
      ]
     },
     "execution_count": 10,
     "metadata": {},
     "output_type": "execute_result"
    }
   ],
   "source": [
    "D = maximum(d)"
   ]
  },
  {
   "cell_type": "markdown",
   "metadata": {},
   "source": [
    "* **Running the model**"
   ]
  },
  {
   "cell_type": "code",
   "execution_count": 12,
   "metadata": {},
   "outputs": [
    {
     "name": "stdout",
     "output_type": "stream",
     "text": [
      "Welcome to the CBC MILP Solver \n",
      "Version: 2.9.9 \n",
      "Build Date: Dec 31 2018 \n",
      "\n",
      "command line - Cbc_C_Interface -threads 1 -seconds 60 -allowableGap 0.001 -solve -quit (default strategy 1)\n",
      "threads was changed from 0 to 1\n",
      "seconds was changed from 1e+100 to 60\n",
      "allowableGap was changed from 1e-10 to 0.001\n",
      "Continuous objective value is 61 - 0.47 seconds\n",
      "Cgl0003I 0 fixed, 0 tightened bounds, 19720 strengthened rows, 0 substitutions\n",
      "Cgl0003I 0 fixed, 0 tightened bounds, 19764 strengthened rows, 0 substitutions\n",
      "Cgl0003I 0 fixed, 0 tightened bounds, 19788 strengthened rows, 0 substitutions\n",
      "Cgl0003I 0 fixed, 0 tightened bounds, 19776 strengthened rows, 0 substitutions\n",
      "Cgl0004I processed model has 39688 rows, 20193 columns (20192 integer (20192 of which binary)) and 178808 elements\n",
      "Cutoff increment increased from 1e-05 to 0.9999\n",
      "Cbc0030I Thread 0 used 0 times,  waiting to start 0.09664607, 0 cpu time, 0 locks, 0 locked, 0 waiting for locks\n",
      "Cbc0030I Main thread 0 waiting for threads,  1 locks, 0 locked, 0 waiting for locks\n",
      "Cbc0020I Exiting on maximum time\n",
      "Cbc0005I Partial search - best objective 1e+50 (best possible -61), took 0 iterations and 0 nodes (68.58 seconds)\n",
      "Cbc0035I Maximum depth 0, 0 variables fixed on reduced cost\n",
      "Cuts at root node changed objective from -61 to -61\n",
      "Probing was tried 0 times and created 0 cuts of which 0 were active after adding rounds of cuts (0.000 seconds)\n",
      "Gomory was tried 0 times and created 0 cuts of which 0 were active after adding rounds of cuts (0.000 seconds)\n",
      "Knapsack was tried 0 times and created 0 cuts of which 0 were active after adding rounds of cuts (0.000 seconds)\n",
      "Clique was tried 0 times and created 0 cuts of which 0 were active after adding rounds of cuts (0.000 seconds)\n",
      "MixedIntegerRounding2 was tried 0 times and created 0 cuts of which 0 were active after adding rounds of cuts (0.000 seconds)\n",
      "FlowCover was tried 0 times and created 0 cuts of which 0 were active after adding rounds of cuts (0.000 seconds)\n",
      "TwoMirCuts was tried 0 times and created 0 cuts of which 0 were active after adding rounds of cuts (0.000 seconds)\n",
      "\n",
      "Result - Stopped on time limit\n",
      "\n",
      "No feasible solution found\n",
      "Lower bound:                    61.000\n",
      "Enumerated nodes:               0\n",
      "Total iterations:               0\n",
      "Time (CPU seconds):             68.59\n",
      "Time (Wallclock seconds):       68.58\n",
      "\n",
      "Total time (CPU seconds):       68.63   (Wallclock seconds):       68.63\n",
      "\n"
     ]
    }
   ],
   "source": [
    "@constraints(model, begin\n",
    "        [i in V], sum(x[i,k] for k in C) == 1\n",
    "        [k in C], sum(a[i]*x[i,k] for i in V) >= (1-alpha)*M[k]\n",
    "        [k in C], sum(a[i]*x[i,k] for i in V) <= (1+alpha)*M[k]\n",
    "        [i in V, j in V, k in C; i < j], \n",
    "            u <= d[i,j]*z[i,j,k] + D*(1 - z[i,j,k])\n",
    "        [i in V, j in V, k in C; i < j], \n",
    "            x[i,k] + x[j,k] <= 1 + z[i,j,k]\n",
    "        end)\n",
    "\n",
    "optimize!(model)"
   ]
  },
  {
   "cell_type": "markdown",
   "metadata": {},
   "source": [
    "* **Printing variables**"
   ]
  },
  {
   "cell_type": "code",
   "execution_count": 14,
   "metadata": {},
   "outputs": [
    {
     "name": "stdout",
     "output_type": "stream",
     "text": [
      "Group 1: (0) (0 objects)\n",
      "Group 2: (0) (0 objects)\n",
      "Group 3: (0) (0 objects)\n",
      "Group 4: (0) (0 objects)\n"
     ]
    }
   ],
   "source": [
    "objFunction = objective_value(model) # Optimal solution\n",
    "for k in C\n",
    "    print(\"Group \", k, \": \")\n",
    "    aux = 0 # Auxiliary variable that counts the group load\n",
    "    cnt = 0 # Counts the number of objects in each group\n",
    "    for i in V\n",
    "        if(value(x[i,k]) >= 0.9)\n",
    "            print(i, \" \")\n",
    "            aux += a[i]\n",
    "            cnt += 1\n",
    "        end\n",
    "    end\n",
    "    println(\"(\", aux, \") (\", cnt, \" objects)\")\n",
    "end"
   ]
  },
  {
   "cell_type": "markdown",
   "metadata": {},
   "source": [
    "### Model 2 (M2)\n",
    "\n",
    "* **Additional parameter**\n",
    "    * $0 \\le d^1 < d^2 < d^3 < ... < d^R = D$: distinct distances over all pair of objects in ascending order.\n",
    "\n",
    "* **Variables**\n",
    "    * $w^{r} \\in \\{0,1\\}$: equals one if the overall smallest pairwise distance is at most $d^r$\n",
    "   \n",
    "The covering formulation, denoted by M2, reads as follows.\n",
    "\n",
    "\\begin{equation}\n",
    "\\max d^R + \\sum_{r=1}^{R-1} (d^r - d^{r+1})w^r\n",
    "\\end{equation}\n",
    "\n",
    "subject to\n",
    "\n",
    "\\begin{alignat}{2}\n",
    "\\sum_{k \\in C} x_{ik} = 1 &&  \\qquad & \\forall i \\in V\\\\\n",
    "\\sum_{i \\in V} a_ix_{ik} \\ge (1-\\alpha)\\mathcal{M}_k &&  \\qquad &\\forall k \\in C\\\\\n",
    "\\sum_{i \\in V} a_ix_{ik} \\le (1+\\alpha)\\mathcal{M}_k &&  \\qquad &\\forall k \\in C\\\\\n",
    "x_{ik} + x_{jk} \\le 1 + w^r&& \\quad &\\forall i,j \\in V, i < j, \\forall k \\in C, 1 \\le r \\le R| d_{ij}=d^r\\\\\n",
    "w^{r-1} \\le w^r && \\quad & 2 \\le r \\le R \\\\\n",
    "x_{ik} \\in \\{0,1\\} && \\quad &\\forall i \\in V, \\forall k \\in C\\\\\n",
    "w^r \\in \\{0,1\\} && \\quad & 1 \\le r \\le R.\n",
    "\\end{alignat}\n",
    "\n",
    "Note that if we have $R=4$ and $w^2=1$, then $w^3 = w^4 = 1$, and the function will be given by: $(d^2 - d^3) + (d^3 - d^4) + d^4 = d^2$."
   ]
  },
  {
   "cell_type": "markdown",
   "metadata": {},
   "source": [
    "* **New parameters**"
   ]
  },
  {
   "cell_type": "code",
   "execution_count": 15,
   "metadata": {},
   "outputs": [
    {
     "data": {
      "text/plain": [
       "(43,)"
      ]
     },
     "execution_count": 15,
     "metadata": {},
     "output_type": "execute_result"
    }
   ],
   "source": [
    "R, = size(ud) # number of distinct pairwise distances. \"size\" will return a tuple"
   ]
  },
  {
   "cell_type": "markdown",
   "metadata": {},
   "source": [
    "* **Model**"
   ]
  },
  {
   "cell_type": "code",
   "execution_count": 16,
   "metadata": {},
   "outputs": [
    {
     "data": {
      "text/latex": [
       "$$ \\begin{alignat*}{1}\\text{feasibility}\\\\\n",
       "\\text{Subject to} \\quad\\end{alignat*}\n",
       " $$"
      ],
      "text/plain": [
       "A JuMP Model\n",
       "Feasibility problem with:\n",
       "Variables: 0\n",
       "Model mode: AUTOMATIC\n",
       "CachingOptimizer state: EMPTY_OPTIMIZER\n",
       "Solver name: COIN Branch-and-Cut (Cbc)"
      ]
     },
     "execution_count": 16,
     "metadata": {},
     "output_type": "execute_result"
    }
   ],
   "source": [
    "model = Model(with_optimizer(Cbc.Optimizer, seconds=60, \n",
    "        allowableGap=1e-3,threads=1))"
   ]
  },
  {
   "cell_type": "markdown",
   "metadata": {},
   "source": [
    "* **Variables**"
   ]
  },
  {
   "cell_type": "code",
   "execution_count": 17,
   "metadata": {},
   "outputs": [
    {
     "data": {
      "text/plain": [
       "43-element Array{VariableRef,1}:\n",
       " w[1] \n",
       " w[2] \n",
       " w[3] \n",
       " w[4] \n",
       " w[5] \n",
       " w[6] \n",
       " w[7] \n",
       " w[8] \n",
       " w[9] \n",
       " w[10]\n",
       " w[11]\n",
       " w[12]\n",
       " w[13]\n",
       " ⋮    \n",
       " w[32]\n",
       " w[33]\n",
       " w[34]\n",
       " w[35]\n",
       " w[36]\n",
       " w[37]\n",
       " w[38]\n",
       " w[39]\n",
       " w[40]\n",
       " w[41]\n",
       " w[42]\n",
       " w[43]"
      ]
     },
     "execution_count": 17,
     "metadata": {},
     "output_type": "execute_result"
    }
   ],
   "source": [
    "@variable(model, x[V,C], Bin)\n",
    "@variable(model, w[1:R], Bin)"
   ]
  },
  {
   "cell_type": "markdown",
   "metadata": {},
   "source": [
    "* **Objective function**"
   ]
  },
  {
   "cell_type": "code",
   "execution_count": 19,
   "metadata": {},
   "outputs": [
    {
     "data": {
      "text/latex": [
       "$$ -w_{1} - 3 w_{2} - w_{3} - w_{4} - w_{5} - w_{6} - w_{7} - w_{8} - w_{9} - w_{10} - w_{11} - w_{12} - w_{13} - w_{14} - w_{15} - w_{16} - w_{17} - w_{18} - w_{19} - w_{20} - w_{21} - w_{22} - w_{23} - w_{24} - w_{25} - w_{26} - w_{27} - w_{28} - w_{29} - w_{30} - w_{31} - w_{32} - w_{33} - w_{34} - w_{35} - w_{36} - w_{37} - w_{38} - w_{39} - w_{40} - w_{41} - w_{42} + 61 $$"
      ],
      "text/plain": [
       "-w[1] - 3 w[2] - w[3] - w[4] - w[5] - w[6] - w[7] - w[8] - w[9] - w[10] - w[11] - w[12] - w[13] - w[14] - w[15] - w[16] - w[17] - w[18] - w[19] - w[20] - w[21] - w[22] - w[23] - w[24] - w[25] - w[26] - w[27] - w[28] - w[29] - w[30] - w[31] - w[32] - w[33] - w[34] - w[35] - w[36] - w[37] - w[38] - w[39] - w[40] - w[41] - w[42] + 61"
      ]
     },
     "execution_count": 19,
     "metadata": {},
     "output_type": "execute_result"
    }
   ],
   "source": [
    "@objective(model, Max, ud[R] + sum((ud[r] - ud[r+1])*w[r] for r=1:R-1))"
   ]
  },
  {
   "cell_type": "markdown",
   "metadata": {},
   "source": [
    "* **Constraints**"
   ]
  },
  {
   "cell_type": "code",
   "execution_count": 72,
   "metadata": {},
   "outputs": [],
   "source": [
    "@contraints(model, begin\n",
    "        [i in V], sum(x[i,k] for k in C) == 1\n",
    "        [k in C], sum(a[i]*x[i,k] for i in V) >= (1-alpha)*M[k]\n",
    "        [k in C], sum(a[i]*x[i,k] for i in V) <= (1+alpha)*M[k]\n",
    "        \n",
    "        end)"
   ]
  },
  {
   "cell_type": "markdown",
   "metadata": {},
   "source": [
    "* **Running the model**"
   ]
  },
  {
   "cell_type": "code",
   "execution_count": null,
   "metadata": {},
   "outputs": [],
   "source": []
  },
  {
   "cell_type": "markdown",
   "metadata": {},
   "source": [
    "* **Printing variables**"
   ]
  },
  {
   "cell_type": "code",
   "execution_count": null,
   "metadata": {},
   "outputs": [],
   "source": [
    "println(\"Objective function = \", JuMP.objective_value(model))\n",
    "for k in C\n",
    "    print(\"Group \", k, \": \")\n",
    "    aux = 0 # Auxiliary variable that counts the group load\n",
    "    cnt = 0 # Counts the number of objects in each group\n",
    "    for i in V\n",
    "        if(value(x[i,k]) >= 0.9)\n",
    "            print(i, \" \")\n",
    "            aux += a[i]\n",
    "            cnt += 1\n",
    "        end\n",
    "    end\n",
    "    println(\"(\", aux, \") (\", cnt, \" objects)\")\n",
    "end"
   ]
  },
  {
   "cell_type": "markdown",
   "metadata": {},
   "source": [
    "## References\n",
    "\n",
    "Baker, K. R., & Powell, S. G. (2002). Methods for assigning students to groups: A study of alternative objective functions. Journal of the Operational Research Society, 53(4), 397-404.\n",
    "\n",
    "Fernández, E., Kalcsics, J., & Nickel, S. (2013). The maximum dispersion problem. Omega, 41(4), 721-730.\n",
    "\n",
    "Likert, R. (1932). A technique for the measurement of attitudes. Archives of psychology."
   ]
  }
 ],
 "metadata": {
  "kernelspec": {
   "display_name": "Julia 1.1.0",
   "language": "julia",
   "name": "julia-1.1"
  },
  "language_info": {
   "file_extension": ".jl",
   "mimetype": "application/julia",
   "name": "julia",
   "version": "1.1.0"
  }
 },
 "nbformat": 4,
 "nbformat_minor": 2
}

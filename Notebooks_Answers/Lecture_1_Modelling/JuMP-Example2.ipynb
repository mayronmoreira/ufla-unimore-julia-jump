{
 "cells": [
  {
   "cell_type": "markdown",
   "metadata": {},
   "source": [
    "# On modelling optimization problems via Julia JuMP\n",
    "\n",
    "## Prof. Mayron César O. Moreira \n",
    "\n",
    "**Universidade Federal de Lavras (UFLA)**  \n",
    "**Department of Computer Science**  \n",
    "**Lavras, Minas Gerais, Brazil**  \n",
    "\n",
    "*Università degli Studi di Modena e Reggio Emilia (UNIMORE)*  \n",
    "*Reggio Emilia, Italy*"
   ]
  },
  {
   "cell_type": "markdown",
   "metadata": {},
   "source": [
    "## JuMP: Julia for Mathematical Programming"
   ]
  },
  {
   "cell_type": "markdown",
   "metadata": {},
   "source": [
    "### Problem 2: The Transportation, Transhipment and Assignment problem\n",
    "\n",
    "* This example was adapted from [\"Arenales, M., Morabito, R., Armentano, V., & Yanasse, H. (2015). Pesquisa operacional: para cursos de engenharia. Elsevier Brasil.\"](https://www.amazon.com.br/Pesquisa-Operacional-Para-cursos-engenharia-ebook/dp/B016APOY5U \"Arenales et al. (2015): \\\"PO para Engenharia\\\"\")\n",
    "\n",
    "A beverage distributor has two production centers, Reggio Emilia and Bologna, two warehouses, Parma and Firenze, and three consumer markets, Roma, Napoli and Torino. The production centers must send the products to the warehouses and then transport them to the consumer markets. Deposits have no storage capacity. In the sequence, we show the data of this problem. Note: **the data are artificially chosen. They do not represent the reality**."
   ]
  },
  {
   "cell_type": "code",
   "execution_count": 1,
   "metadata": {},
   "outputs": [
    {
     "data": {
      "text/plain": [
       "Dict{Tuple{String,String},Int64} with 10 entries:\n",
       "  (\"Bologna\", \"Firenze\")       => 2\n",
       "  (\"Reggio Emilia\", \"Parma\")   => 1\n",
       "  (\"Firenze\", \"Napoli\")        => 4\n",
       "  (\"Firenze\", \"Torino\")        => 1\n",
       "  (\"Bologna\", \"Parma\")         => 1\n",
       "  (\"Parma\", \"Roma\")            => 1\n",
       "  (\"Firenze\", \"Roma\")          => 3\n",
       "  (\"Parma\", \"Napoli\")          => 3\n",
       "  (\"Parma\", \"Torino\")          => 3\n",
       "  (\"Reggio Emilia\", \"Firenze\") => 3"
      ]
     },
     "execution_count": 1,
     "metadata": {},
     "output_type": "execute_result"
    }
   ],
   "source": [
    "# OR libraries\n",
    "using JuMP\n",
    "using Clp\n",
    "\n",
    "# Production centers\n",
    "S = [\"Reggio Emilia\",\"Bologna\"]\n",
    "\n",
    "# Warehouses (depots)\n",
    "D = [\"Parma\",\"Firenze\"]\n",
    "\n",
    "# Consumer markets\n",
    "C = [\"Roma\",\"Napoli\",\"Torino\"]\n",
    "\n",
    "# Demands\n",
    "d = Dict(\n",
    "    \"Roma\" => 500,\n",
    "    \"Napoli\" => 400,\n",
    "    \"Torino\" => 900\n",
    ")\n",
    "\n",
    "# Supply\n",
    "o = Dict(\n",
    "    \"Reggio Emilia\" => 800,\n",
    "    \"Bologna\" => 1000\n",
    ")\n",
    "\n",
    "# Transportation costs\n",
    "c = Dict(\n",
    "    (\"Reggio Emilia\",\"Parma\") => 1,\n",
    "    (\"Reggio Emilia\",\"Firenze\") => 3,\n",
    "    (\"Bologna\",\"Parma\") => 1,\n",
    "    (\"Bologna\",\"Firenze\") => 2,\n",
    "    (\"Parma\",\"Roma\") => 1,\n",
    "    (\"Parma\",\"Napoli\") => 3,\n",
    "    (\"Parma\",\"Torino\") => 3,\n",
    "    (\"Firenze\",\"Roma\") => 3,\n",
    "    (\"Firenze\",\"Napoli\") => 4,\n",
    "    (\"Firenze\",\"Torino\") => 1\n",
    ")"
   ]
  },
  {
   "cell_type": "markdown",
   "metadata": {},
   "source": [
    "We perform transportation from production centers to depots, and from depots to consumer markets. Then, all combinations we have are:"
   ]
  },
  {
   "cell_type": "code",
   "execution_count": 2,
   "metadata": {},
   "outputs": [
    {
     "data": {
      "text/plain": [
       "10-element Array{Tuple{String,String},1}:\n",
       " (\"Parma\", \"Roma\")           \n",
       " (\"Firenze\", \"Roma\")         \n",
       " (\"Parma\", \"Napoli\")         \n",
       " (\"Firenze\", \"Napoli\")       \n",
       " (\"Parma\", \"Torino\")         \n",
       " (\"Firenze\", \"Torino\")       \n",
       " (\"Reggio Emilia\", \"Parma\")  \n",
       " (\"Bologna\", \"Parma\")        \n",
       " (\"Reggio Emilia\", \"Firenze\")\n",
       " (\"Bologna\", \"Firenze\")      "
      ]
     },
     "execution_count": 2,
     "metadata": {},
     "output_type": "execute_result"
    }
   ],
   "source": [
    "# Library that will do the combinations of transportation we have among cities\n",
    "using IterTools\n",
    "\n",
    "A = Iterators.product(D,C)\n",
    "B = Iterators.product(S,D)\n",
    "A = union(A,B)"
   ]
  },
  {
   "cell_type": "markdown",
   "metadata": {},
   "source": [
    "**Objective**: to meet consumer market demand, minimizing costs."
   ]
  },
  {
   "cell_type": "markdown",
   "metadata": {},
   "source": [
    "#### Mathematical modeling"
   ]
  },
  {
   "cell_type": "markdown",
   "metadata": {},
   "source": [
    "* **Libraries**"
   ]
  },
  {
   "cell_type": "code",
   "execution_count": 3,
   "metadata": {},
   "outputs": [],
   "source": [
    "using JuMP, Clp"
   ]
  },
  {
   "cell_type": "markdown",
   "metadata": {},
   "source": [
    "* **Building a model object**"
   ]
  },
  {
   "cell_type": "code",
   "execution_count": 4,
   "metadata": {},
   "outputs": [
    {
     "data": {
      "text/latex": [
       "$$ \\begin{alignat*}{1}\\text{feasibility}\\\\\n",
       "\\text{Subject to} \\quad\\end{alignat*}\n",
       " $$"
      ],
      "text/plain": [
       "A JuMP Model\n",
       "Feasibility problem with:\n",
       "Variables: 0\n",
       "Model mode: AUTOMATIC\n",
       "CachingOptimizer state: EMPTY_OPTIMIZER\n",
       "Solver name: SolverName() attribute not implemented by the optimizer."
      ]
     },
     "execution_count": 4,
     "metadata": {},
     "output_type": "execute_result"
    }
   ],
   "source": [
    "model = Model(with_optimizer(Clp.Optimizer)) "
   ]
  },
  {
   "cell_type": "markdown",
   "metadata": {},
   "source": [
    "* **Variables**\n",
    "    * $x_{ij} \\ge 0$: quantity of beverages transported from $i$ to $j$."
   ]
  },
  {
   "cell_type": "code",
   "execution_count": 5,
   "metadata": {},
   "outputs": [
    {
     "data": {
      "text/plain": [
       "1-dimensional DenseAxisArray{VariableRef,1,...} with index sets:\n",
       "    Dimension 1, Tuple{String,String}[(\"Parma\", \"Roma\"), (\"Firenze\", \"Roma\"), (\"Parma\", \"Napoli\"), (\"Firenze\", \"Napoli\"), (\"Parma\", \"Torino\"), (\"Firenze\", \"Torino\"), (\"Reggio Emilia\", \"Parma\"), (\"Bologna\", \"Parma\"), (\"Reggio Emilia\", \"Firenze\"), (\"Bologna\", \"Firenze\")]\n",
       "And data, a 10-element Array{VariableRef,1}:\n",
       " x[(\"Parma\", \"Roma\")]           \n",
       " x[(\"Firenze\", \"Roma\")]         \n",
       " x[(\"Parma\", \"Napoli\")]         \n",
       " x[(\"Firenze\", \"Napoli\")]       \n",
       " x[(\"Parma\", \"Torino\")]         \n",
       " x[(\"Firenze\", \"Torino\")]       \n",
       " x[(\"Reggio Emilia\", \"Parma\")]  \n",
       " x[(\"Bologna\", \"Parma\")]        \n",
       " x[(\"Reggio Emilia\", \"Firenze\")]\n",
       " x[(\"Bologna\", \"Firenze\")]      "
      ]
     },
     "execution_count": 5,
     "metadata": {},
     "output_type": "execute_result"
    }
   ],
   "source": [
    "@variable(model, x[A] >= 0)"
   ]
  },
  {
   "cell_type": "markdown",
   "metadata": {},
   "source": [
    "* **Objective function**: minimize transportation costs.\n",
    "\n",
    "\\begin{equation}\n",
    "\\min f(x) = \\sum_{(i,j) \\in A} c_{ij}x_{ij}\n",
    "\\end{equation}"
   ]
  },
  {
   "cell_type": "code",
   "execution_count": 6,
   "metadata": {},
   "outputs": [
    {
     "data": {
      "text/latex": [
       "$$ x_{(\"Parma\", \"Roma\")} + 3 x_{(\"Firenze\", \"Roma\")} + 3 x_{(\"Parma\", \"Napoli\")} + 4 x_{(\"Firenze\", \"Napoli\")} + 3 x_{(\"Parma\", \"Torino\")} + x_{(\"Firenze\", \"Torino\")} + x_{(\"Reggio Emilia\", \"Parma\")} + x_{(\"Bologna\", \"Parma\")} + 3 x_{(\"Reggio Emilia\", \"Firenze\")} + 2 x_{(\"Bologna\", \"Firenze\")} $$"
      ],
      "text/plain": [
       "x[(\"Parma\", \"Roma\")] + 3 x[(\"Firenze\", \"Roma\")] + 3 x[(\"Parma\", \"Napoli\")] + 4 x[(\"Firenze\", \"Napoli\")] + 3 x[(\"Parma\", \"Torino\")] + x[(\"Firenze\", \"Torino\")] + x[(\"Reggio Emilia\", \"Parma\")] + x[(\"Bologna\", \"Parma\")] + 3 x[(\"Reggio Emilia\", \"Firenze\")] + 2 x[(\"Bologna\", \"Firenze\")]"
      ]
     },
     "execution_count": 6,
     "metadata": {},
     "output_type": "execute_result"
    }
   ],
   "source": [
    "@objective(model, Min, sum(c[a]*x[a] for a in A))"
   ]
  },
  {
   "cell_type": "markdown",
   "metadata": {},
   "source": [
    "* **Constraints**: \n",
    "\n",
    "    * Quantity transported from sources must respect their supplies.\n",
    "    \\begin{equation}\n",
    "    \\sum_{j \\in D} x_{ij} \\le o_i, \\forall i \\in S\n",
    "    \\end{equation}\n",
    "\n",
    "    * Quantity transported to destination must meet the demands\n",
    "    \\begin{equation}\n",
    "    \\sum_{i \\in D} x_{ij} = d_j, \\forall j \\in C\n",
    "    \\end{equation}\n",
    "\n",
    "    * Flow control of intermediate nodes\n",
    "    \\begin{equation}\n",
    "    \\sum_{i \\in S} x_{ij} = \\sum_{k \\in C} x_{jk}, \\forall j \\in D\n",
    "    \\end{equation}"
   ]
  },
  {
   "cell_type": "code",
   "execution_count": 7,
   "metadata": {},
   "outputs": [],
   "source": [
    "@constraints(model, begin\n",
    "        cstrS[i in S], sum(x[(i,j)] for j in D) <= o[i]\n",
    "        cstrC[j in C], sum(x[(i,j)] for i in D) == d[j]\n",
    "        cstrD[j in D], sum(x[(i,j)] for i in S) == sum(x[(j,k)] for k in C)\n",
    "        end)"
   ]
  },
  {
   "cell_type": "markdown",
   "metadata": {},
   "source": [
    "* **Optimize it!**"
   ]
  },
  {
   "cell_type": "code",
   "execution_count": 8,
   "metadata": {},
   "outputs": [
    {
     "name": "stdout",
     "output_type": "stream",
     "text": [
      "Time spent: 10.881999969482422s\n",
      "Coin0506I Presolve 4 (-3) rows, 7 (-3) columns and 14 (-6) elements\n",
      "Clp0006I 0  Obj 4000 Primal inf 1800 (1) Dual inf 2.999998 (2)\n",
      "Clp0006I 4  Obj 5300\n",
      "Clp0000I Optimal - objective value 5300\n",
      "Coin0511I After Postsolve, objective 5300, infeasibilities - dual 0 (0), primal 0 (0)\n",
      "Clp0032I Optimal objective 5300 - 4 iterations time 0.042, Presolve 0.04\n"
     ]
    }
   ],
   "source": [
    "start = time()\n",
    "optimize!(model)\n",
    "println(\"Time spent: $(time()-start)s\")"
   ]
  },
  {
   "cell_type": "markdown",
   "metadata": {},
   "source": [
    "* **Printing the solution**"
   ]
  },
  {
   "cell_type": "code",
   "execution_count": 9,
   "metadata": {},
   "outputs": [
    {
     "name": "stdout",
     "output_type": "stream",
     "text": [
      "Objective function = 5300.0\n",
      "x[(\"Parma\", \"Roma\")]: 500.0\n",
      "x[(\"Parma\", \"Napoli\")]: 400.0\n",
      "x[(\"Firenze\", \"Torino\")]: 900.0\n",
      "x[(\"Reggio Emilia\", \"Parma\")]: 800.0\n",
      "x[(\"Bologna\", \"Parma\")]: 100.0\n",
      "x[(\"Bologna\", \"Firenze\")]: 900.0\n"
     ]
    }
   ],
   "source": [
    "println(\"Objective function = \", objective_value(model))\n",
    "for i in A\n",
    "    if(value(x[i]) > 0.0)\n",
    "        println(\"x[\", i, \"]: \", value(x[i]))\n",
    "    end\n",
    "end"
   ]
  },
  {
   "cell_type": "markdown",
   "metadata": {},
   "source": [
    "* **Printing dual variables**"
   ]
  },
  {
   "cell_type": "code",
   "execution_count": 10,
   "metadata": {},
   "outputs": [
    {
     "name": "stdout",
     "output_type": "stream",
     "text": [
      "Dual variables for the first set of constraints: [0.0, 0.0]\n",
      "Dual variables for the second set of constraints: [2.0, 4.0, 3.0]\n",
      "Dual variables for the third set of constraints: [1.0, 2.0]\n"
     ]
    }
   ],
   "source": [
    "println(\"Dual variables for the first set of constraints: \", [dual(cstrS[i]) for i in S])\n",
    "println(\"Dual variables for the second set of constraints: \", [dual(cstrC[i]) for i in C])\n",
    "println(\"Dual variables for the third set of constraints: \", [dual(cstrD[i]) for i in D])"
   ]
  },
  {
   "cell_type": "code",
   "execution_count": null,
   "metadata": {},
   "outputs": [],
   "source": []
  }
 ],
 "metadata": {
  "kernelspec": {
   "display_name": "Julia 1.1.0",
   "language": "julia",
   "name": "julia-1.1"
  },
  "language_info": {
   "file_extension": ".jl",
   "mimetype": "application/julia",
   "name": "julia",
   "version": "1.1.0"
  }
 },
 "nbformat": 4,
 "nbformat_minor": 2
}

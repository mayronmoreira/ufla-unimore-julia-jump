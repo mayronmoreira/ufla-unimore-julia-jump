{
 "cells": [
  {
   "cell_type": "markdown",
   "metadata": {},
   "source": [
    "# On modelling optimization problems via Julia JuMP\n",
    "\n",
    "## Prof. Mayron César O. Moreira \n",
    "\n",
    "**Universidade Federal de Lavras (UFLA)**  \n",
    "**Department of Computer Science**  \n",
    "**Lavras, Minas Gerais, Brazil**  \n",
    "\n",
    "*Università degli Studi di Modena e Reggio Emilia (UNIMORE)*  \n",
    "*Reggio Emilia, Italy*"
   ]
  },
  {
   "cell_type": "markdown",
   "metadata": {},
   "source": [
    "## JuMP: Julia for Mathematical Programming"
   ]
  },
  {
   "cell_type": "markdown",
   "metadata": {},
   "source": [
    "### Problem 3: Lot-sizing mono-stage\n",
    "\n",
    "* This example was adapted from [\"Arenales, M., Morabito, R., Armentano, V., & Yanasse, H. (2015). Pesquisa operacional: para cursos de engenharia. Elsevier Brasil.\"](https://www.amazon.com.br/Pesquisa-Operacional-Para-cursos-engenharia-ebook/dp/B016APOY5U \"Arenales et al. (2015): \\\"PO para Engenharia\\\"\")\n",
    "\n",
    "Consider a company that manufactures $n$ products and wants to schedule its production over the next $T$ periods. Each product has a specific demand in each period, which must be exactly met. The costs of production (stock) depend on the quantity produced (stored) and vary according to the item and period. The production of a particular item consumes a certain amount of resource (e.g., water, energy, gas) pre-determined for the period in question. Given this scenario, this enterprise wants to plan the production control of the products in each period, aiming at minimizing production costs and inventory costs."
   ]
  },
  {
   "cell_type": "markdown",
   "metadata": {},
   "source": [
    "#### Mathematical modeling\n",
    "\n",
    "* **Parameters**\n",
    "    * $n$: number of products;\n",
    "    * $T$: number of periods;\n",
    "    * $d_{it}$: demand of item $i$ in the period $t$, $i=1,...,n$ and $t=1,...,T$;\n",
    "    * $R_t$: availability of resources (renewable) in the period $t$;\n",
    "    * $r_i$: amount of resources needed for the production of one unit of item $i$;\n",
    "    * $c_{it}$: production cost for one unit of item $i$ in the period $t$;\n",
    "    * $h_{it}$: inventory costs of item $i$ in the period $t$.\n",
    "    \n",
    "* **Variables**\n",
    "    * $x_{it} \\in \\mathbb{Z}_+$: quantity of item $i$ produced at period $t$;\n",
    "    * $I_{it} \\in \\mathbb{Z}_+$: quantity of item $i$ stored at period $t$.\n",
    "    \n",
    "* **Formulation**\n",
    "\n",
    "\\begin{equation}\n",
    "\\min f(x,I) = \\sum_{i=1}^{n}\\sum_{t=1}^T c_{it}x_{it} + \\sum_{i=1}^{n}\\sum_{t=1}^T h_{it}I_{it}\n",
    "\\end{equation}\n",
    "\n",
    "suject to:\n",
    "\n",
    "\\begin{equation}\n",
    "I_{i,t-1} + x_{it} - I_{it} = d_{it} \\qquad i=1,...,n,t=1,...,T\n",
    "\\end{equation}\n",
    "\n",
    "\\begin{equation}\n",
    "\\sum_{i=1}^{n}r_{i}x_{it} \\le R_t \\qquad t=1,...,T\n",
    "\\end{equation}\n",
    "\n",
    "\\begin{equation}\n",
    "x_{it} \\in \\mathbb{Z}_+ \\qquad i=1,...,n,t=1,...,T\n",
    "\\end{equation}\n",
    "\n",
    "\\begin{equation}\n",
    "I_{it} \\in \\mathbb{Z}_+ \\qquad i=1,...,n,t=1,...,T\n",
    "\\end{equation}"
   ]
  },
  {
   "cell_type": "markdown",
   "metadata": {},
   "source": [
    "* **Parameters in Julia**"
   ]
  },
  {
   "cell_type": "code",
   "execution_count": 1,
   "metadata": {},
   "outputs": [
    {
     "data": {
      "text/plain": [
       "3-element Array{Array{Int64,1},1}:\n",
       " [50, 20] \n",
       " [40, 60] \n",
       " [100, 80]"
      ]
     },
     "execution_count": 1,
     "metadata": {},
     "output_type": "execute_result"
    }
   ],
   "source": [
    "# Number of items\n",
    "n = 3\n",
    "\n",
    "# Number of periods\n",
    "T = 2\n",
    "\n",
    "# Production costs (another way to declare a matrix)\n",
    "c = [[100,80],\n",
    "     [60,80],\n",
    "     [30,200]]\n",
    "\n",
    "# Inventory costs\n",
    "h = [[2,2.5],\n",
    "     [3,3.5],\n",
    "     [3.5,3.5]]\n",
    "\n",
    "# Resource vector\n",
    "r = [0.25,0.3,0.3]\n",
    "\n",
    "# Capacity of each period\n",
    "R = [200,250]\n",
    "\n",
    "# Demands for each item, in each period\n",
    "d = [[50,20],\n",
    "     [40,60],\n",
    "     [100,80]]"
   ]
  },
  {
   "cell_type": "markdown",
   "metadata": {},
   "source": [
    "Sometimes we will need to read input files by a spreadsheet. For that purpose, I suggest to the reader \"*DataFrame*\" package: https://juliadata.github.io/DataFrames.jl/stable/man/getting_started.html."
   ]
  },
  {
   "cell_type": "markdown",
   "metadata": {},
   "source": [
    "* **OR libraries**"
   ]
  },
  {
   "cell_type": "code",
   "execution_count": 2,
   "metadata": {},
   "outputs": [],
   "source": [
    "using JuMP, Cbc"
   ]
  },
  {
   "cell_type": "markdown",
   "metadata": {},
   "source": [
    "* **Object Model**"
   ]
  },
  {
   "cell_type": "code",
   "execution_count": 3,
   "metadata": {},
   "outputs": [
    {
     "data": {
      "text/latex": [
       "$$ \\begin{alignat*}{1}\\text{feasibility}\\\\\n",
       "\\text{Subject to} \\quad\\end{alignat*}\n",
       " $$"
      ],
      "text/plain": [
       "A JuMP Model\n",
       "Feasibility problem with:\n",
       "Variables: 0\n",
       "Model mode: AUTOMATIC\n",
       "CachingOptimizer state: EMPTY_OPTIMIZER\n",
       "Solver name: COIN Branch-and-Cut (Cbc)"
      ]
     },
     "execution_count": 3,
     "metadata": {},
     "output_type": "execute_result"
    }
   ],
   "source": [
    "model = Model(with_optimizer(Cbc.Optimizer))"
   ]
  },
  {
   "cell_type": "markdown",
   "metadata": {},
   "source": [
    "* **Variables**"
   ]
  },
  {
   "cell_type": "code",
   "execution_count": 4,
   "metadata": {},
   "outputs": [
    {
     "data": {
      "text/plain": [
       "3×2 Array{VariableRef,2}:\n",
       " I[1,1]  I[1,2]\n",
       " I[2,1]  I[2,2]\n",
       " I[3,1]  I[3,2]"
      ]
     },
     "execution_count": 4,
     "metadata": {},
     "output_type": "execute_result"
    }
   ],
   "source": [
    "@variable(model, x[1:n, 1:T] >= 0, Int)\n",
    "@variable(model, I[1:n, 1:T] >= 0, Int)"
   ]
  },
  {
   "cell_type": "markdown",
   "metadata": {},
   "source": [
    "* **Objective function**"
   ]
  },
  {
   "cell_type": "code",
   "execution_count": 5,
   "metadata": {},
   "outputs": [
    {
     "data": {
      "text/latex": [
       "$$ 100 x_{1,1} + 2 I_{1,1} + 80 x_{1,2} + 2.5 I_{1,2} + 60 x_{2,1} + 3 I_{2,1} + 80 x_{2,2} + 3.5 I_{2,2} + 30 x_{3,1} + 3.5 I_{3,1} + 200 x_{3,2} + 3.5 I_{3,2} $$"
      ],
      "text/plain": [
       "100 x[1,1] + 2 I[1,1] + 80 x[1,2] + 2.5 I[1,2] + 60 x[2,1] + 3 I[2,1] + 80 x[2,2] + 3.5 I[2,2] + 30 x[3,1] + 3.5 I[3,1] + 200 x[3,2] + 3.5 I[3,2]"
      ]
     },
     "execution_count": 5,
     "metadata": {},
     "output_type": "execute_result"
    }
   ],
   "source": [
    "@objective(model, Min, sum(c[i][t]*x[i,t] + h[i][t]*I[i,t] for i=1:n for t=1:T))"
   ]
  },
  {
   "cell_type": "markdown",
   "metadata": {},
   "source": [
    "* **Constraints**"
   ]
  },
  {
   "cell_type": "code",
   "execution_count": 6,
   "metadata": {},
   "outputs": [],
   "source": [
    "@constraints(model, begin\n",
    "        # Inventory control; Demands must be attended\n",
    "        [i=1:n,t=2:T], I[i,t-1] + x[i,t] - I[i,t] == d[i][t]  \n",
    "        # Inventory control; Demands must be attended (For the first period)\n",
    "        [i=1:n], x[i,1] - I[i,1] == d[i][1]\n",
    "        # Capacity (knapsack) constraints\n",
    "        [t=1:T], sum(r[i]*x[i,t] for i=1:n) <= R[t]\n",
    "        end)"
   ]
  },
  {
   "cell_type": "markdown",
   "metadata": {},
   "source": [
    "* **Optimize it! Then we print the solution**"
   ]
  },
  {
   "cell_type": "code",
   "execution_count": 8,
   "metadata": {},
   "outputs": [
    {
     "name": "stdout",
     "output_type": "stream",
     "text": [
      "Time: 0.03400015830993652s\n",
      "Objective function = 18460.0\n",
      "x\n",
      "x[1,1]: 50.0\n",
      "x[1,2]: 20.0\n",
      "x[2,1]: 100.0\n",
      "x[3,1]: 180.0\n",
      "I\n",
      "I[2,1]: 60.0\n",
      "I[3,1]: 80.0\n",
      "Welcome to the CBC MILP Solver \n",
      "Version: 2.9.9 \n",
      "Build Date: Dec 31 2018 \n",
      "\n",
      "command line - Cbc_C_Interface -solve -quit (default strategy 1)\n",
      "Continuous objective value is 18460 - 0.00 seconds\n",
      "Cgl0004I processed model has 0 rows, 0 columns (0 integer (0 of which binary)) and 0 elements\n",
      "Cbc3007W No integer variables - nothing to do\n",
      "Cbc3007W No integer variables - nothing to do\n",
      "Cbc0006I The LP relaxation is infeasible or too expensive\n",
      "Cbc0045I Solution of 18460 already found by heuristic\n",
      "Cuts at root node changed objective from 1.79769e+308 to -1.79769e+308\n",
      "Probing was tried 0 times and created 0 cuts of which 0 were active after adding rounds of cuts (0.000 seconds)\n",
      "Gomory was tried 0 times and created 0 cuts of which 0 were active after adding rounds of cuts (0.000 seconds)\n",
      "Knapsack was tried 0 times and created 0 cuts of which 0 were active after adding rounds of cuts (0.000 seconds)\n",
      "Clique was tried 0 times and created 0 cuts of which 0 were active after adding rounds of cuts (0.000 seconds)\n",
      "MixedIntegerRounding2 was tried 0 times and created 0 cuts of which 0 were active after adding rounds of cuts (0.000 seconds)\n",
      "FlowCover was tried 0 times and created 0 cuts of which 0 were active after adding rounds of cuts (0.000 seconds)\n",
      "TwoMirCuts was tried 0 times and created 0 cuts of which 0 were active after adding rounds of cuts (0.000 seconds)\n",
      "\n",
      "Result - Optimal solution found\n",
      "\n",
      "Objective value:                18460.00000000\n",
      "Enumerated nodes:               0\n",
      "Total iterations:               0\n",
      "Time (CPU seconds):             0.03\n",
      "Time (Wallclock seconds):       0.03\n",
      "\n",
      "Total time (CPU seconds):       0.03   (Wallclock seconds):       0.03\n",
      "\n"
     ]
    }
   ],
   "source": [
    "start = time()\n",
    "optimize!(model)\n",
    "\n",
    "println(\"Time: $(time()-start)s\")\n",
    "println(\"Objective function = \", objective_value(model))\n",
    "\n",
    "println(\"x\")\n",
    "for i=1:n\n",
    "    for t=1:T\n",
    "        if(value(x[i,t]) > 0)\n",
    "            println(\"x[\", i, \",\", t, \"]: \", value(x[i,t]))\n",
    "        end\n",
    "    end\n",
    "end\n",
    "\n",
    "println(\"I\")\n",
    "for i=1:n\n",
    "    for t=1:T\n",
    "        if(value(I[i,t]) > 0)\n",
    "            println(\"I[\", i, \",\", t, \"]: \", value(I[i,t]))\n",
    "        end\n",
    "    end\n",
    "end"
   ]
  },
  {
   "cell_type": "code",
   "execution_count": null,
   "metadata": {},
   "outputs": [],
   "source": []
  }
 ],
 "metadata": {
  "kernelspec": {
   "display_name": "Julia 1.1.0",
   "language": "julia",
   "name": "julia-1.1"
  },
  "language_info": {
   "file_extension": ".jl",
   "mimetype": "application/julia",
   "name": "julia",
   "version": "1.1.0"
  }
 },
 "nbformat": 4,
 "nbformat_minor": 2
}

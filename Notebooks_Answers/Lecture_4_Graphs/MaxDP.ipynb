{
 "cells": [
  {
   "cell_type": "markdown",
   "metadata": {},
   "source": [
    "# On modelling optimization problems via Julia JuMP\n",
    "\n",
    "## Prof. Mayron César O. Moreira \n",
    "\n",
    "**Universidade Federal de Lavras (UFLA)**  \n",
    "**Department of Computer Science**  \n",
    "**Lavras, Minas Gerais, Brazil**  \n",
    "\n",
    "*Università degli Studi di Modena e Reggio Emilia (UNIMORE)*  \n",
    "*Reggio Emilia, Italy*"
   ]
  },
  {
   "cell_type": "markdown",
   "metadata": {},
   "source": [
    "## Maximum Dispersion Problem\n",
    "\n",
    "Let $V=\\{1,...,n\\}$ be a set of objects and $d_{ij}$ be the similarity distance between objects $i,j \\in V$. We take $d_{ii}=0, \\forall i \\in V$. Define $a_i \\ge 0$ as the weight or attribute of object $i \\in V$. Consider a set of groups $C=\\{1,...,m\\}$ and a target weight $\\mathcal{M}_k \\ge 0$, for each group $k \\in C$. We allow a deviation up to $\\alpha \\ge 0$ for the parameter $\\mathcal{M}_k$ such that the sum of weights of each group must lie in the interval $[(1-\\alpha)\\mathcal{M}_k, (1+\\alpha)\\mathcal{M}_k]$. The objective consists in **maximize the minimum pairwise distance** between two objects assigned to the same group.\n",
    "\n",
    "Fernández et al. (2013) studied this problem, called **Maximum Dispersion Problem** (MaxDP), and propose the two formulations we will see this in this notebook. In that paper, the authors cite Baker & Powell (2002) study as a motivation for the MaxDP. According to Baker and Powell (2002),  a solution of the MaxDP creates groups of students that prioritize heterogeneity of academic backgrounds, which can contribute to the learning process."
   ]
  },
  {
   "cell_type": "markdown",
   "metadata": {},
   "source": [
    "* **Importing libraries**"
   ]
  },
  {
   "cell_type": "code",
   "execution_count": 1,
   "metadata": {},
   "outputs": [],
   "source": [
    "include(\"codes/instanceMaxDP.jl\")\n",
    "; # Disable output messages after the block"
   ]
  },
  {
   "cell_type": "markdown",
   "metadata": {},
   "source": [
    "* **Reading instance**\n",
    "\n",
    "    - We focus on \"*study type*\" instances. Fernández et al. (2013) evaluate the distance between each student according to Likert (1932)."
   ]
  },
  {
   "cell_type": "code",
   "execution_count": 2,
   "metadata": {},
   "outputs": [],
   "source": [
    "# MaxDP instance\n",
    "fileInstance=\"instances/maxDP/study-100-4-000-1\"\n",
    "\n",
    "io=open(fileInstance)\n",
    "\n",
    "# Reading MaxDP instance\n",
    "instance = readMaxDP(io)\n",
    ";"
   ]
  },
  {
   "cell_type": "markdown",
   "metadata": {},
   "source": [
    "### Model 1 (M1)\n",
    "\n",
    "* **Variables**\n",
    "    * $x_{ik} \\in \\{0,1\\}$: equals one if object $i$ is assigned to group $k$; zero, otherwise.  \n",
    "    * $z_{ijk} \\in \\{0,1\\}$: equals one if objects $i$ and $j$ are assigned to group $k$; zero, otherwise.\n",
    "    * $u \\ge 0$: max-min parwise distance.\n",
    "    \n",
    "Without loss of generality, it is assumed that $i < j$, to avoid symmetry due to $z_{ijk} = z_{jik}$. The model M1 reads as follows.\n",
    "\n",
    "\\begin{equation}\n",
    "\\max u\n",
    "\\end{equation}\n",
    "\n",
    "subject to\n",
    "\n",
    "\\begin{alignat}{2}\n",
    "\\sum_{k \\in C} x_{ik} = 1 &&  \\qquad & \\forall i \\in V\\\\\n",
    "\\sum_{i \\in V} a_ix_{ik} \\ge (1-\\alpha)\\mathcal{M}_k &&  \\qquad &\\forall k \\in C\\\\\n",
    "\\sum_{i \\in V} a_ix_{ik} \\le (1+\\alpha)\\mathcal{M}_k &&  \\qquad &\\forall k \\in C\\\\\n",
    "u \\le d_{ij}z_{ijk} + D(1-z_{ijk})&& \\quad &\\forall i,j \\in V, i < j, \\forall k \\in C\\\\\n",
    "x_{ik} + x_{jk} \\le 1 + z_{ijk}&& \\quad &\\forall i,j \\in V, i < j, \\forall k \\in C\\\\\n",
    "x_{ik} \\in \\{0,1\\} && \\quad &\\forall i \\in V, \\forall k \\in C\\\\\n",
    "z_{ijk} \\in \\{0,1\\} && \\quad &\\forall i,j \\in V, i < j, \\forall k \\in C\\\\\n",
    "u \\ge 0.\n",
    "\\end{alignat}"
   ]
  },
  {
   "cell_type": "markdown",
   "metadata": {},
   "source": [
    "* **Importing OR libraries**"
   ]
  },
  {
   "cell_type": "code",
   "execution_count": 3,
   "metadata": {},
   "outputs": [],
   "source": [
    "# Importing libraries\n",
    "using JuMP\n",
    "using Cbc"
   ]
  },
  {
   "cell_type": "markdown",
   "metadata": {},
   "source": [
    "* **Some parameters**"
   ]
  },
  {
   "cell_type": "code",
   "execution_count": 4,
   "metadata": {},
   "outputs": [],
   "source": [
    "n = instance.n\n",
    "m = instance.m\n",
    "\n",
    "V = collect(1:n) # set of objects\n",
    "C = collect(1:m) # set of groups\n",
    "a = instance.a # weights\n",
    "M = instance.M # target values\n",
    "d = instance.d # distances\n",
    "ud = instance.ud # unique values of distances (sorted in descending order)\n",
    "alpha = 0.05 # tolerance {0.05; 0.01; 0.001}\n",
    ";"
   ]
  },
  {
   "cell_type": "markdown",
   "metadata": {},
   "source": [
    "* **Model**"
   ]
  },
  {
   "cell_type": "code",
   "execution_count": 5,
   "metadata": {},
   "outputs": [],
   "source": [
    "model = Model(with_optimizer(Cbc.Optimizer, seconds = 60,threads = 1, \n",
    "        allowableGap = 10E-3, logLevel = 0))\n",
    ";"
   ]
  },
  {
   "cell_type": "markdown",
   "metadata": {},
   "source": [
    "* **Variables**"
   ]
  },
  {
   "cell_type": "code",
   "execution_count": 6,
   "metadata": {},
   "outputs": [],
   "source": [
    "@variable(model, x[V,C], Bin)\n",
    "@variable(model, z[V,V,C], Bin)\n",
    "@variable(model, u >= 0)\n",
    ";"
   ]
  },
  {
   "cell_type": "markdown",
   "metadata": {},
   "source": [
    "* **Objective function**"
   ]
  },
  {
   "cell_type": "code",
   "execution_count": 7,
   "metadata": {},
   "outputs": [],
   "source": [
    "@objective(model, Max, u)\n",
    ";"
   ]
  },
  {
   "cell_type": "markdown",
   "metadata": {},
   "source": [
    "* **Sets of constraints**\n",
    "\n",
    "We take a sufficient large constant $D = \\max_{i,j \\in V} d_{ij}$"
   ]
  },
  {
   "cell_type": "code",
   "execution_count": 8,
   "metadata": {},
   "outputs": [],
   "source": [
    "D = maximum(d)\n",
    "\n",
    "@constraints(model, \n",
    "    begin\n",
    "        # each object must be assigned to a group\n",
    "        [i in V], sum(x[i,k] for k in C) == 1 \n",
    "        # target values must be respected, given a tolerance \n",
    "        [k in C], sum(a[i]*x[i,k] for i in V) >= (1 - alpha)*M[k]\n",
    "        [k in C], sum(a[i]*x[i,k] for i in V) <= (1 + alpha)*M[k]\n",
    "        # definition of variable u\n",
    "        [i in V, j in V, k in C; i < j], u <= d[i,j]*z[i,j,k] + D*(1-z[i,j,k])\n",
    "        # Definition of variable z[i,j,k]: one if x[i,k] and x[j,k] are equal to one\n",
    "        [i in V, j in V, k in C; i < j], x[i,k] + x[j,k] <= 1 + z[i,j,k]\n",
    "    end)\n",
    "\n",
    "#= Printing the model in a file\n",
    "f = open(\"Test.lp\", \"w\")\n",
    "print(f, model)\n",
    "close(f)\n",
    "=#"
   ]
  },
  {
   "cell_type": "markdown",
   "metadata": {},
   "source": [
    "* **Running the model**"
   ]
  },
  {
   "cell_type": "code",
   "execution_count": null,
   "metadata": {},
   "outputs": [],
   "source": [
    "optimize!(model)"
   ]
  },
  {
   "cell_type": "markdown",
   "metadata": {},
   "source": [
    "* **Printing variables**"
   ]
  },
  {
   "cell_type": "code",
   "execution_count": null,
   "metadata": {},
   "outputs": [],
   "source": [
    "objFunction = objective_value(model) # Optimal solution\n",
    "for k in C\n",
    "    print(\"Group \", k, \": \")\n",
    "    aux = 0 # Auxiliary variable that counts the group load\n",
    "    cnt = 0 # Counts the number of objects in each group\n",
    "    for i in V\n",
    "        if(value(x[i,k]) >= 0.9)\n",
    "            print(i, \" \")\n",
    "            aux += a[i]\n",
    "            cnt += 1\n",
    "        end\n",
    "    end\n",
    "    println(\"(\", aux, \") (\", cnt, \" objects)\")\n",
    "end"
   ]
  },
  {
   "cell_type": "markdown",
   "metadata": {},
   "source": [
    "### Model 2 (M2)\n",
    "\n",
    "* **Additional parameter**\n",
    "    * $0 \\le d^1 < d^2 < d^3 < ... < d^R = D$: distinct distances over all pair of objects in ascending order.\n",
    "\n",
    "* **Variables**\n",
    "    * $w^{r} \\in \\{0,1\\}$: equals one if the overall smallest pairwise distance is at most $d^r$\n",
    "   \n",
    "The covering formulation, denoted by M2, reads as follows.\n",
    "\n",
    "\\begin{equation}\n",
    "\\max d^R + \\sum_{r=1}^{R-1} (d^r - d^{r+1})w^r\n",
    "\\end{equation}\n",
    "\n",
    "subject to\n",
    "\n",
    "\\begin{alignat}{2}\n",
    "\\sum_{k \\in C} x_{ik} = 1 &&  \\qquad & \\forall i \\in V\\\\\n",
    "\\sum_{i \\in V} a_ix_{ik} \\ge (1-\\alpha)\\mathcal{M}_k &&  \\qquad &\\forall k \\in C\\\\\n",
    "\\sum_{i \\in V} a_ix_{ik} \\le (1+\\alpha)\\mathcal{M}_k &&  \\qquad &\\forall k \\in C\\\\\n",
    "x_{ik} + x_{jk} \\le 1 + w^r&& \\quad &\\forall i,j \\in V, i < j, \\forall k \\in C, 1 \\le r \\le R| d_{ij}=d^r\\\\\n",
    "w^{r-1} \\le w^r && \\quad & 2 \\le r \\le R \\\\\n",
    "x_{ik} \\in \\{0,1\\} && \\quad &\\forall i \\in V, \\forall k \\in C\\\\\n",
    "u^r \\in \\{0,1\\} && \\quad & 1 \\le r \\le R.\n",
    "\\end{alignat}\n",
    "\n",
    "Note that if we have $R=4$ and $w^2=1$, then $w^3 = w^4 = 1$, and the function will be given by: $(d^2 - d^3) + (d^3 - d^4) + d^4 = d^2$."
   ]
  },
  {
   "cell_type": "markdown",
   "metadata": {},
   "source": [
    "* **New parameters**"
   ]
  },
  {
   "cell_type": "code",
   "execution_count": null,
   "metadata": {},
   "outputs": [],
   "source": [
    "R, = size(ud) # number of distinct pairwise distances. \"size\" will return a tuple\n",
    "println(ud)"
   ]
  },
  {
   "cell_type": "markdown",
   "metadata": {},
   "source": [
    "* **Model**"
   ]
  },
  {
   "cell_type": "code",
   "execution_count": 39,
   "metadata": {},
   "outputs": [],
   "source": [
    "model = Model(with_optimizer(Cbc.Optimizer, seconds = 60,threads = 1, \n",
    "        allowableGap = 10E-3, logLevel = 0))\n",
    ";"
   ]
  },
  {
   "cell_type": "markdown",
   "metadata": {},
   "source": [
    "* **Variables**"
   ]
  },
  {
   "cell_type": "code",
   "execution_count": 40,
   "metadata": {},
   "outputs": [],
   "source": [
    "@variable(model, x[V,C], Bin)\n",
    "@variable(model, w[1:R], Bin)\n",
    ";"
   ]
  },
  {
   "cell_type": "markdown",
   "metadata": {},
   "source": [
    "* **Objective function**"
   ]
  },
  {
   "cell_type": "code",
   "execution_count": 41,
   "metadata": {},
   "outputs": [],
   "source": [
    "@objective(model, Max, ud[R] + sum((ud[r] - ud[r+1])*w[r] for r=1:R-1))\n",
    ";"
   ]
  },
  {
   "cell_type": "markdown",
   "metadata": {},
   "source": [
    "* **Constraints**"
   ]
  },
  {
   "cell_type": "code",
   "execution_count": 42,
   "metadata": {},
   "outputs": [],
   "source": [
    "@constraints(model, \n",
    "    begin\n",
    "        # each object must be assigned to a group\n",
    "        [i in V], sum(x[i,k] for k in C) == 1 \n",
    "        # target values must be respected, given a tolerance \n",
    "        [k in C], sum(a[i]*x[i,k] for i in V) >= (1 - alpha)*M[k]\n",
    "        [k in C], sum(a[i]*x[i,k] for i in V) <= (1 + alpha)*M[k]\n",
    "        # set of constraints that state that objective function will return the max-min pairwise objects\n",
    "        [i in V, j in V, k in C, r=1:R; i < j && d[i,j]==ud[r]], x[i,k] + x[j,k] <= 1 + ud[r]\n",
    "        [r=2:R], w[r-1] <= w[r]\n",
    "    end)"
   ]
  },
  {
   "cell_type": "markdown",
   "metadata": {},
   "source": [
    "* **Running the model**"
   ]
  },
  {
   "cell_type": "code",
   "execution_count": 43,
   "metadata": {},
   "outputs": [],
   "source": [
    "optimize!(model)"
   ]
  },
  {
   "cell_type": "markdown",
   "metadata": {},
   "source": [
    "* **Printing variables**"
   ]
  },
  {
   "cell_type": "code",
   "execution_count": null,
   "metadata": {},
   "outputs": [],
   "source": [
    "println(\"Objective function = \", objective_value(model))\n",
    "for k in C\n",
    "    print(\"Group \", k, \": \")\n",
    "    aux = 0 # Auxiliary variable that counts the group load\n",
    "    cnt = 0 # Counts the number of objects in each group\n",
    "    for i in V\n",
    "        if(value(x[i,k]) >= 0.9)\n",
    "            print(i, \" \")\n",
    "            aux += a[i]\n",
    "            cnt += 1\n",
    "        end\n",
    "    end\n",
    "    println(\"(\", aux, \") (\", cnt, \" objects)\")\n",
    "end"
   ]
  },
  {
   "cell_type": "markdown",
   "metadata": {},
   "source": [
    "## References\n",
    "\n",
    "Baker, K. R., & Powell, S. G. (2002). Methods for assigning students to groups: A study of alternative objective functions. Journal of the Operational Research Society, 53(4), 397-404.\n",
    "\n",
    "Fernández, E., Kalcsics, J., & Nickel, S. (2013). The maximum dispersion problem. Omega, 41(4), 721-730.\n",
    "\n",
    "Likert, R. (1932). A technique for the measurement of attitudes. Archives of psychology."
   ]
  }
 ],
 "metadata": {
  "kernelspec": {
   "display_name": "Julia 1.1.0",
   "language": "julia",
   "name": "julia-1.1"
  },
  "language_info": {
   "file_extension": ".jl",
   "mimetype": "application/julia",
   "name": "julia",
   "version": "1.1.0"
  }
 },
 "nbformat": 4,
 "nbformat_minor": 2
}

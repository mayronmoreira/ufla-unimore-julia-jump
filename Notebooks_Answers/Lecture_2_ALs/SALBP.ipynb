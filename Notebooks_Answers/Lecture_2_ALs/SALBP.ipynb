{
 "cells": [
  {
   "cell_type": "markdown",
   "metadata": {},
   "source": [
    "# On modelling optimization problems via Julia JuMP\n",
    "\n",
    "## Prof. Mayron César O. Moreira \n",
    "\n",
    "**Universidade Federal de Lavras (UFLA)**  \n",
    "**Department of Computer Science**  \n",
    "**Lavras, Minas Gerais, Brazil**  \n",
    "\n",
    "*Università degli Studi di Modena e Reggio Emilia (UNIMORE)*  \n",
    "*Reggio Emilia, Italy*"
   ]
  },
  {
   "cell_type": "markdown",
   "metadata": {},
   "source": [
    "## Simple Assembly Line and Balancing Problem (SALBP)\n",
    "\n",
    "Assembly lines are standard manufacturing systems present in large-scale production. Given a scenario of labour high costs, industries try to implement efficient procedures to plan their activities in order to be competitive against developing countries.\n",
    "\n",
    "Line balancing is a classical combinatorial optimization problem introduced by Salveson (1955). We focus on its most studied variant: the *Simple Assembly Line Balancing Problem* (SALBP). We consider a set of tasks $N=\\{1,...,n\\}$, and an ordered set of stations $S=\\{1,...,m\\}$, $n,m \\in \\mathbb{N}$. Each task $i \\in N$ has an execution time defined by $p_i \\in \\mathbb{R}_+$. Let $s(i) \\in S$ be a station where task $i$ is assigned. We model technological characteristics of the line by precedence constraints between tasks such that $i \\preceq j$ ($i$ immediate precedes $j$) means that $s(i) \\le s(j)$. Consider $P_i \\subseteq N$ as a set of immediate predecessors of task $i$ and $F_i \\subseteq N$ as a set of immediate followers of task $i$. We define $c \\in \\mathbb{R}_+$ as the cycle time of the line. \n",
    "\n",
    "The feasibility version of the problem, called SALBP-F, consists in answering the following question: **\"Is there a task assignment to stations that respects precedence and cycle time constraints, given a pre-defined number of stations $m$ and a cycle time $c$?\"**. The SALBP-F is a NP-Hard problem, since it reduces to a *Partitioning Problem* (Scholl, 1999; Wee & Magazine, 1982). Figure shown below (Moreira, 2015) illustrates the SALBP-F through an example with $c=8$ and $m=5$.\n",
    "\n",
    "![](images/salbp-f.png)"
   ]
  },
  {
   "cell_type": "markdown",
   "metadata": {},
   "source": [
    "### SALBP-1\n",
    "\n",
    "The *Simple Assembly Line Balancing Problem type 1* (SALBP-1) minimizes the number of opened stations, given a cycle time $\\overline{c}$. The SALBP-1 appears in situations where we can have a good estimate of the demand, allowing a fixation of cycle time *a priori* and minimizing installation costs by means of number of stations. As follows, we present a feasible solution for this problem (Moreira, 2015), using the previous instance with $\\overline{c}=9$ and $m=4$.\n",
    "\n",
    "![(Moreira, 2015)](images/salbp-1.png)"
   ]
  },
  {
   "cell_type": "markdown",
   "metadata": {},
   "source": [
    "#### Mathematical model  \n",
    "\n",
    "The mathematical model shown in this section is based on Patterson & Albracht (1975) formulation. We define $n+1$ as a ficticious task such that $P_{n+1} = \\{i \\in N; F_i = \\varnothing\\}$ and $t_{n+1} = 0$. The objective function minimizes the station index where task $q$ is assigned, as a way to minimize the number of stations. "
   ]
  },
  {
   "cell_type": "markdown",
   "metadata": {},
   "source": [
    "* **Importing libraries**"
   ]
  },
  {
   "cell_type": "code",
   "execution_count": 1,
   "metadata": {},
   "outputs": [],
   "source": [
    "# Importing libraries\n",
    "using JuMP\n",
    "using Cbc\n",
    "include(\"codes/instanceALs.jl\")\n",
    "; # Disable output messages after the block"
   ]
  },
  {
   "cell_type": "markdown",
   "metadata": {},
   "source": [
    "* **Reading instance**"
   ]
  },
  {
   "cell_type": "code",
   "execution_count": 2,
   "metadata": {},
   "outputs": [],
   "source": [
    "# SALBP instance\n",
    "fileInstance=\"instances/salbp/instance_n=20_1.alb\"\n",
    "\n",
    "io=open(fileInstance)\n",
    "\n",
    "# Reading SALBP instance\n",
    "instance = readSALBP(io)\n",
    ";"
   ]
  },
  {
   "cell_type": "markdown",
   "metadata": {},
   "source": [
    "* **Creating model**"
   ]
  },
  {
   "cell_type": "code",
   "execution_count": 112,
   "metadata": {},
   "outputs": [],
   "source": [
    "model = Model(with_optimizer(Cbc.Optimizer))\n",
    ";"
   ]
  },
  {
   "cell_type": "markdown",
   "metadata": {},
   "source": [
    "* **Sets and constants (inputs)**"
   ]
  },
  {
   "cell_type": "code",
   "execution_count": 113,
   "metadata": {},
   "outputs": [],
   "source": [
    "n = instance.n # number of tasks\n",
    "m = instance.n # number of stations\n",
    "P = [Vector{Int}() for _ in 1:n+1] # set of immediate predecessors\n",
    "F = [Vector{Int}() for _ in 1:n+1] # set of immediate followers\n",
    "c = instance.c #cycle time\n",
    "p = instance.p\n",
    "\n",
    "for i=1:n\n",
    "    P[i] = copy(instance.P[i])\n",
    "    F[i] = copy(instance.F[i])\n",
    "    if(size(F[i],1) == 0)\n",
    "        push!(P[n+1], i)\n",
    "    end\n",
    "end\n",
    "\n",
    "S = collect(1:n+1) # set of stations\n",
    "N = collect(1:n+1) # Task n+1 corresponds to the artificial task\n",
    ";"
   ]
  },
  {
   "cell_type": "markdown",
   "metadata": {},
   "source": [
    "* **Decision variables**\n",
    "\n",
    "    * $x_{si} \\in \\{0,1\\}$: equal to one iff task $i$ is assigned to station $s$."
   ]
  },
  {
   "cell_type": "code",
   "execution_count": 114,
   "metadata": {},
   "outputs": [],
   "source": [
    "@variable(model, x[S,N], Bin)\n",
    ";"
   ]
  },
  {
   "cell_type": "markdown",
   "metadata": {},
   "source": [
    "* **Creating objective function**\n",
    "\n",
    "$\\min \\sum_{s \\in S}s\\cdot x_{s,n+1}$"
   ]
  },
  {
   "cell_type": "code",
   "execution_count": 115,
   "metadata": {},
   "outputs": [],
   "source": [
    "@objective(model, Min, sum(s*x[s,n+1] for s in S))\n",
    ";"
   ]
  },
  {
   "cell_type": "markdown",
   "metadata": {},
   "source": [
    "* **Constraint:** each task must be assigned to a single station\n",
    "\n",
    "$\\sum_{s \\in S} x_{si} = 1 \\qquad \\forall i \\in N \\cup \\{n+1\\}$"
   ]
  },
  {
   "cell_type": "code",
   "execution_count": 116,
   "metadata": {},
   "outputs": [],
   "source": [
    "@constraint(model, [i in N], sum(x[s,i] for s in S) == 1)\n",
    ";"
   ]
  },
  {
   "cell_type": "markdown",
   "metadata": {},
   "source": [
    "* **Constraint:** precedence constraints must be respected\n",
    "\n",
    "$\\sum_{s \\in S}s\\cdot x_{si} \\le \\sum_{s \\in S}s\\cdot x_{sj} \\qquad \\forall j \\in N \\cup \\{n+1\\}, \\forall i \\in P_j$"
   ]
  },
  {
   "cell_type": "code",
   "execution_count": 117,
   "metadata": {},
   "outputs": [],
   "source": [
    "@constraint(model, [j in N, i in P[j]], sum(s*x[s,i] for s in S) <= sum(s*x[s,j] for s in S))\n",
    ";"
   ]
  },
  {
   "cell_type": "markdown",
   "metadata": {},
   "source": [
    "* **Constraint:** definition of cycle time as the amount of time of the most loaded station\n",
    "\n",
    "$$\\sum_{i \\in N} p_ix_{si} \\le \\overline{c} \\qquad \\forall s \\in S$$"
   ]
  },
  {
   "cell_type": "code",
   "execution_count": 118,
   "metadata": {},
   "outputs": [],
   "source": [
    "@constraint(model, [s in S], sum(p[i]*x[s,i] for i in N if i != n+1) <= c) # We eliminate n+1 because p_{n+1} = 0\n",
    ";"
   ]
  },
  {
   "cell_type": "markdown",
   "metadata": {},
   "source": [
    "* **Running the model**"
   ]
  },
  {
   "cell_type": "code",
   "execution_count": 119,
   "metadata": {},
   "outputs": [
    {
     "name": "stdout",
     "output_type": "stream",
     "text": [
      "Welcome to the CBC MILP Solver \n",
      "Version: 2.9.9 \n",
      "Build Date: Dec 31 2018 \n",
      "\n",
      "command line - Cbc_C_Interface -solve -quit (default strategy 1)\n",
      "Continuous objective value is 1.95906 - 0.00 seconds\n",
      "Cgl0005I 21 SOS with 441 members\n",
      "Cgl0004I processed model has 65 rows, 441 columns (441 integer (441 of which binary)) and 1827 elements\n",
      "Cutoff increment increased from 1e-05 to 0.9999\n",
      "Cbc0038I Initial state - 43 integers unsatisfied sum - 14.0409\n",
      "Cbc0038I Pass   1: suminf.    2.88563 (29) obj. 3 iterations 49\n",
      "Cbc0038I Pass   2: suminf.    2.74813 (27) obj. 3 iterations 4\n",
      "Cbc0038I Pass   3: suminf.    2.93041 (22) obj. 20 iterations 17\n",
      "Cbc0038I Pass   4: suminf.    2.73729 (22) obj. 21 iterations 6\n",
      "Cbc0038I Pass   5: suminf.    2.34351 (10) obj. 21 iterations 25\n",
      "Cbc0038I Pass   6: suminf.    2.34351 (10) obj. 21 iterations 0\n",
      "Cbc0038I Pass   7: suminf.    1.70526 (8) obj. 21 iterations 5\n",
      "Cbc0038I Pass   8: suminf.    2.00000 (8) obj. 21 iterations 5\n",
      "Cbc0038I Pass   9: suminf.    1.80000 (8) obj. 21 iterations 4\n",
      "Cbc0038I Pass  10: suminf.    6.83264 (28) obj. 18 iterations 68\n",
      "Cbc0038I Pass  11: suminf.    3.36051 (18) obj. 21 iterations 30\n",
      "Cbc0038I Pass  12: suminf.    2.64004 (10) obj. 21 iterations 17\n",
      "Cbc0038I Pass  13: suminf.    2.60511 (11) obj. 21 iterations 5\n",
      "Cbc0038I Pass  14: suminf.    0.94396 (8) obj. 21 iterations 12\n",
      "Cbc0038I Pass  15: suminf.    0.94396 (8) obj. 21 iterations 1\n",
      "Cbc0038I Pass  16: suminf.    2.20659 (9) obj. 21 iterations 10\n",
      "Cbc0038I Pass  17: suminf.    1.92613 (8) obj. 21 iterations 4\n",
      "Cbc0038I Pass  18: suminf.    0.94396 (8) obj. 21 iterations 6\n",
      "Cbc0038I Pass  19: suminf.    6.58341 (24) obj. 16 iterations 60\n",
      "Cbc0038I Pass  20: suminf.    4.05706 (20) obj. 18 iterations 20\n",
      "Cbc0038I Pass  21: suminf.    3.80000 (16) obj. 18 iterations 21\n",
      "Cbc0038I Pass  22: suminf.    2.90000 (16) obj. 18 iterations 5\n",
      "Cbc0038I Pass  23: suminf.    5.13333 (16) obj. 18 iterations 16\n",
      "Cbc0038I Pass  24: suminf.    3.30000 (12) obj. 18 iterations 3\n",
      "Cbc0038I Pass  25: suminf.    2.90000 (12) obj. 18 iterations 12\n",
      "Cbc0038I Pass  26: suminf.    2.40000 (12) obj. 18 iterations 4\n",
      "Cbc0038I Pass  27: suminf.    3.80000 (12) obj. 18 iterations 8\n",
      "Cbc0038I Pass  28: suminf.    5.18107 (20) obj. 20 iterations 48\n",
      "Cbc0038I Pass  29: suminf.    4.71353 (20) obj. 20 iterations 18\n",
      "Cbc0038I Pass  30: suminf.    2.21765 (18) obj. 20 iterations 16\n",
      "Cbc0038I No solution found this major pass\n",
      "Cbc0038I Before mini branch and bound, 314 integers at bound fixed and 0 continuous\n",
      "Cbc0038I Full problem 65 rows 441 columns, reduced to 49 rows 127 columns\n",
      "Cbc0038I Mini branch and bound improved solution from 1.79769e+308 to 9 (0.08 seconds)\n",
      "Cbc0038I Round again with cutoff of 7.396\n",
      "Cbc0038I Pass  30: suminf.    2.88563 (29) obj. 3 iterations 0\n",
      "Cbc0038I Pass  31: suminf.    2.74813 (27) obj. 3 iterations 5\n",
      "Cbc0038I Pass  32: suminf.    4.83843 (26) obj. 7.396 iterations 9\n",
      "Cbc0038I Pass  33: suminf.    2.74675 (27) obj. 3 iterations 9\n",
      "Cbc0038I Pass  34: suminf.    9.77167 (32) obj. 7.396 iterations 48\n",
      "Cbc0038I Pass  35: suminf.    5.34895 (24) obj. 7.396 iterations 18\n",
      "Cbc0038I Pass  36: suminf.    4.57117 (20) obj. 7.396 iterations 2\n",
      "Cbc0038I Pass  37: suminf.    3.42748 (20) obj. 7.396 iterations 6\n",
      "Cbc0038I Pass  38: suminf.    2.74828 (20) obj. 7.396 iterations 3\n",
      "Cbc0038I Pass  39: suminf.    6.47110 (23) obj. 7.396 iterations 13\n",
      "Cbc0038I Pass  40: suminf.    3.85175 (21) obj. 7 iterations 12\n",
      "Cbc0038I Pass  41: suminf.    3.68234 (21) obj. 7.396 iterations 3\n",
      "Cbc0038I Pass  42: suminf.    6.08146 (23) obj. 7.396 iterations 12\n",
      "Cbc0038I Pass  43: suminf.    4.11053 (20) obj. 7 iterations 10\n",
      "Cbc0038I Pass  44: suminf.    3.21053 (18) obj. 7 iterations 2\n",
      "Cbc0038I Pass  45: suminf.    5.75016 (19) obj. 7.396 iterations 11\n",
      "Cbc0038I Pass  46: suminf.    3.83016 (19) obj. 7 iterations 13\n",
      "Cbc0038I Pass  47: suminf.    3.66993 (19) obj. 7.396 iterations 3\n",
      "Cbc0038I Pass  48: suminf.    3.42933 (18) obj. 7.396 iterations 8\n",
      "Cbc0038I Pass  49: suminf.    3.21053 (18) obj. 7 iterations 3\n",
      "Cbc0038I Pass  50: suminf.    5.75016 (19) obj. 7.396 iterations 11\n",
      "Cbc0038I Pass  51: suminf.    3.83016 (19) obj. 7 iterations 13\n",
      "Cbc0038I Pass  52: suminf.    3.66993 (19) obj. 7.396 iterations 3\n",
      "Cbc0038I Pass  53: suminf.    4.47252 (18) obj. 7.396 iterations 16\n",
      "Cbc0038I Pass  54: suminf.    3.11053 (16) obj. 7 iterations 7\n",
      "Cbc0038I Pass  55: suminf.    4.97720 (16) obj. 7.396 iterations 10\n",
      "Cbc0038I Pass  56: suminf.    3.67872 (16) obj. 7 iterations 15\n",
      "Cbc0038I Pass  57: suminf.    5.20835 (16) obj. 7.396 iterations 9\n",
      "Cbc0038I Pass  58: suminf.    3.77669 (16) obj. 7.396 iterations 10\n",
      "Cbc0038I Pass  59: suminf.    4.29800 (16) obj. 7.396 iterations 10\n",
      "Cbc0038I No solution found this major pass\n",
      "Cbc0038I Before mini branch and bound, 352 integers at bound fixed and 0 continuous\n",
      "Cbc0038I Full problem 65 rows 441 columns, reduced to 43 rows 84 columns\n",
      "Cbc0038I Mini branch and bound did not improve solution (0.10 seconds)\n",
      "Cbc0038I After 0.10 seconds - Feasibility pump exiting with objective of 9 - took 0.08 seconds\n",
      "Cbc0012I Integer solution of 9 found by feasibility pump after 0 iterations and 0 nodes (0.10 seconds)\n",
      "Cbc0038I Full problem 65 rows 441 columns, reduced to 25 rows 26 columns\n",
      "Cbc0012I Integer solution of 3 found by DiveCoefficient after 232 iterations and 0 nodes (0.25 seconds)\n",
      "Cbc0031I 22 added rows had average density of 185.77273\n",
      "Cbc0013I At root node, 22 cuts changed objective from 1.9590562 to 3 in 8 passes\n",
      "Cbc0014I Cut generator 0 (Probing) - 34 row cuts average 2.0 elements, 2 column cuts (2 active)  in 0.018 seconds - new frequency is 1\n",
      "Cbc0014I Cut generator 1 (Gomory) - 10 row cuts average 427.0 elements, 0 column cuts (0 active)  in 0.040 seconds - new frequency is -100\n",
      "Cbc0014I Cut generator 2 (Knapsack) - 8 row cuts average 8.5 elements, 0 column cuts (0 active)  in 0.005 seconds - new frequency is 1\n",
      "Cbc0014I Cut generator 3 (Clique) - 0 row cuts average 0.0 elements, 0 column cuts (0 active)  in 0.001 seconds - new frequency is -100\n",
      "Cbc0014I Cut generator 4 (MixedIntegerRounding2) - 42 row cuts average 52.1 elements, 0 column cuts (0 active)  in 0.007 seconds - new frequency is 1\n",
      "Cbc0014I Cut generator 5 (FlowCover) - 0 row cuts average 0.0 elements, 0 column cuts (0 active)  in 0.000 seconds - new frequency is -100\n",
      "Cbc0014I Cut generator 6 (TwoMirCuts) - 128 row cuts average 253.4 elements, 0 column cuts (0 active)  in 0.043 seconds - new frequency is 1\n",
      "Cbc0001I Search completed - best objective 3, took 232 iterations and 0 nodes (0.25 seconds)\n",
      "Cbc0035I Maximum depth 0, 0 variables fixed on reduced cost\n",
      "Cuts at root node changed objective from 1.95906 to 3\n",
      "Probing was tried 8 times and created 36 cuts of which 0 were active after adding rounds of cuts (0.018 seconds)\n",
      "Gomory was tried 8 times and created 10 cuts of which 0 were active after adding rounds of cuts (0.040 seconds)\n",
      "Knapsack was tried 8 times and created 8 cuts of which 0 were active after adding rounds of cuts (0.005 seconds)\n",
      "Clique was tried 8 times and created 0 cuts of which 0 were active after adding rounds of cuts (0.001 seconds)\n",
      "MixedIntegerRounding2 was tried 8 times and created 42 cuts of which 0 were active after adding rounds of cuts (0.007 seconds)\n",
      "FlowCover was tried 8 times and created 0 cuts of which 0 were active after adding rounds of cuts (0.000 seconds)\n",
      "TwoMirCuts was tried 8 times and created 128 cuts of which 0 were active after adding rounds of cuts (0.043 seconds)\n",
      "\n",
      "Result - Optimal solution found\n",
      "\n",
      "Objective value:                3.00000000\n",
      "Enumerated nodes:               0\n",
      "Total iterations:               232\n",
      "Time (CPU seconds):             0.25\n",
      "Time (Wallclock seconds):       0.25\n",
      "\n",
      "Total time (CPU seconds):       0.25   (Wallclock seconds):       0.25\n",
      "\n"
     ]
    }
   ],
   "source": [
    "optimize!(model)"
   ]
  },
  {
   "cell_type": "markdown",
   "metadata": {},
   "source": [
    "* **Printing variables**"
   ]
  },
  {
   "cell_type": "code",
   "execution_count": 120,
   "metadata": {},
   "outputs": [
    {
     "name": "stdout",
     "output_type": "stream",
     "text": [
      "Printing solution\n",
      "Station 1: \n",
      "1 2 6 7 10 11 13 17 (957)\n",
      "Station 2: \n",
      "4 8 12 14 18 (991)\n",
      "Station 3: \n",
      "3 5 9 15 16 19 20 (934)\n"
     ]
    }
   ],
   "source": [
    "println(\"Printing solution\")\n",
    "sOpt = JuMP.objective_value(model) # Optimal solution\n",
    "for s=1:sOpt\n",
    "    println(\"Station \", Int(s), \": \")\n",
    "    tmp = 0 # Overload of each station\n",
    "    for i=1:n+1\n",
    "        if(value(x[s,i]) >= 0.9 && i != n+1)\n",
    "            print(i, \" \")\n",
    "            if(i != n+1)\n",
    "                tmp += p[i]\n",
    "            end\n",
    "        end\n",
    "    end\n",
    "    println(\"(\", tmp, \")\")\n",
    "end\n",
    "    "
   ]
  },
  {
   "cell_type": "markdown",
   "metadata": {},
   "source": [
    "### SALBP-2\n",
    "\n",
    "The *Simple Assembly Line Balancing Problem type 2* (SALBP-2) minimizes the cycle time, given a number of stations $m$. The SALBP-2 appears in situations where we have already the line installed and we want to increase the efficiency of the production. As follows, we present a feasible solution for this problem (Moreira, 2015), using the previous instance with $c=18$ and $m=3$.\n",
    "\n",
    "![(Moreira, 2015)](images/salbp-2.png)"
   ]
  },
  {
   "cell_type": "markdown",
   "metadata": {},
   "source": [
    "#### Mathematical model  \n",
    "\n",
    "The mathematical model shown in this section uses binary variables $x_{si}$. We define $c \\in \\mathbb{R}_+$ as a variable that measures the cycle time. The mathematical model of SALBP-2 reads as follows.\n",
    "\n",
    "\\begin{equation}\n",
    "\\min c\n",
    "\\end{equation}\n",
    "\n",
    "subject to\n",
    "\n",
    "\\begin{alignat}{2}\n",
    "\\sum_{s \\in S} x_{sj} = 1 &&  \\qquad & \\forall j \\in N\\\\\n",
    "\\sum_{s \\in S} sx_{si} \\le \\sum_{s \\in S} sx_{sj} &&  \\qquad &\\forall j \\in N, \\forall i \\in P_j\\\\\n",
    "\\sum_{j \\in N} p_jx_{sj} \\le c &&  \\qquad & \\forall s \\in S\\\\\n",
    "x_{sj} \\in \\{0,1\\} && \\quad &\\forall s \\in S, \\forall j \\in N.\n",
    "\\end{alignat}"
   ]
  },
  {
   "cell_type": "markdown",
   "metadata": {},
   "source": [
    "* **Creating model**"
   ]
  },
  {
   "cell_type": "code",
   "execution_count": 128,
   "metadata": {},
   "outputs": [],
   "source": [
    "# \"logLevel = 0\" silences the solver\n",
    "model = Model(with_optimizer(Cbc.Optimizer, logLevel = 0)) \n",
    ";"
   ]
  },
  {
   "cell_type": "markdown",
   "metadata": {},
   "source": [
    "* **Sets and constants (inputs)**"
   ]
  },
  {
   "cell_type": "code",
   "execution_count": 129,
   "metadata": {},
   "outputs": [],
   "source": [
    "P = [Vector{Int}() for _ in 1:n] # set of immediate predecessors\n",
    "F = [Vector{Int}() for _ in 1:n] # set of immediate followers\n",
    "\n",
    "# Dictionary of upper bounds for SALBP-2\n",
    "ubS = Dict(\n",
    "    \"instance_n=20_1.alb\" =>  3,\n",
    "    \"instance_n=20_2.alb\" => 3,\n",
    "    \"instance_n=20_3.alb\" => 3,\n",
    "    \"instance_n=50_1.alb\" => 8,\n",
    "    \"instance_n=50_2.alb\" => 6,\n",
    "    \"instance_n=50_3.alb\" => 8,\n",
    "    \"instance_n=100_1.alb\" => 23\n",
    ")\n",
    "\n",
    "for i=1:n\n",
    "    P[i] = copy(instance.P[i])\n",
    "    F[i] = copy(instance.F[i])\n",
    "end\n",
    "\n",
    "# Getting instance name\n",
    "subStrIdx = findfirst(\"instance_n=\",fileInstance)\n",
    "subStr = fileInstance[subStrIdx[1]:end]\n",
    "\n",
    "# Setting the upper bound of number of stations\n",
    "m = ubS[subStr]\n",
    "\n",
    "S = collect(1:m) # set of stations\n",
    "N = collect(1:n) # set of tasks\n",
    ";"
   ]
  },
  {
   "cell_type": "markdown",
   "metadata": {},
   "source": [
    "* **Decision variables**\n",
    "\n",
    "    * $x_{si} \\in \\{0,1\\}$: equal to one iff task $i$ is assigned to station $s$.  \n",
    "    * $c \\in \\mathbb{R}_+$: cycle time"
   ]
  },
  {
   "cell_type": "code",
   "execution_count": 130,
   "metadata": {},
   "outputs": [],
   "source": [
    "@variable(model, x[S,N], Bin)\n",
    "@variable(model, c)\n",
    ";"
   ]
  },
  {
   "cell_type": "markdown",
   "metadata": {},
   "source": [
    "* **Creating objective function**\n",
    "\n",
    "$\\min c$"
   ]
  },
  {
   "cell_type": "code",
   "execution_count": 131,
   "metadata": {},
   "outputs": [],
   "source": [
    "@objective(model, Min, c)\n",
    ";"
   ]
  },
  {
   "cell_type": "markdown",
   "metadata": {},
   "source": [
    "* **Constraints**"
   ]
  },
  {
   "cell_type": "code",
   "execution_count": 132,
   "metadata": {},
   "outputs": [],
   "source": [
    "@constraints(model,\n",
    "    begin\n",
    "        [i in N], sum(x[s,i] for s in S) == 1\n",
    "        [j in N, i in P[j]], sum(s*x[s,i] for s in S) <= sum(s*x[s,j] for s in S)\n",
    "        [s in S], sum(p[i]*x[s,i] for i in N) <= c\n",
    "    end)\n",
    ";"
   ]
  },
  {
   "cell_type": "markdown",
   "metadata": {},
   "source": [
    "* **Running the model**"
   ]
  },
  {
   "cell_type": "code",
   "execution_count": 133,
   "metadata": {},
   "outputs": [],
   "source": [
    "optimize!(model)"
   ]
  },
  {
   "cell_type": "markdown",
   "metadata": {},
   "source": [
    "* **Printing variables**"
   ]
  },
  {
   "cell_type": "code",
   "execution_count": 134,
   "metadata": {},
   "outputs": [
    {
     "name": "stdout",
     "output_type": "stream",
     "text": [
      "Printing solution\n",
      "Cycle time = 962.0\n",
      "Station 1: \n",
      "1 2 3 4 7 8 11 (959)\n",
      "Station 2: \n",
      "6 10 13 16 18 (961)\n",
      "Station 3: \n",
      "5 9 12 14 15 17 19 20 (962)\n"
     ]
    }
   ],
   "source": [
    "println(\"Printing solution\")\n",
    "cOpt = JuMP.objective_value(model) # Optimal solution\n",
    "println(\"Cycle time = \", cOpt)\n",
    "for s=1:m\n",
    "    println(\"Station \", Int(s), \": \")\n",
    "    tmp = 0 # Overload of each station\n",
    "    for i=1:n\n",
    "        if(value(x[s,i]) >= 0.9 && i != n+1)\n",
    "            print(i, \" \")\n",
    "            tmp += p[i]\n",
    "        end\n",
    "    end\n",
    "    println(\"(\", tmp, \")\")\n",
    "end"
   ]
  },
  {
   "cell_type": "markdown",
   "metadata": {},
   "source": [
    "## References"
   ]
  },
  {
   "cell_type": "markdown",
   "metadata": {},
   "source": [
    "Moreira, M. C. O. (2015). Problema de balanceamento de linhas de produção e integração de trabalhadores. Tese (Doutorado em Ciências de Computação e Matemática Computacional) - Instituto de Ciências Matemáticas e de Computação, Universidade de São Paulo, São Carlos. Disponível em: http://www.teses.usp.br/teses/disponiveis/55/55134/tde-08012016-145627/pt-br.php\n",
    "\n",
    "Patterson, J. H., & Albracht, J. J. (1975). Assembly-line balancing: zero-one programming with Fibonacci search. Operations Research, 23(1), 166-172.\n",
    "\n",
    "Salveson, M. (1955). The assembly line balancing problem. The Journal of Industrial Engineering, 3:18-25.\n",
    "\n",
    "Scholl (1999) A. Scholl. Balancing and sequencing of assembly lines. Physica-Verlag.\n",
    "\n",
    "Wee, T. S., & Magazine, M. J. (1982). Assembly line balancing as generalized bin packing. Operations Research Letters, 1(2), 56-58."
   ]
  }
 ],
 "metadata": {
  "kernelspec": {
   "display_name": "Julia 1.1.0",
   "language": "julia",
   "name": "julia-1.1"
  },
  "language_info": {
   "file_extension": ".jl",
   "mimetype": "application/julia",
   "name": "julia",
   "version": "1.1.0"
  }
 },
 "nbformat": 4,
 "nbformat_minor": 2
}

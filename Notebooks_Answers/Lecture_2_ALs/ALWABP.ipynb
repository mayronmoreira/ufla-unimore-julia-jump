{
 "cells": [
  {
   "cell_type": "markdown",
   "metadata": {},
   "source": [
    "# On modelling optimization problems via Julia JuMP\n",
    "\n",
    "## Prof. Mayron César O. Moreira \n",
    "\n",
    "**Universidade Federal de Lavras (UFLA)**  \n",
    "**Department of Computer Science**  \n",
    "**Lavras, Minas Gerais, Brazil**  \n",
    "\n",
    "*Università degli Studi di Modena e Reggio Emilia (UNIMORE)*  \n",
    "*Reggio Emilia, Italy*"
   ]
  },
  {
   "cell_type": "markdown",
   "metadata": {},
   "source": [
    "## Assembly Line Worker Assignment and Balancing Problem (ALWABP)\n",
    "\n",
    "Becker & Scholl (2006) indicate that SALBP characteristics are restrictive concerning assembly lines presented in real contexts. One of the main assumptions that we do not consider in SALBP is the fact that heterogeneity is presented while workers perform activities. Miralles et al. (2007) propose the first mathematical model that deal with an assembly line balancing composed entirely by people with disabilities. The challendge of this environment is that workers have a considerable variation of task executation times, and in some cases, there are workers that are not able to perform a set of tasks. As follows, we show an example of an instance for ALWABP (Moreira, 2015), with 3 workers, 3 stations and 9 tasks. "
   ]
  },
  {
   "cell_type": "code",
   "execution_count": 67,
   "metadata": {},
   "outputs": [
    {
     "name": "stdout",
     "output_type": "stream",
     "text": [
      "1 (\"w1\", \"C\") => 11\n",
      "2 (\"w2\", \"B\") => 4\n",
      "3 (\"w2\", \"C\") => 10\n",
      "4 (\"w1\", \"A\") => 5\n",
      "5 (\"w3\", \"B\") => 1000000\n",
      "6 (\"w1\", \"I\") => 15\n",
      "7 (\"w2\", \"E\") => 1000000\n",
      "8 (\"w2\", \"G\") => 3\n",
      "9 (\"w1\", \"G\") => 10\n",
      "10 (\"w1\", \"B\") => 4\n",
      "11 (\"w1\", \"E\") => 4\n",
      "12 (\"w2\", \"I\") => 9\n",
      "13 (\"w3\", \"A\") => 40\n",
      "14 (\"w3\", \"H\") => 20\n",
      "15 (\"w3\", \"I\") => 35\n",
      "16 (\"w1\", \"H\") => 30\n",
      "17 (\"w3\", \"C\") => 2\n",
      "18 (\"w2\", \"D\") => 1000000\n",
      "19 (\"w1\", \"D\") => 3\n",
      "20 (\"w2\", \"F\") => 12\n",
      "21 (\"w3\", \"E\") => 7\n",
      "22 (\"w2\", \"A\") => 3\n",
      "23 (\"w3\", \"D\") => 9\n",
      "24 (\"w3\", \"F\") => 3\n",
      "25 (\"w3\", \"G\") => 25\n",
      "26 (\"w2\", \"H\") => 1\n",
      "27 (\"w1\", \"F\") => 1000000\n"
     ]
    }
   ],
   "source": [
    "const INF = 1000000 # Our infty\n",
    "\n",
    "# Task executation time for each worker\n",
    "tableTime = Dict(\n",
    "    (\"w1\", \"A\") =>  5,\n",
    "    (\"w1\", \"B\") =>  4,\n",
    "    (\"w1\", \"C\") =>  11,\n",
    "    (\"w1\", \"D\") =>  3,\n",
    "    (\"w1\", \"E\") =>  4,\n",
    "    (\"w1\", \"F\") =>  INF,\n",
    "    (\"w1\", \"G\") =>  10,\n",
    "    (\"w1\", \"H\") =>  30,\n",
    "    (\"w1\", \"I\") =>  15,\n",
    "    (\"w2\", \"A\") =>  3,\n",
    "    (\"w2\", \"B\") =>  4,\n",
    "    (\"w2\", \"C\") =>  10,\n",
    "    (\"w2\", \"D\") =>  INF,\n",
    "    (\"w2\", \"E\") =>  INF,\n",
    "    (\"w2\", \"F\") =>  12,\n",
    "    (\"w2\", \"G\") =>  3,\n",
    "    (\"w2\", \"H\") =>  1,\n",
    "    (\"w2\", \"I\") =>  9,\n",
    "    (\"w3\", \"A\") =>  40,\n",
    "    (\"w3\", \"B\") =>  INF,\n",
    "    (\"w3\", \"C\") =>  2,\n",
    "    (\"w3\", \"D\") =>  9,\n",
    "    (\"w3\", \"E\") =>  7,\n",
    "    (\"w3\", \"F\") =>  3,\n",
    "    (\"w3\", \"G\") =>  25,\n",
    "    (\"w3\", \"H\") =>  20,\n",
    "    (\"w3\", \"I\") =>  35,\n",
    ")\n",
    "\n",
    "for (cnt, j) in enumerate(tableTime)\n",
    "    println(cnt, \" \", j)\n",
    "end"
   ]
  },
  {
   "cell_type": "markdown",
   "metadata": {},
   "source": [
    "![(Moreira, 2015)](images/alwabp.png)"
   ]
  },
  {
   "cell_type": "markdown",
   "metadata": {},
   "source": [
    "### ALWABP-2\n",
    "\n",
    "We present a three-index variable formulation proposed by Miralles et al. (2007) for ALWABP-2, the most common extension in this context. "
   ]
  },
  {
   "cell_type": "markdown",
   "metadata": {},
   "source": [
    "* **Importing libraries**"
   ]
  },
  {
   "cell_type": "code",
   "execution_count": 68,
   "metadata": {},
   "outputs": [],
   "source": [
    "using JuMP\n",
    "using Cbc\n",
    "include(\"codes/instanceALs.jl\")\n",
    ";"
   ]
  },
  {
   "cell_type": "markdown",
   "metadata": {},
   "source": [
    "* **Reading instance**"
   ]
  },
  {
   "cell_type": "code",
   "execution_count": 69,
   "metadata": {},
   "outputs": [],
   "source": [
    "# ALWABP instance\n",
    "fileInstance=\"instances/alwabp/heskia1\"\n",
    "\n",
    "io=open(fileInstance)\n",
    "\n",
    "# Reading ALWABP instance\n",
    "instance = readALWABP(io)\n",
    ";"
   ]
  },
  {
   "cell_type": "markdown",
   "metadata": {},
   "source": [
    "* **Creating model**"
   ]
  },
  {
   "cell_type": "code",
   "execution_count": 70,
   "metadata": {},
   "outputs": [],
   "source": [
    "model = Model(with_optimizer(Cbc.Optimizer))\n",
    ";"
   ]
  },
  {
   "cell_type": "markdown",
   "metadata": {},
   "source": [
    "* **Sets and constants (inputs)**\n",
    "\n",
    "    * **Additional parameters**\n",
    "        * $W$: set oh heterogeneous workers ($|W|=|S|$);  \n",
    "        * $p_{iw} \\in \\mathbb{R}_+$: task execution time to perform task $i$ by woker $w$ ($p_{wi} = \\infty$ if worker $w$ does not perform task $i$);    "
   ]
  },
  {
   "cell_type": "code",
   "execution_count": 71,
   "metadata": {},
   "outputs": [],
   "source": [
    "n = instance.n # number of tasks\n",
    "w = instance.w # number of workers\n",
    "m = instance.w # number of stations\n",
    "P = [Vector{Int}() for _ in 1:n+1] # set of immediate predecessors\n",
    "F = [Vector{Int}() for _ in 1:n+1] # set of immediate followers\n",
    "c = instance.c #cycle time\n",
    "p = instance.p\n",
    "\n",
    "for i=1:n\n",
    "    P[i] = copy(instance.P[i])\n",
    "    F[i] = copy(instance.F[i])\n",
    "end\n",
    "\n",
    "S = collect(1:w) # set of stations\n",
    "W = collect(1:w) # set of workers\n",
    "N = collect(1:n) # set of tasks\n",
    ";"
   ]
  },
  {
   "cell_type": "markdown",
   "metadata": {},
   "source": [
    "* **Decision variables**\n",
    "\n",
    "    * $x_{swi} \\in \\{0,1\\}$: equal to one iff task $i$ is assigned to worker $w$ in station $s$;  \n",
    "    * $y_{sw} \\in \\{0,1\\}$: equal to one iff worker $w$ is assigned to station $s$;\n",
    "    * $c \\in \\mathbb{R}_+$: cycle time of the line."
   ]
  },
  {
   "cell_type": "code",
   "execution_count": 72,
   "metadata": {},
   "outputs": [],
   "source": [
    "@variable(model, x[S,W,N], Bin)\n",
    "@variable(model, y[S,W], Bin)\n",
    "@variable(model, c >= 0)\n",
    ";"
   ]
  },
  {
   "cell_type": "markdown",
   "metadata": {},
   "source": [
    "* **Objective function**: minimize the cycle time\n",
    "\n",
    "\\begin{equation}\n",
    "\\min\\,c\n",
    "\\end{equation}"
   ]
  },
  {
   "cell_type": "code",
   "execution_count": 73,
   "metadata": {},
   "outputs": [],
   "source": [
    "@objective(model, Min, c)\n",
    ";"
   ]
  },
  {
   "cell_type": "markdown",
   "metadata": {},
   "source": [
    "* **Constraint:** all tasks must be assigned\n",
    "\n",
    "\\begin{equation}\n",
    "\\sum_{s \\in S}\\sum_{w \\in W} x_{swi} = 1 \\qquad \\forall i \\in N\n",
    "\\end{equation}"
   ]
  },
  {
   "cell_type": "code",
   "execution_count": 74,
   "metadata": {},
   "outputs": [],
   "source": [
    "@constraint(model, [i in N], sum(x[s,w,i] for s in S, w in W) == 1)\n",
    ";"
   ]
  },
  {
   "cell_type": "markdown",
   "metadata": {},
   "source": [
    "* **Constraint:** a worker must be assigned to a station\n",
    "\n",
    "\\begin{equation}\n",
    "\\sum_{s \\in S} y_{sw} = 1 \\qquad \\forall w \\in W\n",
    "\\end{equation}"
   ]
  },
  {
   "cell_type": "code",
   "execution_count": 75,
   "metadata": {},
   "outputs": [],
   "source": [
    "@constraint(model, [w in W], sum(y[s,w] for s in S) == 1)\n",
    ";"
   ]
  },
  {
   "cell_type": "markdown",
   "metadata": {},
   "source": [
    "* **Constraint:** a station must have a single worker\n",
    "\n",
    "\\begin{equation}\n",
    "\\sum_{w \\in W} y_{sw} = 1 \\qquad \\forall s \\in S\n",
    "\\end{equation}"
   ]
  },
  {
   "cell_type": "code",
   "execution_count": 76,
   "metadata": {},
   "outputs": [],
   "source": [
    "@constraint(model, [s in S], sum(y[s,w] for w in W) == 1)\n",
    ";"
   ]
  },
  {
   "cell_type": "markdown",
   "metadata": {},
   "source": [
    "* **Constraint:** precedence relations are respected\n",
    "\n",
    "\\begin{equation}\n",
    "\\sum_{s \\in S}\\sum_{w \\in W} sx_{swi} \\le \\sum_{s \\in S}\\sum_{w \\in W} sx_{swj} \\qquad \\forall j \\in N, \\forall i \\in D_j\n",
    "\\end{equation}"
   ]
  },
  {
   "cell_type": "code",
   "execution_count": 77,
   "metadata": {},
   "outputs": [],
   "source": [
    "@constraint(model, [j in N, i in P[j]], sum(s*x[s,w,i] for s in S, w in W) <= sum(s*x[s,w,j] for s in S, w in W))\n",
    ";"
   ]
  },
  {
   "cell_type": "markdown",
   "metadata": {},
   "source": [
    "* **Constraint:** definition of cycle time as maximum load of a station\n",
    "\n",
    "\\begin{equation}\n",
    "\\sum_{i \\in N} p_{iw}x_{swi} \\le c \\qquad \\forall s \\in S, \\forall w \\in W\n",
    "\\end{equation}"
   ]
  },
  {
   "cell_type": "code",
   "execution_count": 78,
   "metadata": {},
   "outputs": [],
   "source": [
    "@constraint(model, [s in S, w in W], sum(p[i,w]*x[s,w,i] for i in N) <= c)\n",
    ";"
   ]
  },
  {
   "cell_type": "markdown",
   "metadata": {},
   "source": [
    "* **Constraint:** coupling constraints between $x$ and $y$\n",
    "\n",
    "\\begin{equation}\n",
    "\\sum_{i \\in N} x_{swi} \\le ny_{sw} \\qquad \\forall s \\in S, \\forall w \\in W\n",
    "\\end{equation}"
   ]
  },
  {
   "cell_type": "code",
   "execution_count": 79,
   "metadata": {},
   "outputs": [],
   "source": [
    "@constraint(model, [s in S, w in W], sum(x[s,w,i] for i in N) <= n*y[s,w])\n",
    ";"
   ]
  },
  {
   "cell_type": "markdown",
   "metadata": {},
   "source": [
    "* **Running the model**"
   ]
  },
  {
   "cell_type": "code",
   "execution_count": 80,
   "metadata": {},
   "outputs": [
    {
     "name": "stdout",
     "output_type": "stream",
     "text": [
      "Welcome to the CBC MILP Solver \n",
      "Version: 2.9.9 \n",
      "Build Date: Dec 31 2018 \n",
      "\n",
      "command line - Cbc_C_Interface -solve -quit (default strategy 1)\n",
      "Continuous objective value is 20.8883 - 0.01 seconds\n",
      "Cgl0004I processed model has 107 rows, 465 columns (464 integer (464 of which binary)) and 2656 elements\n",
      "Cutoff increment increased from 1e-05 to 0.9999\n",
      "Cbc0038I Initial state - 65 integers unsatisfied sum - 12.9479\n",
      "Cbc0038I Pass   1: suminf.    5.64286 (24) obj. 5001 iterations 121\n",
      "Cbc0038I Pass   2: suminf.    5.64286 (24) obj. 5001 iterations 5\n",
      "Cbc0038I Pass   3: suminf.    4.48810 (18) obj. 168 iterations 41\n",
      "Cbc0038I Pass   4: suminf.    3.04762 (17) obj. 168 iterations 19\n",
      "Cbc0038I Pass   5: suminf.    3.04762 (17) obj. 168 iterations 2\n",
      "Cbc0038I Pass   6: suminf.    3.02381 (15) obj. 168 iterations 23\n",
      "Cbc0038I Pass   7: suminf.    2.76190 (16) obj. 168 iterations 18\n",
      "Cbc0038I Pass   8: suminf.    2.52381 (16) obj. 168 iterations 30\n",
      "Cbc0038I Pass   9: suminf.    2.35714 (16) obj. 168 iterations 8\n",
      "Cbc0038I Pass  10: suminf.    3.30952 (16) obj. 168 iterations 32\n",
      "Cbc0038I Pass  11: suminf.    3.19048 (17) obj. 168 iterations 15\n",
      "Cbc0038I Pass  12: suminf.    2.90476 (16) obj. 168 iterations 21\n",
      "Cbc0038I Pass  13: suminf.    2.47619 (17) obj. 168 iterations 15\n",
      "Cbc0038I Pass  14: suminf.    3.11905 (16) obj. 168 iterations 25\n",
      "Cbc0038I Pass  15: suminf.    3.09524 (15) obj. 168 iterations 6\n",
      "Cbc0038I Pass  16: suminf.    2.83333 (15) obj. 168 iterations 24\n",
      "Cbc0038I Pass  17: suminf.    2.42857 (16) obj. 168 iterations 13\n",
      "Cbc0038I Pass  18: suminf.    2.80952 (16) obj. 168 iterations 18\n",
      "Cbc0038I Pass  19: suminf.    2.73810 (16) obj. 168 iterations 19\n",
      "Cbc0038I Pass  20: suminf.    2.78571 (16) obj. 168 iterations 28\n",
      "Cbc0038I Pass  21: suminf.    2.50000 (16) obj. 168 iterations 15\n",
      "Cbc0038I Pass  22: suminf.    3.61905 (15) obj. 168 iterations 26\n",
      "Cbc0038I Pass  23: suminf.    2.78571 (16) obj. 168 iterations 20\n",
      "Cbc0038I Pass  24: suminf.    2.78571 (16) obj. 168 iterations 25\n",
      "Cbc0038I Pass  25: suminf.    2.73810 (16) obj. 10006 iterations 102\n",
      "Cbc0038I Pass  26: suminf.    2.73810 (16) obj. 10006 iterations 37\n",
      "Cbc0038I Pass  27: suminf.    2.00000 (14) obj. 10006 iterations 52\n",
      "Cbc0038I Pass  28: suminf.    1.57143 (13) obj. 10006 iterations 9\n",
      "Cbc0038I Pass  29: suminf.    2.21429 (14) obj. 10006 iterations 39\n",
      "Cbc0038I Pass  30: suminf.    2.14286 (14) obj. 10006 iterations 17\n",
      "Cbc0038I No solution found this major pass\n",
      "Cbc0038I Before mini branch and bound, 363 integers at bound fixed and 0 continuous\n",
      "Cbc0038I Mini branch and bound did not improve solution (0.05 seconds)\n",
      "Cbc0038I Full problem 108 rows 465 columns, reduced to 108 rows 465 columns - too large\n",
      "Cbc0038I After 0.06 seconds - Feasibility pump exiting - took 0.04 seconds\n",
      "Cbc0031I 79 added rows had average density of 76.417722\n",
      "Cbc0013I At root node, 79 cuts changed objective from 20.888283 to 25.586782 in 100 passes\n",
      "Cbc0014I Cut generator 0 (Probing) - 4391 row cuts average 2.0 elements, 1 column cuts (1 active)  in 0.259 seconds - new frequency is 1\n",
      "Cbc0014I Cut generator 1 (Gomory) - 2186 row cuts average 463.4 elements, 0 column cuts (0 active)  in 1.142 seconds - new frequency is 1\n",
      "Cbc0014I Cut generator 2 (Knapsack) - 293 row cuts average 8.0 elements, 0 column cuts (0 active)  in 0.116 seconds - new frequency is 1\n",
      "Cbc0014I Cut generator 3 (Clique) - 0 row cuts average 0.0 elements, 0 column cuts (0 active)  in 0.025 seconds - new frequency is -100\n",
      "Cbc0014I Cut generator 4 (MixedIntegerRounding2) - 565 row cuts average 12.0 elements, 0 column cuts (0 active)  in 2.326 seconds - new frequency is 1\n",
      "Cbc0014I Cut generator 5 (FlowCover) - 0 row cuts average 0.0 elements, 0 column cuts (0 active)  in 0.032 seconds - new frequency is -100\n",
      "Cbc0014I Cut generator 6 (TwoMirCuts) - 273 row cuts average 158.0 elements, 0 column cuts (0 active)  in 0.185 seconds - new frequency is 1\n",
      "Cbc0010I After 0 nodes, 1 on tree, 1e+50 best solution, best possible 25.586782 (6.47 seconds)\n",
      "Cbc0004I Integer solution of 10025 found after 14629 iterations and 14 nodes (7.95 seconds)\n",
      "Cbc0038I Full problem 107 rows 465 columns, reduced to 21 rows 22 columns\n",
      "Cbc0012I Integer solution of 311 found by RINS after 14663 iterations and 15 nodes (7.97 seconds)\n",
      "Cbc0004I Integer solution of 278 found after 16149 iterations and 24 nodes (8.31 seconds)\n",
      "Cbc0012I Integer solution of 184 found by rounding after 16466 iterations and 30 nodes (8.38 seconds)\n",
      "Cbc0012I Integer solution of 177 found by rounding after 16504 iterations and 31 nodes (8.39 seconds)\n",
      "Cbc0012I Integer solution of 138 found by rounding after 16522 iterations and 32 nodes (8.39 seconds)\n",
      "Cbc0004I Integer solution of 128 found after 16798 iterations and 36 nodes (8.43 seconds)\n",
      "Cbc0038I Full problem 107 rows 465 columns, reduced to 95 rows 127 columns\n",
      "Cbc0012I Integer solution of 127 found by rounding after 21086 iterations and 68 nodes (8.91 seconds)\n",
      "Cbc0012I Integer solution of 122 found by DiveCoefficient after 23268 iterations and 82 nodes (9.17 seconds)\n",
      "Cbc0016I Integer solution of 120 found by strong branching after 25590 iterations and 87 nodes (9.44 seconds)\n",
      "Cbc0038I Full problem 107 rows 465 columns, reduced to 88 rows 101 columns\n",
      "Cbc0016I Integer solution of 119 found by strong branching after 26626 iterations and 101 nodes (9.66 seconds)\n",
      "Cbc0016I Integer solution of 112 found by strong branching after 27418 iterations and 114 nodes (9.77 seconds)\n",
      "Cbc0012I Integer solution of 104 found by rounding after 27725 iterations and 120 nodes (9.87 seconds)\n",
      "Cbc0012I Integer solution of 97 found by rounding after 27730 iterations and 121 nodes (9.88 seconds)\n",
      "Cbc0004I Integer solution of 94 found after 27746 iterations and 123 nodes (9.90 seconds)\n",
      "Cbc0001I Search completed - best objective 94, took 41923 iterations and 186 nodes (11.70 seconds)\n",
      "Cbc0032I Strong branching done 2072 times (47256 iterations), fathomed 4 nodes and fixed 23 variables\n",
      "Cbc0035I Maximum depth 24, 820 variables fixed on reduced cost\n",
      "Cuts at root node changed objective from 20.8883 to 25.5868\n",
      "Probing was tried 470 times and created 9555 cuts of which 0 were active after adding rounds of cuts (0.467 seconds)\n",
      "Gomory was tried 452 times and created 2198 cuts of which 0 were active after adding rounds of cuts (1.352 seconds)\n",
      "Knapsack was tried 452 times and created 1093 cuts of which 0 were active after adding rounds of cuts (0.492 seconds)\n",
      "Clique was tried 100 times and created 0 cuts of which 0 were active after adding rounds of cuts (0.025 seconds)\n",
      "MixedIntegerRounding2 was tried 452 times and created 1957 cuts of which 0 were active after adding rounds of cuts (2.974 seconds)\n",
      "FlowCover was tried 100 times and created 0 cuts of which 0 were active after adding rounds of cuts (0.032 seconds)\n",
      "TwoMirCuts was tried 452 times and created 677 cuts of which 0 were active after adding rounds of cuts (0.415 seconds)\n",
      "ImplicationCuts was tried 187 times and created 5129 cuts of which 0 were active after adding rounds of cuts (0.235 seconds)\n",
      "\n",
      "Result - Optimal solution found\n",
      "\n",
      "Objective value:                94.00000000\n",
      "Enumerated nodes:               186\n",
      "Total iterations:               41923\n",
      "Time (CPU seconds):             11.78\n",
      "Time (Wallclock seconds):       11.78\n",
      "\n",
      "Total time (CPU seconds):       11.78   (Wallclock seconds):       11.78\n",
      "\n"
     ]
    }
   ],
   "source": [
    "optimize!(model)\n",
    ";"
   ]
  },
  {
   "cell_type": "markdown",
   "metadata": {},
   "source": [
    "* **Printing variables**"
   ]
  },
  {
   "cell_type": "code",
   "execution_count": 81,
   "metadata": {},
   "outputs": [
    {
     "name": "stdout",
     "output_type": "stream",
     "text": [
      "Printing solution\n",
      "Cycle time = 94.0\n",
      "s1(w3): 1 4 5 8 19 20 22 23 24 (91)\n",
      "s2(w4): 2 6 9 10 12 13 (94)\n",
      "s3(w2): 3 7 11 14 16 17 18 25 26 27 (93)\n",
      "s4(w1): 15 21 28 (94)\n"
     ]
    }
   ],
   "source": [
    "println(\"Printing solution\")\n",
    "cOpt = JuMP.objective_value(model) # Optimal solution\n",
    "println(\"Cycle time = \", cOpt)\n",
    "tmp = 0 # Overload of each station\n",
    "for s in S\n",
    "    print(\"s\", Int(s), \"(w\")\n",
    "    for w in W\n",
    "        if(value(y[s,w]) >= 0.9)\n",
    "            print(w, \"): \")\n",
    "            for i=1:n\n",
    "                if(value(x[s,w,i]) >= 0.9 && i != n+1)\n",
    "                    print(i, \" \")\n",
    "                    tmp += p[i,w]\n",
    "                end\n",
    "            end\n",
    "            break\n",
    "        end\n",
    "    end\n",
    "    println(\"(\", tmp, \")\")\n",
    "    tmp = 0\n",
    "end"
   ]
  },
  {
   "cell_type": "markdown",
   "metadata": {},
   "source": [
    "## References"
   ]
  },
  {
   "cell_type": "markdown",
   "metadata": {},
   "source": [
    "Becker, C., & Scholl, A. (2006). A survey on problems and methods in generalized assembly line balancing. European journal of operational research, 168(3), 694-715.\n",
    "\n",
    "Miralles, C., Garcia-Sabater, J. P., Andres, C., & Cardos, M. (2007). Advantages of assembly lines in sheltered work centres for disabled. A case study. International Journal of Production Economics, 110(1-2), 187-197.\n",
    "\n",
    "Moreira, M. C. O. (2015). Problema de balanceamento de linhas de produção e integração de trabalhadores. Tese (Doutorado em Ciências de Computação e Matemática Computacional) - Instituto de Ciências Matemáticas e de Computação, Universidade de São Paulo, São Carlos. Disponível em: http://www.teses.usp.br/teses/disponiveis/55/55134/tde-08012016-145627/pt-br.php"
   ]
  },
  {
   "cell_type": "code",
   "execution_count": null,
   "metadata": {},
   "outputs": [],
   "source": []
  }
 ],
 "metadata": {
  "kernelspec": {
   "display_name": "Julia 1.1.0",
   "language": "julia",
   "name": "julia-1.1"
  },
  "language_info": {
   "file_extension": ".jl",
   "mimetype": "application/julia",
   "name": "julia",
   "version": "1.1.0"
  }
 },
 "nbformat": 4,
 "nbformat_minor": 2
}

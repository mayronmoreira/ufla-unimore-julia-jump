{
 "cells": [
  {
   "cell_type": "markdown",
   "metadata": {},
   "source": [
    "# On modelling optimization problems via Julia JuMP\n",
    "\n",
    "## Prof. Mayron César O. Moreira \n",
    "\n",
    "**Universidade Federal de Lavras (UFLA)**  \n",
    "**Department of Computer Science**  \n",
    "**Lavras, Minas Gerais, Brazil**  \n",
    "\n",
    "*Università degli Studi di Modena e Reggio Emilia (UNIMORE)*  \n",
    "*Reggio Emilia, Italy*"
   ]
  },
  {
   "cell_type": "markdown",
   "metadata": {},
   "source": [
    "## Final Test\n",
    "\n",
    "In groups of $x$ students, where $2 \\le x \\le 3$, solve the following problems using Julia and JuMP.\n",
    "\n",
    "Since the group finishes, it must send the notebook with the answers to mayron.moreira@ufla.br **and** Manuel.iori@unimore.it.\n",
    "\n",
    "One member of the group will send the e-mail, and in the body of the message, indicates that students that make part of your group."
   ]
  },
  {
   "cell_type": "markdown",
   "metadata": {},
   "source": [
    "### Problem 1\n",
    "\n",
    "Moe is deciding how many Regular Duffs and Special Duffs he needs to deliver in each week. The Regular Duff costs to Moe \\\\$1 for each bottle, and he sells it by \\\\$2. Special Duff costs \\\\$1.5 for each bottle, and he sells it by \\\\$3. However, as part of a controversial marketing strategy, the Duff company only sells one Special Duff bottle for at least two bottles of Regular Duff that Moe buys. Moreover, due to some problems happened some years ago, Duff will not sell to MOe more than 3.000 bottles by week. According to his experience, Moe knows that he can sell all the beers that we can buy. Now, it is your turn: **implement a mathematical model** using Julia and JuMP, that helps Moe to decide how many Regular Duffs and Special Duffs he must buy to optimize his profit."
   ]
  },
  {
   "cell_type": "code",
   "execution_count": 43,
   "metadata": {},
   "outputs": [
    {
     "name": "stdout",
     "output_type": "stream",
     "text": [
      "Write your code here!\n"
     ]
    }
   ],
   "source": [
    "println(\"Write your code here!\")"
   ]
  },
  {
   "cell_type": "markdown",
   "metadata": {},
   "source": [
    "### Problem 2\n",
    "\n",
    "Let $V = \\{1,..,n\\}$ be a set of $n$ objects, each one with a specific weight $w_i$, $i \\in N$. Suppose that we have $n$ boxes available, each one with a capacity $C$. Write a mathematical model in Julia + JuMP that minimizes the number of boxes we will use, guaranteeing that all items are placed in a box and the used boxes do not have their capacity violated.\n",
    "\n",
    "**Hint**: look for *the bin packing problem*. As follows, we have the parameters that must be used in the mathematical formulation."
   ]
  },
  {
   "cell_type": "code",
   "execution_count": 44,
   "metadata": {},
   "outputs": [
    {
     "name": "stdout",
     "output_type": "stream",
     "text": [
      "Set of itens: [1, 2, 3, 4, 5, 6, 7, 8, 9, 10, 11, 12, 13, 14, 15, 16, 17, 18, 19, 20]\n",
      "Set of boxes: [1, 2, 3, 4, 5, 6, 7, 8, 9, 10, 11, 12, 13, 14, 15, 16, 17, 18, 19, 20]\n",
      "Weights: [9, 36, 36, 17, 23, 29, 23, 50, 36, 38, 33, 43, 49, 6, 31, 30, 11, 8, 21, 49]\n"
     ]
    }
   ],
   "source": [
    "n = 20\n",
    "V = collect(1:n)\n",
    "B = collect(1:n)\n",
    "C = 50\n",
    "\n",
    "w = [9, 36, 36, 17, 23, 29, 23, 50, 36, 38, 33, 43, 49, 6, 31, 30, 11, 8, 21, 49]\n",
    "println(\"Set of itens: \", V)\n",
    "println(\"Set of boxes: \", B)\n",
    "println(\"Weights: \", w)"
   ]
  },
  {
   "cell_type": "code",
   "execution_count": 45,
   "metadata": {},
   "outputs": [
    {
     "name": "stdout",
     "output_type": "stream",
     "text": [
      "Write your code here!\n"
     ]
    }
   ],
   "source": [
    "println(\"Write your code here!\")"
   ]
  },
  {
   "cell_type": "markdown",
   "metadata": {},
   "source": [
    "### Problem 3\n",
    "\n",
    "* **Exercise extracted from https://github.com/pedrocastellucci/MathematicalProgrammingCourse/blob/master/examples/Example%2001%20-%20The%20travelling%20salesman%20meets%20Pokemon%20Go.ipynb**\n",
    "\n",
    "[Pokemon Go](https://www.pokemongo.com/it-it/) is a game developed by [Niantic](https://en.wikipedia.org/wiki/Pok%C3%A9mon) which consists of collecting items (or Pokemons) by players through specific placed called Pokestops. Suppose that we have the following Pokestops, represented by their coordinates below.\n",
    "\n",
    "A player wants to leave the Pokestop one, visit all of them and go back to its starting point, with a minimum walking distance. Implement a code in Julia that models and solves this problem.\n",
    "\n",
    "Another way to model this problem is to use the *One-Commodity Formulation*. Let´s implement it! For this purpose, let $x_{ij}$ be a binary variable equal to 1 if we travel by arc $(i,j)$ in the Hamiltonian cycle. We define $f_{ij} \\ge 0$ as the flow in the arc $(i,j)$. Then, the model reads.\n",
    "\n",
    "\\begin{equation}\n",
    "\\min \\sum_{i=1}^n \\sum_{j=1}^n c_{ij}x_{ij}\n",
    "\\end{equation}\n",
    "\n",
    "subject to:\n",
    "\n",
    "\\begin{equation}\n",
    "\\sum_{i=1,i\\neq j}^n x_{ij} = 1, \\quad j=1,...,n\n",
    "\\end{equation}\n",
    "\n",
    "\\begin{equation}\n",
    "\\sum_{j=1,i\\neq j}^n x_{ij} = 1, \\quad i=1,...,n\n",
    "\\end{equation}\n",
    "\n",
    "\\begin{equation}\n",
    "f_{ij} \\le (n-1)x_{ij} \\quad i,j=1,...,n\n",
    "\\end{equation}\n",
    "\n",
    "\\begin{equation}\n",
    "\\sum_{j=1}^n f_{1j} = n-1\n",
    "\\end{equation}\n",
    "\n",
    "\\begin{equation}\n",
    "\\sum_{i=1}^n f_{ij} = \\sum_{k=1}^n f_{jk} + 1 \\quad j=2,...,n\n",
    "\\end{equation}\n",
    "\n",
    "\\begin{equation}\n",
    "x_{ij} \\in \\{0,1\\} \\quad i,j=1,...,n\n",
    "\\end{equation}\n",
    "\n",
    "\\begin{equation}\n",
    "0 \\le f_{ij} \\le n-1 \\quad i=1,...,n\n",
    "\\end{equation}\n",
    "\n",
    "Using the following data, implement a code in Julia + JuMP that solves this problem."
   ]
  },
  {
   "cell_type": "code",
   "execution_count": 46,
   "metadata": {},
   "outputs": [],
   "source": [
    "Pokestops = Dict(\n",
    "    1 => (523, 418),\n",
    "    2 => (527, 566),\n",
    "    3 => (435, 603),\n",
    "    4 => (386, 660),\n",
    "    5 => (346, 692),\n",
    "    6 => (431, 730),\n",
    "    7 => (419, 818),\n",
    "    8 => (389, 892),\n",
    "    9 => (384, 902),\n",
    "    10 => (383, 913),\n",
    "    11 => (347, 520),\n",
    "    12 => (332, 330),\n",
    "    13 => (165, 374),\n",
    "    14 => (196, 198),\n",
    "    15 => (187, 108),\n",
    "    16 => (210, 63)\n",
    ")\n",
    ";"
   ]
  },
  {
   "cell_type": "code",
   "execution_count": 47,
   "metadata": {},
   "outputs": [],
   "source": [
    "# Number of points\n",
    "n = 16\n",
    "\n",
    "# Euclidian distance\n",
    "EucD(x,y) = sqrt((x[1] - y[1])^2 + (x[2] - y[2])^2)\n",
    "\n",
    "# Cost matrix\n",
    "c = [EucD(Pokestops[i],Pokestops[j]) for i=1:n, j=1:n]\n",
    ";"
   ]
  },
  {
   "cell_type": "markdown",
   "metadata": {},
   "source": [
    "Write your JuMP model below."
   ]
  },
  {
   "cell_type": "code",
   "execution_count": 48,
   "metadata": {},
   "outputs": [
    {
     "name": "stdout",
     "output_type": "stream",
     "text": [
      "Write here!\n",
      "Set your model to run at most 180s, with 1 single thread.\n"
     ]
    }
   ],
   "source": [
    "println(\"Write here!\")\n",
    "println(\"Set your model to run at most 180s, with 1 single thread.\")"
   ]
  }
 ],
 "metadata": {
  "kernelspec": {
   "display_name": "Julia 1.1.0",
   "language": "julia",
   "name": "julia-1.1"
  },
  "language_info": {
   "file_extension": ".jl",
   "mimetype": "application/julia",
   "name": "julia",
   "version": "1.1.0"
  }
 },
 "nbformat": 4,
 "nbformat_minor": 2
}

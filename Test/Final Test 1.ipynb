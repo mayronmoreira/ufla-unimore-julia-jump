{
 "cells": [
  {
   "cell_type": "markdown",
   "metadata": {},
   "source": [
    "# On modelling optimization problems via Julia JuMP\n",
    "\n",
    "## Prof. Mayron César O. Moreira \n",
    "\n",
    "**Universidade Federal de Lavras (UFLA)**  \n",
    "**Department of Computer Science**  \n",
    "**Lavras, Minas Gerais, Brazil**  \n",
    "\n",
    "*Università degli Studi di Modena e Reggio Emilia (UNIMORE)*  \n",
    "*Reggio Emilia, Italy*"
   ]
  },
  {
   "cell_type": "markdown",
   "metadata": {},
   "source": [
    "## Final Test\n",
    "\n",
    "In groups of $x$ students, where $2 \\le x \\le 3$, solve the following problems using Julia and JuMP.\n",
    "\n",
    "Since the group finishes, it must send the notebook with the answers to mayron.moreira@ufla.br **and** Manuel.iori@unimore.it.\n",
    "\n",
    "One member of the group will send the e-mail, and in the body of the message, indicates that students that make part of your group."
   ]
  },
  {
   "cell_type": "markdown",
   "metadata": {},
   "source": [
    "### Problem 1\n",
    "\n",
    "Moe is deciding how many Regular Duffs and Special Duffs he needs to deliver in each week. The Regular Duff costs to Moe \\\\$1 for each bottle, and he sells it by \\\\$2. Special Duff costs \\\\$1.5 for each bottle, and he sells it by \\\\$3. However, as part of a controversial marketing strategy, the Duff company only sells one Special Duff bottle for at least two bottles of Regular Duff that Moe buys. Moreover, due to some problems happened some years ago, Duff will not sell to Moe more than 3.000 bottles by week. According to his experience, Moe knows that he can sell all the beers that we can buy. Now, it is your turn: **implement a mathematical model** using Julia and JuMP, that helps Moe to decide how many Regular Duffs and Special Duffs he must buy to optimize his profit."
   ]
  },
  {
   "cell_type": "code",
   "execution_count": 6,
   "metadata": {},
   "outputs": [
    {
     "name": "stdout",
     "output_type": "stream",
     "text": [
      "3500.0\n",
      "Coin0506I Presolve 0 (-2) rows, 0 (-2) columns and 0 (-4) elements\n",
      "Clp3002W Empty problem - 0 rows, 0 columns and 0 elements\n",
      "Clp0000I Optimal - objective value 3500\n",
      "Coin0511I After Postsolve, objective 3500, infeasibilities - dual 0 (0), primal 0 (0)\n",
      "Clp0032I Optimal objective 3500 - 0 iterations time 0.002, Presolve 0.00\n"
     ]
    }
   ],
   "source": [
    "using JuMP, Clp\n",
    "model = Model(with_optimizer(Clp.Optimizer))\n",
    "\n",
    "@variable(model, x >= 0) # Regulas Duffs\n",
    "@variable(model, y >= 0) # Special Duffs\n",
    "\n",
    "@objective(model, Max, x + 1.5y)\n",
    "\n",
    "@constraint(model, x + y <= 3000)\n",
    "@constraint(model, 2*y <= x)\n",
    "\n",
    "optimize!(model)\n",
    "println(objective_value(model))"
   ]
  },
  {
   "cell_type": "markdown",
   "metadata": {},
   "source": [
    "### Problem 2\n",
    "\n",
    "Let $V = \\{1,..,n\\}$ be a set of $n$ objects, each one with a specific weight $w_i$, $i \\in N$. Suppose that we have $n$ boxes available, each one with a capacity $C$. Write a mathematical model in Julia + JuMP that minimizes the number of boxes we will use, guaranteeing that all items are placed in a box and the used boxes do not have their capacity violated.\n",
    "\n",
    "**Hint**: look for *the bin packing problem*. As follows, we have the parameters that must be used in the mathematical formulation."
   ]
  },
  {
   "cell_type": "code",
   "execution_count": 10,
   "metadata": {},
   "outputs": [
    {
     "name": "stdout",
     "output_type": "stream",
     "text": [
      "Set of itens: [1, 2, 3, 4, 5, 6, 7, 8, 9, 10, 11, 12, 13, 14, 15, 16, 17, 18, 19, 20]\n",
      "Set of boxes: [1, 2, 3, 4, 5, 6, 7, 8, 9, 10, 11, 12, 13, 14, 15, 16, 17, 18, 19, 20]\n",
      "Weights: [9, 36, 36, 17, 23, 29, 23, 50, 36, 38, 33, 43, 49, 6, 31, 30, 11, 8, 21, 49]\n",
      "Welcome to the CBC MILP Solver \n",
      "Version: 2.9.9 \n",
      "Build Date: Dec 31 2018 \n",
      "\n",
      "command line - Cbc_C_Interface -solve -quit (default strategy 1)\n",
      "Continuous objective value is 11.56 - 0.00 seconds\n",
      "Cgl0003I 0 fixed, 0 tightened bounds, 9 strengthened rows, 0 substitutions\n",
      "Cgl0003I 0 fixed, 0 tightened bounds, 8 strengthened rows, 0 substitutions\n",
      "Cgl0003I 0 fixed, 0 tightened bounds, 9 strengthened rows, 0 substitutions\n",
      "Cgl0003I 0 fixed, 0 tightened bounds, 9 strengthened rows, 0 substitutions\n",
      "Cgl0003I 0 fixed, 0 tightened bounds, 8 strengthened rows, 0 substitutions\n",
      "Cgl0003I 0 fixed, 0 tightened bounds, 5 strengthened rows, 0 substitutions\n",
      "Cgl0003I 0 fixed, 0 tightened bounds, 5 strengthened rows, 0 substitutions\n",
      "Cgl0003I 0 fixed, 0 tightened bounds, 4 strengthened rows, 0 substitutions\n",
      "Cgl0003I 0 fixed, 0 tightened bounds, 2 strengthened rows, 0 substitutions\n",
      "Cgl0004I processed model has 59 rows, 420 columns (420 integer (420 of which binary)) and 858 elements\n",
      "Cutoff increment increased from 1e-05 to 0.9999\n",
      "Cbc0038I Initial state - 53 integers unsatisfied sum - 16.6689\n",
      "Cbc0038I Solution found of 20\n",
      "Cbc0038I Before mini branch and bound, 367 integers at bound fixed and 0 continuous\n",
      "Cbc0038I Full problem 59 rows 420 columns, reduced to 8 rows 9 columns\n",
      "Cbc0038I Mini branch and bound improved solution from 20 to 18 (0.15 seconds)\n",
      "Cbc0038I Round again with cutoff of 16.4609\n",
      "Cbc0038I Pass   1: suminf.    4.69667 (30) obj. 16.4609 iterations 35\n",
      "Cbc0038I Pass   2: suminf.    7.43964 (34) obj. 15.22 iterations 14\n",
      "Cbc0038I Pass   3: suminf.    5.00289 (25) obj. 16.4609 iterations 15\n",
      "Cbc0038I Pass   4: suminf.    4.97781 (31) obj. 16.4609 iterations 3\n",
      "Cbc0038I Pass   5: suminf.    5.01515 (28) obj. 16.4609 iterations 6\n",
      "Cbc0038I Pass   6: suminf.    9.16650 (34) obj. 12.92 iterations 59\n",
      "Cbc0038I Pass   7: suminf.    5.72752 (26) obj. 11.62 iterations 46\n",
      "Cbc0038I Pass   8: suminf.    4.39813 (15) obj. 11.62 iterations 14\n",
      "Cbc0038I Pass   9: suminf.    2.93813 (12) obj. 12 iterations 11\n",
      "Cbc0038I Pass  10: suminf.    2.93813 (12) obj. 12 iterations 0\n",
      "Cbc0038I Pass  11: suminf.    3.25146 (11) obj. 12 iterations 21\n",
      "Cbc0038I Pass  12: suminf.    3.25146 (11) obj. 12 iterations 12\n",
      "Cbc0038I Pass  13: suminf.    3.61988 (12) obj. 12 iterations 18\n",
      "Cbc0038I Pass  14: suminf.    3.23099 (12) obj. 12 iterations 16\n",
      "Cbc0038I Pass  15: suminf.    3.77778 (12) obj. 12 iterations 14\n",
      "Cbc0038I Pass  16: suminf.    3.23099 (12) obj. 12 iterations 13\n",
      "Cbc0038I Pass  17: suminf.    4.37860 (25) obj. 16.4609 iterations 72\n",
      "Cbc0038I Pass  18: suminf.    3.20214 (24) obj. 16.4609 iterations 39\n",
      "Cbc0038I Pass  19: suminf.    2.75769 (23) obj. 16.4609 iterations 3\n",
      "Cbc0038I Pass  20: suminf.    2.20214 (21) obj. 16.4609 iterations 1\n",
      "Cbc0038I Pass  21: suminf.    3.52000 (20) obj. 15.52 iterations 39\n",
      "Cbc0038I Pass  22: suminf.    1.74889 (7) obj. 16.42 iterations 16\n",
      "Cbc0038I Pass  23: suminf.    1.74889 (7) obj. 16.42 iterations 0\n",
      "Cbc0038I Pass  24: suminf.    1.46091 (4) obj. 16.4609 iterations 12\n",
      "Cbc0038I Pass  25: suminf.    1.30889 (4) obj. 16.42 iterations 10\n",
      "Cbc0038I Pass  26: suminf.    1.30889 (4) obj. 16.42 iterations 0\n",
      "Cbc0038I Pass  27: suminf.    1.46091 (4) obj. 16.4609 iterations 10\n",
      "Cbc0038I Pass  28: suminf.    4.46331 (21) obj. 16.4609 iterations 52\n",
      "Cbc0038I Pass  29: suminf.    3.00867 (13) obj. 16.4609 iterations 33\n",
      "Cbc0038I Pass  30: suminf.    2.88776 (13) obj. 16.42 iterations 7\n",
      "Cbc0038I No solution found this major pass\n",
      "Cbc0038I Before mini branch and bound, 271 integers at bound fixed and 0 continuous\n",
      "Cbc0038I Full problem 59 rows 420 columns, reduced to 56 rows 146 columns\n",
      "Cbc0038I Mini branch and bound improved solution from 18 to 16 (0.26 seconds)\n",
      "Cbc0038I Round again with cutoff of 14.3217\n",
      "Cbc0038I Pass  30: suminf.    8.21336 (35) obj. 14.3217 iterations 15\n",
      "Cbc0038I Pass  31: suminf.    4.22206 (27) obj. 14.3217 iterations 32\n",
      "Cbc0038I Pass  32: suminf.    4.04342 (26) obj. 14.3217 iterations 7\n",
      "Cbc0038I Pass  33: suminf.    3.32313 (23) obj. 14.3217 iterations 17\n",
      "Cbc0038I Pass  34: suminf.    3.32313 (24) obj. 14.3217 iterations 10\n",
      "Cbc0038I Pass  35: suminf.    6.42970 (25) obj. 12.58 iterations 40\n",
      "Cbc0038I Pass  36: suminf.    3.29746 (24) obj. 14.3217 iterations 19\n",
      "Cbc0038I Pass  37: suminf.    4.92364 (24) obj. 13.24 iterations 17\n",
      "Cbc0038I Pass  38: suminf.    6.18824 (30) obj. 14.3217 iterations 81\n",
      "Cbc0038I Pass  39: suminf.    2.61014 (15) obj. 14.3217 iterations 37\n",
      "Cbc0038I Pass  40: suminf.    2.58801 (24) obj. 14.3217 iterations 1\n",
      "Cbc0038I Pass  41: suminf.    7.44346 (34) obj. 11.62 iterations 23\n",
      "Cbc0038I Pass  42: suminf.    1.20920 (7) obj. 14.3217 iterations 31\n",
      "Cbc0038I Pass  43: suminf.    2.31636 (7) obj. 14.16 iterations 6\n",
      "Cbc0038I Pass  44: suminf.    1.60920 (7) obj. 14.3217 iterations 6\n",
      "Cbc0038I Pass  45: suminf.    1.91636 (7) obj. 14.16 iterations 7\n",
      "Cbc0038I Pass  46: suminf.    5.66116 (20) obj. 14.3217 iterations 56\n",
      "Cbc0038I Pass  47: suminf.    2.99787 (9) obj. 13 iterations 46\n",
      "Cbc0038I Pass  48: suminf.    3.00000 (10) obj. 13 iterations 37\n",
      "Cbc0038I Pass  49: suminf.    2.94737 (9) obj. 13 iterations 2\n",
      "Cbc0038I Pass  50: suminf.    2.94737 (9) obj. 13 iterations 3\n",
      "Cbc0038I Pass  51: suminf.    3.00000 (9) obj. 13 iterations 16\n",
      "Cbc0038I Pass  52: suminf.    2.98202 (14) obj. 14 iterations 59\n",
      "Cbc0038I Pass  53: suminf.    1.85584 (9) obj. 14 iterations 43\n",
      "Cbc0038I Pass  54: suminf.    4.22889 (10) obj. 14 iterations 27\n",
      "Cbc0038I Pass  55: suminf.    2.78737 (8) obj. 14 iterations 19\n",
      "Cbc0038I Pass  56: suminf.    2.78737 (8) obj. 14 iterations 1\n",
      "Cbc0038I Pass  57: suminf.    1.88000 (5) obj. 14 iterations 8\n",
      "Cbc0038I Pass  58: suminf.    1.84000 (6) obj. 14 iterations 11\n",
      "Cbc0038I Pass  59: suminf.    6.38457 (26) obj. 14.3217 iterations 67\n",
      "Cbc0038I No solution found this major pass\n",
      "Cbc0038I Before mini branch and bound, 271 integers at bound fixed and 0 continuous\n",
      "Cbc0038I Full problem 59 rows 420 columns, reduced to 57 rows 147 columns\n",
      "Cbc0038I Mini branch and bound did not improve solution (0.36 seconds)\n",
      "Cbc0038I After 0.36 seconds - Feasibility pump exiting with objective of 16 - took 0.28 seconds\n",
      "Cbc0012I Integer solution of 16 found by feasibility pump after 0 iterations and 0 nodes (0.36 seconds)\n",
      "Cbc0038I Full problem 59 rows 420 columns, reduced to 46 rows 60 columns\n",
      "13.0\n",
      "Cbc0012I Integer solution of 13 found by DiveCoefficient after 1504 iterations and 0 nodes (0.63 seconds)\n",
      "Cbc0031I 32 added rows had average density of 12.90625\n",
      "Cbc0013I At root node, 32 cuts changed objective from 11.608155 to 13 in 18 passes\n",
      "Cbc0014I Cut generator 0 (Probing) - 223 row cuts average 6.0 elements, 8 column cuts (8 active)  in 0.037 seconds - new frequency is 1\n",
      "Cbc0014I Cut generator 1 (Gomory) - 38 row cuts average 50.0 elements, 0 column cuts (0 active)  in 0.066 seconds - new frequency is 1\n",
      "Cbc0014I Cut generator 2 (Knapsack) - 151 row cuts average 9.0 elements, 0 column cuts (0 active)  in 0.023 seconds - new frequency is 1\n",
      "Cbc0014I Cut generator 3 (Clique) - 0 row cuts average 0.0 elements, 0 column cuts (0 active)  in 0.007 seconds - new frequency is -100\n",
      "Cbc0014I Cut generator 4 (MixedIntegerRounding2) - 48 row cuts average 17.2 elements, 0 column cuts (0 active)  in 0.017 seconds - new frequency is 1\n",
      "Cbc0014I Cut generator 5 (FlowCover) - 0 row cuts average 0.0 elements, 0 column cuts (0 active)  in 0.000 seconds - new frequency is -100\n",
      "Cbc0014I Cut generator 6 (TwoMirCuts) - 135 row cuts average 101.1 elements, 0 column cuts (0 active)  in 0.052 seconds - new frequency is 1\n",
      "Cbc0001I Search completed - best objective 13, took 1504 iterations and 0 nodes (0.63 seconds)\n",
      "Cbc0035I Maximum depth 0, 0 variables fixed on reduced cost\n",
      "Cuts at root node changed objective from 11.6082 to 13\n",
      "Probing was tried 18 times and created 231 cuts of which 0 were active after adding rounds of cuts (0.037 seconds)\n",
      "Gomory was tried 18 times and created 38 cuts of which 0 were active after adding rounds of cuts (0.066 seconds)\n",
      "Knapsack was tried 18 times and created 151 cuts of which 0 were active after adding rounds of cuts (0.023 seconds)\n",
      "Clique was tried 18 times and created 0 cuts of which 0 were active after adding rounds of cuts (0.007 seconds)\n",
      "MixedIntegerRounding2 was tried 18 times and created 48 cuts of which 0 were active after adding rounds of cuts (0.017 seconds)\n",
      "FlowCover was tried 18 times and created 0 cuts of which 0 were active after adding rounds of cuts (0.000 seconds)\n",
      "TwoMirCuts was tried 18 times and created 135 cuts of which 0 were active after adding rounds of cuts (0.052 seconds)\n",
      "\n",
      "Result - Optimal solution found\n",
      "\n",
      "Objective value:                13.00000000\n",
      "Enumerated nodes:               0\n",
      "Total iterations:               1504\n",
      "Time (CPU seconds):             0.64\n",
      "Time (Wallclock seconds):       0.64\n",
      "\n",
      "Total time (CPU seconds):       0.64   (Wallclock seconds):       0.64\n",
      "\n"
     ]
    }
   ],
   "source": [
    "n = 20\n",
    "V = collect(1:n)\n",
    "B = collect(1:n)\n",
    "C = 50\n",
    "\n",
    "w = [9, 36, 36, 17, 23, 29, 23, 50, 36, 38, 33, 43, 49, 6, 31, 30, 11, 8, 21, 49]\n",
    "println(\"Set of itens: \", V)\n",
    "println(\"Set of boxes: \", B)\n",
    "println(\"Weights: \", w)\n",
    "\n",
    "using Cbc\n",
    "model = Model(with_optimizer(Cbc.Optimizer))\n",
    "\n",
    "@variable(model, x[V,B], Bin)\n",
    "@variable(model, y[V], Bin)\n",
    "\n",
    "@objective(model, Min, sum(y[j] for j in B))\n",
    "\n",
    "@constraint(model, [i in V], sum(x[i,j] for j in B) == 1)\n",
    "@constraint(model, [j in B], sum(w[i]*x[i,j] for i in V) <= C*y[j])\n",
    "@constraint(model, [j=2:n], y[j] <= y[j-1])\n",
    "\n",
    "optimize!(model)\n",
    "\n",
    "println(objective_value(model))"
   ]
  },
  {
   "cell_type": "code",
   "execution_count": 45,
   "metadata": {},
   "outputs": [
    {
     "name": "stdout",
     "output_type": "stream",
     "text": [
      "Write your code here!\n"
     ]
    }
   ],
   "source": [
    "println(\"Write your code here!\")"
   ]
  },
  {
   "cell_type": "markdown",
   "metadata": {},
   "source": [
    "### Problem 3\n",
    "\n",
    "* **Exercise extracted from https://github.com/pedrocastellucci/MathematicalProgrammingCourse/blob/master/examples/Example%2001%20-%20The%20travelling%20salesman%20meets%20Pokemon%20Go.ipynb**\n",
    "\n",
    "[Pokemon Go](https://www.pokemongo.com/it-it/) is a game developed by [Niantic](https://en.wikipedia.org/wiki/Pok%C3%A9mon) which consists of collecting items (or Pokemons) by players through specific placed called Pokestops. Suppose that we have the following Pokestops, represented by their coordinates below.\n",
    "\n",
    "A player wants to leave the Pokestop one, visit all of them and go back to its starting point, with a minimum walking distance. Implement a code in Julia that models and solves this problem.\n",
    "\n",
    "Another way to model this problem is to use the *One-Commodity Formulation*. Let´s implement it! For this purpose, let $x_{ij}$ be a binary variable equal to 1 if we travel by arc $(i,j)$ in the Hamiltonian cycle. We define $f_{ij} \\ge 0$ as the flow in the arc $(i,j)$. Then, the model reads.\n",
    "\n",
    "\\begin{equation}\n",
    "\\min \\sum_{i=1}^n \\sum_{j=1}^n c_{ij}x_{ij}\n",
    "\\end{equation}\n",
    "\n",
    "subject to:\n",
    "\n",
    "\\begin{equation}\n",
    "\\sum_{i=1,i\\neq j}^n x_{ij} = 1, \\quad j=1,...,n\n",
    "\\end{equation}\n",
    "\n",
    "\\begin{equation}\n",
    "\\sum_{j=1,i\\neq j}^n x_{ij} = 1, \\quad i=1,...,n\n",
    "\\end{equation}\n",
    "\n",
    "\\begin{equation}\n",
    "f_{ij} \\le (n-1)x_{ij} \\quad i,j=1,...,n\n",
    "\\end{equation}\n",
    "\n",
    "\\begin{equation}\n",
    "\\sum_{j=1}^n f_{1j} = n-1\n",
    "\\end{equation}\n",
    "\n",
    "\\begin{equation}\n",
    "\\sum_{i=1}^n f_{ij} = \\sum_{k=1}^n f_{jk} + 1 \\quad j=2,...,n\n",
    "\\end{equation}\n",
    "\n",
    "\\begin{equation}\n",
    "x_{ij} \\in \\{0,1\\} \\quad i,j=1,...,n\n",
    "\\end{equation}\n",
    "\n",
    "\\begin{equation}\n",
    "0 \\le f_{ij} \\le n-1 \\quad i=1,...,n\n",
    "\\end{equation}\n",
    "\n",
    "Using the following data, implement a code in Julia + JuMP that solves this problem."
   ]
  },
  {
   "cell_type": "code",
   "execution_count": 46,
   "metadata": {},
   "outputs": [],
   "source": [
    "Pokestops = Dict(\n",
    "    1 => (523, 418),\n",
    "    2 => (527, 566),\n",
    "    3 => (435, 603),\n",
    "    4 => (386, 660),\n",
    "    5 => (346, 692),\n",
    "    6 => (431, 730),\n",
    "    7 => (419, 818),\n",
    "    8 => (389, 892),\n",
    "    9 => (384, 902),\n",
    "    10 => (383, 913),\n",
    "    11 => (347, 520),\n",
    "    12 => (332, 330),\n",
    "    13 => (165, 374),\n",
    "    14 => (196, 198),\n",
    "    15 => (187, 108),\n",
    "    16 => (210, 63)\n",
    ")\n",
    ";"
   ]
  },
  {
   "cell_type": "code",
   "execution_count": 47,
   "metadata": {},
   "outputs": [],
   "source": [
    "# Number of points\n",
    "n = 16\n",
    "\n",
    "# Euclidian distance\n",
    "EucD(x,y) = sqrt((x[1] - y[1])^2 + (x[2] - y[2])^2)\n",
    "\n",
    "# Cost matrix\n",
    "c = [EucD(Pokestops[i],Pokestops[j]) for i=1:n, j=1:n]\n",
    ";"
   ]
  },
  {
   "cell_type": "markdown",
   "metadata": {},
   "source": [
    "Write your JuMP model below."
   ]
  },
  {
   "cell_type": "code",
   "execution_count": 48,
   "metadata": {},
   "outputs": [
    {
     "name": "stdout",
     "output_type": "stream",
     "text": [
      "Write here!\n",
      "Set your model to run at most 180s, with 1 single thread.\n"
     ]
    }
   ],
   "source": [
    "println(\"Write here!\")\n",
    "println(\"Set your model to run at most 180s, with 1 single thread.\")"
   ]
  }
 ],
 "metadata": {
  "kernelspec": {
   "display_name": "Julia 1.1.0",
   "language": "julia",
   "name": "julia-1.1"
  },
  "language_info": {
   "file_extension": ".jl",
   "mimetype": "application/julia",
   "name": "julia",
   "version": "1.1.0"
  }
 },
 "nbformat": 4,
 "nbformat_minor": 2
}

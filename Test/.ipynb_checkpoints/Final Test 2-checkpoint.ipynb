{
 "cells": [
  {
   "cell_type": "markdown",
   "metadata": {},
   "source": [
    "# On modelling optimization problems via Julia JuMP\n",
    "\n",
    "## Prof. Mayron César O. Moreira \n",
    "\n",
    "**Universidade Federal de Lavras (UFLA)**  \n",
    "**Department of Computer Science**  \n",
    "**Lavras, Minas Gerais, Brazil**  \n",
    "\n",
    "*Università degli Studi di Modena e Reggio Emilia (UNIMORE)*  \n",
    "*Reggio Emilia, Italy*"
   ]
  },
  {
   "cell_type": "markdown",
   "metadata": {},
   "source": [
    "## Final Test\n",
    "\n",
    "In groups of $x$ students, where $2 \\le x \\le 3$, solve the following problems using Julia and JuMP.\n",
    "\n",
    "Since the group finishes, it must send the notebook with the answers to mayron.moreira@ufla.br **and** Manuel.iori@unimore.it.\n",
    "\n",
    "One member of the group will send the e-mail, and in the body of the message, indicates that students that make part of your group."
   ]
  },
  {
   "cell_type": "markdown",
   "metadata": {},
   "source": [
    "### Problem 1\n",
    "\n",
    "Moe is deciding how many Regular Duffs and Special Duffs he needs to deliver in each week. The Regular Duff costs to Moe \\\\$1 for each bottle, and he sells it by \\\\$2. Special Duff costs \\\\$1.5 for each bottle, and he sells it by \\\\$3. However, as part of a controversial marketing strategy, the Duff company only sells one Special Duff bottle for at least two bottles of Regular Duff that Moe buys. Moreover, due to some problems happened some years ago, Duff will not sell to MOe more than 3.000 bottles by week. According to his experience, Moe knows that he can sell all the beers that we can buy. Now, it is your turn: **implement a mathematical model** using Julia and JuMP, that helps Moe to decide how many Regular Duffs and Special Duffs he must buy to optimize his profit."
   ]
  },
  {
   "cell_type": "code",
   "execution_count": null,
   "metadata": {},
   "outputs": [],
   "source": []
  },
  {
   "cell_type": "code",
   "execution_count": 5,
   "metadata": {},
   "outputs": [
    {
     "name": "stdout",
     "output_type": "stream",
     "text": [
      "Write your code here!\n"
     ]
    }
   ],
   "source": [
    "println(\"Write your code here!\")"
   ]
  },
  {
   "cell_type": "markdown",
   "metadata": {},
   "source": [
    "### Problem 2\n",
    "\n",
    "Let´s consider the binary knapsack problem with $n$ items with values $v_i$ and weights $w_i$, $i=1,...,n$. The knapsack has its capacity equal to $K$. Suppose now that we include flexibility in this problem such that we can buy if it is the case, a second knapsack with a maximum capacity of $K1$ and cost $c$. Write a Julia + JuMP code that maximizes: the sum of the values corresponding to the selected items, subtracted from the cost of the second knapsack, if it is used.\n",
    "\n",
    "**Hint**: look for *the binary knapsack problem formulation* and adapt it. As follows, we have the parameters that must be used in the mathematical formulation."
   ]
  },
  {
   "cell_type": "code",
   "execution_count": 2,
   "metadata": {},
   "outputs": [
    {
     "name": "stdout",
     "output_type": "stream",
     "text": [
      "Number of itens: 20\n",
      "Capacity of the original knapsack: 50\n",
      "Capacity of the additional knapsack: 30\n",
      "Additional cost to buy the new knapsack: 200\n",
      "Weights: [9, 36, 36, 17, 23, 29, 23, 50, 36, 38, 33, 43, 49, 6, 31, 30, 11, 8, 21, 49]\n",
      "Values: [40, 64, 11, 84, 47, 34, 97, 22, 29, 58, 25, 72, 89, 68, 98, 94, 50, 63, 35, 32]\n"
     ]
    }
   ],
   "source": [
    "# Additional cost to buy the new knapsack\n",
    "c = 200\n",
    "\n",
    "# Number of items\n",
    "n = 20\n",
    "\n",
    "# Original capacity\n",
    "K = 50\n",
    "\n",
    "# Capacity of the additional knapsack\n",
    "K1 = 30\n",
    "\n",
    "v = [40, 64, 11, 84, 47, 34, 97, 22, 29, 58, 25, 72, 89, 68, 98, 94, 50, 63, 35, 32]\n",
    "w = [9, 36, 36, 17, 23, 29, 23, 50, 36, 38, 33, 43, 49, 6, 31, 30, 11, 8, 21, 49]\n",
    "\n",
    "println(\"Number of itens: \", n)\n",
    "println(\"Capacity of the original knapsack: \", K)\n",
    "println(\"Capacity of the additional knapsack: \", K1)\n",
    "println(\"Additional cost to buy the new knapsack: \", c)\n",
    "println(\"Weights: \", w)\n",
    "println(\"Values: \", v)"
   ]
  },
  {
   "cell_type": "code",
   "execution_count": 7,
   "metadata": {},
   "outputs": [
    {
     "name": "stdout",
     "output_type": "stream",
     "text": [
      "Write your code here!\n"
     ]
    }
   ],
   "source": [
    "println(\"Write your code here!\")"
   ]
  },
  {
   "cell_type": "markdown",
   "metadata": {},
   "source": [
    "### Problem 3\n",
    "\n",
    "* **Exercise extracted from https://github.com/pedrocastellucci/MathematicalProgrammingCourse/blob/master/examples/Example%2001%20-%20The%20travelling%20salesman%20meets%20Pokemon%20Go.ipynb**\n",
    "\n",
    "[Pokemon Go](https://www.pokemongo.com/it-it/) is a game developed by [Niantic](https://en.wikipedia.org/wiki/Pok%C3%A9mon) which consists of collecting items (or Pokemons) by players through specific placed called Pokestops. Suppose that we have the following Pokestops, represented by their coordinates below.\n",
    "\n",
    "A player wants to leave the Pokestop one, visit all of them and go back to its starting point, with a minimum walking distance. Implement a code in Julia that models and solves this problem.\n",
    "\n",
    "Another way to model this problem is to use the *One-Commodity Formulation*. Let´s implement it! For this purpose, let $x_{ij}$ be a binary variable equal to 1 if we travel by arc $(i,j)$ in the Hamiltonian cycle. We define $f_{ij} \\ge 0$ as the flow in the arc $(i,j)$. Then, the model reads.\n",
    "\n",
    "\\begin{equation}\n",
    "\\min \\sum_{i=1}^n \\sum_{j=1}^n c_{ij}x_{ij}\n",
    "\\end{equation}\n",
    "\n",
    "subject to:\n",
    "\n",
    "\\begin{equation}\n",
    "\\sum_{i=1,i\\neq j}^n x_{ij} = 1, \\quad j=1,...,n\n",
    "\\end{equation}\n",
    "\n",
    "\\begin{equation}\n",
    "\\sum_{j=1,i\\neq j}^n x_{ij} = 1, \\quad i=1,...,n\n",
    "\\end{equation}\n",
    "\n",
    "\\begin{equation}\n",
    "f_{ij} \\le (n-1)x_{ij} \\quad i,j=1,...,n\n",
    "\\end{equation}\n",
    "\n",
    "\\begin{equation}\n",
    "\\sum_{j=1}^n f_{1j} = n-1\n",
    "\\end{equation}\n",
    "\n",
    "\\begin{equation}\n",
    "\\sum_{i=1}^n f_{ij} = \\sum_{k=1}^n f_{jk} + 1 \\quad j=2,...,n\n",
    "\\end{equation}\n",
    "\n",
    "\\begin{equation}\n",
    "x_{ij} \\in \\{0,1\\} \\quad i,j=1,...,n\n",
    "\\end{equation}\n",
    "\n",
    "\\begin{equation}\n",
    "0 \\le f_{ij} \\le n-1 \\quad i=1,...,n\n",
    "\\end{equation}\n",
    "\n",
    "Using the following data, implement a code in Julia + JuMP that solves this problem."
   ]
  },
  {
   "cell_type": "code",
   "execution_count": 12,
   "metadata": {},
   "outputs": [],
   "source": [
    "Pokestops = Dict(\n",
    "    1 => (523, 418),\n",
    "    2 => (527, 566),\n",
    "    3 => (435, 603),\n",
    "    4 => (386, 660),\n",
    "    5 => (346, 692),\n",
    "    6 => (431, 730),\n",
    "    7 => (419, 818),\n",
    "    8 => (389, 892),\n",
    "    9 => (384, 902),\n",
    "    10 => (383, 913),\n",
    "    11 => (347, 520),\n",
    "    12 => (332, 330),\n",
    "    13 => (165, 374),\n",
    "    14 => (196, 198),\n",
    "    15 => (187, 108),\n",
    "    16 => (210, 63)\n",
    ")\n",
    ";"
   ]
  },
  {
   "cell_type": "code",
   "execution_count": 13,
   "metadata": {},
   "outputs": [],
   "source": [
    "# Number of points\n",
    "n = 16\n",
    "\n",
    "# Euclidian distance\n",
    "EucD(x,y) = sqrt((x[1] - y[1])^2 + (x[2] - y[2])^2)\n",
    "\n",
    "# Cost matrix\n",
    "c = [EucD(Pokestops[i],Pokestops[j]) for i=1:n, j=1:n]\n",
    ";"
   ]
  },
  {
   "cell_type": "markdown",
   "metadata": {},
   "source": [
    "Write your JuMP model below."
   ]
  },
  {
   "cell_type": "code",
   "execution_count": 14,
   "metadata": {},
   "outputs": [
    {
     "name": "stdout",
     "output_type": "stream",
     "text": [
      "Write here!\n",
      "Set your model to run at most 180s, with 1 single thread.\n"
     ]
    }
   ],
   "source": [
    "println(\"Write here!\")\n",
    "println(\"Set your model to run at most 180s, with 1 single thread.\")"
   ]
  },
  {
   "cell_type": "code",
   "execution_count": null,
   "metadata": {},
   "outputs": [],
   "source": []
  }
 ],
 "metadata": {
  "kernelspec": {
   "display_name": "Julia 1.1.0",
   "language": "julia",
   "name": "julia-1.1"
  },
  "language_info": {
   "file_extension": ".jl",
   "mimetype": "application/julia",
   "name": "julia",
   "version": "1.1.0"
  }
 },
 "nbformat": 4,
 "nbformat_minor": 2
}
